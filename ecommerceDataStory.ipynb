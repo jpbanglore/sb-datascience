{
 "cells": [
  {
   "cell_type": "code",
   "execution_count": 3,
   "metadata": {},
   "outputs": [],
   "source": [
    "%matplotlib inline\n",
    "import pandas as pd\n",
    "import numpy as np\n",
    "import seaborn as sns\n",
    "import matplotlib.pyplot as plt"
   ]
  },
  {
   "cell_type": "code",
   "execution_count": 4,
   "metadata": {},
   "outputs": [],
   "source": [
    "#read october data\n",
    "dataoct = pd.read_csv('ecommerce/2019-Oct.csv')"
   ]
  },
  {
   "cell_type": "code",
   "execution_count": 5,
   "metadata": {},
   "outputs": [
    {
     "name": "stdout",
     "output_type": "stream",
     "text": [
      "<class 'pandas.core.frame.DataFrame'>\n",
      "RangeIndex: 4102283 entries, 0 to 4102282\n",
      "Data columns (total 9 columns):\n",
      "event_time       object\n",
      "event_type       object\n",
      "product_id       int64\n",
      "category_id      int64\n",
      "category_code    object\n",
      "brand            object\n",
      "price            float64\n",
      "user_id          int64\n",
      "user_session     object\n",
      "dtypes: float64(1), int64(3), object(5)\n",
      "memory usage: 281.7+ MB\n"
     ]
    }
   ],
   "source": [
    "#check the columns of the imported data\n",
    "dataoct.info()"
   ]
  },
  {
   "cell_type": "code",
   "execution_count": 6,
   "metadata": {},
   "outputs": [
    {
     "data": {
      "text/plain": [
       "(4102283, 9)"
      ]
     },
     "execution_count": 6,
     "metadata": {},
     "output_type": "execute_result"
    }
   ],
   "source": [
    "dataoct.shape"
   ]
  },
  {
   "cell_type": "code",
   "execution_count": 7,
   "metadata": {},
   "outputs": [],
   "source": [
    "#load Nov dataset\n",
    "datanov = pd.read_csv('ecommerce/2019-Nov.csv')"
   ]
  },
  {
   "cell_type": "code",
   "execution_count": 8,
   "metadata": {},
   "outputs": [
    {
     "data": {
      "text/plain": [
       "(4635837, 9)"
      ]
     },
     "execution_count": 8,
     "metadata": {},
     "output_type": "execute_result"
    }
   ],
   "source": [
    "datanov.shape"
   ]
  },
  {
   "cell_type": "code",
   "execution_count": 9,
   "metadata": {},
   "outputs": [
    {
     "name": "stdout",
     "output_type": "stream",
     "text": [
      "<class 'pandas.core.frame.DataFrame'>\n",
      "RangeIndex: 4635837 entries, 0 to 4635836\n",
      "Data columns (total 9 columns):\n",
      "event_time       object\n",
      "event_type       object\n",
      "product_id       int64\n",
      "category_id      int64\n",
      "category_code    object\n",
      "brand            object\n",
      "price            float64\n",
      "user_id          int64\n",
      "user_session     object\n",
      "dtypes: float64(1), int64(3), object(5)\n",
      "memory usage: 318.3+ MB\n"
     ]
    }
   ],
   "source": [
    "datanov.info()"
   ]
  },
  {
   "cell_type": "code",
   "execution_count": 10,
   "metadata": {},
   "outputs": [],
   "source": [
    "#convert into right data types\n",
    "dataoct['event_type'] = dataoct['event_type'].astype('category')"
   ]
  },
  {
   "cell_type": "code",
   "execution_count": 11,
   "metadata": {},
   "outputs": [],
   "source": [
    "dataoct['event_time'] = pd.to_datetime(dataoct['event_time'], errors='ignore', infer_datetime_format=True) \n"
   ]
  },
  {
   "cell_type": "code",
   "execution_count": 12,
   "metadata": {},
   "outputs": [],
   "source": [
    "dataoct['category_code'] = dataoct['category_code'].astype('category', errors='ignore')"
   ]
  },
  {
   "cell_type": "code",
   "execution_count": 13,
   "metadata": {},
   "outputs": [
    {
     "data": {
      "text/plain": [
       "event_time       datetime64[ns]\n",
       "event_type             category\n",
       "product_id                int64\n",
       "category_id               int64\n",
       "category_code          category\n",
       "brand                    object\n",
       "price                   float64\n",
       "user_id                   int64\n",
       "user_session             object\n",
       "dtype: object"
      ]
     },
     "execution_count": 13,
     "metadata": {},
     "output_type": "execute_result"
    }
   ],
   "source": [
    "dataoct.dtypes"
   ]
  },
  {
   "cell_type": "code",
   "execution_count": 14,
   "metadata": {},
   "outputs": [],
   "source": [
    "datanov['event_type'] = datanov['event_type'].astype('category')"
   ]
  },
  {
   "cell_type": "code",
   "execution_count": 15,
   "metadata": {},
   "outputs": [],
   "source": [
    "datanov['category_code'] = datanov['category_code'].astype('category', errors='ignore')"
   ]
  },
  {
   "cell_type": "code",
   "execution_count": 16,
   "metadata": {},
   "outputs": [],
   "source": [
    "datanov['event_time'] = pd.to_datetime(datanov.event_time, errors='ignore', infer_datetime_format=True)"
   ]
  },
  {
   "cell_type": "code",
   "execution_count": 17,
   "metadata": {},
   "outputs": [
    {
     "name": "stdout",
     "output_type": "stream",
     "text": [
      "<class 'pandas.core.frame.DataFrame'>\n",
      "RangeIndex: 4635837 entries, 0 to 4635836\n",
      "Data columns (total 9 columns):\n",
      "event_time       datetime64[ns]\n",
      "event_type       category\n",
      "product_id       int64\n",
      "category_id      int64\n",
      "category_code    category\n",
      "brand            object\n",
      "price            float64\n",
      "user_id          int64\n",
      "user_session     object\n",
      "dtypes: category(2), datetime64[ns](1), float64(1), int64(3), object(2)\n",
      "memory usage: 256.4+ MB\n"
     ]
    }
   ],
   "source": [
    "datanov.info()"
   ]
  },
  {
   "cell_type": "code",
   "execution_count": 18,
   "metadata": {},
   "outputs": [
    {
     "data": {
      "text/html": [
       "<div>\n",
       "<style scoped>\n",
       "    .dataframe tbody tr th:only-of-type {\n",
       "        vertical-align: middle;\n",
       "    }\n",
       "\n",
       "    .dataframe tbody tr th {\n",
       "        vertical-align: top;\n",
       "    }\n",
       "\n",
       "    .dataframe thead th {\n",
       "        text-align: right;\n",
       "    }\n",
       "</style>\n",
       "<table border=\"1\" class=\"dataframe\">\n",
       "  <thead>\n",
       "    <tr style=\"text-align: right;\">\n",
       "      <th></th>\n",
       "      <th>event_time</th>\n",
       "      <th>event_type</th>\n",
       "      <th>product_id</th>\n",
       "      <th>category_id</th>\n",
       "      <th>category_code</th>\n",
       "      <th>brand</th>\n",
       "      <th>price</th>\n",
       "      <th>user_id</th>\n",
       "      <th>user_session</th>\n",
       "    </tr>\n",
       "  </thead>\n",
       "  <tbody>\n",
       "    <tr>\n",
       "      <td>12</td>\n",
       "      <td>2019-10-01 00:00:30</td>\n",
       "      <td>remove_from_cart</td>\n",
       "      <td>5809103</td>\n",
       "      <td>1487580013522845895</td>\n",
       "      <td>NaN</td>\n",
       "      <td>irisk</td>\n",
       "      <td>0.60</td>\n",
       "      <td>429681830</td>\n",
       "      <td>49e8d843-adf3-428b-a2c3-fe8bc6a307c9</td>\n",
       "    </tr>\n",
       "    <tr>\n",
       "      <td>13</td>\n",
       "      <td>2019-10-01 00:00:30</td>\n",
       "      <td>remove_from_cart</td>\n",
       "      <td>5809103</td>\n",
       "      <td>1487580013522845895</td>\n",
       "      <td>NaN</td>\n",
       "      <td>irisk</td>\n",
       "      <td>0.60</td>\n",
       "      <td>429681830</td>\n",
       "      <td>49e8d843-adf3-428b-a2c3-fe8bc6a307c9</td>\n",
       "    </tr>\n",
       "    <tr>\n",
       "      <td>29</td>\n",
       "      <td>2019-10-01 00:01:05</td>\n",
       "      <td>remove_from_cart</td>\n",
       "      <td>5858981</td>\n",
       "      <td>1487580007634043851</td>\n",
       "      <td>NaN</td>\n",
       "      <td>de.lux</td>\n",
       "      <td>0.79</td>\n",
       "      <td>429681830</td>\n",
       "      <td>49e8d843-adf3-428b-a2c3-fe8bc6a307c9</td>\n",
       "    </tr>\n",
       "    <tr>\n",
       "      <td>30</td>\n",
       "      <td>2019-10-01 00:01:05</td>\n",
       "      <td>remove_from_cart</td>\n",
       "      <td>5858981</td>\n",
       "      <td>1487580007634043851</td>\n",
       "      <td>NaN</td>\n",
       "      <td>de.lux</td>\n",
       "      <td>0.79</td>\n",
       "      <td>429681830</td>\n",
       "      <td>49e8d843-adf3-428b-a2c3-fe8bc6a307c9</td>\n",
       "    </tr>\n",
       "    <tr>\n",
       "      <td>34</td>\n",
       "      <td>2019-10-01 00:01:07</td>\n",
       "      <td>remove_from_cart</td>\n",
       "      <td>5312</td>\n",
       "      <td>1487580009471148064</td>\n",
       "      <td>NaN</td>\n",
       "      <td>runail</td>\n",
       "      <td>1.27</td>\n",
       "      <td>467916806</td>\n",
       "      <td>2f5b5546-b8cb-9ee7-7ecd-84276f8ef486</td>\n",
       "    </tr>\n",
       "    <tr>\n",
       "      <td>36</td>\n",
       "      <td>2019-10-01 00:01:07</td>\n",
       "      <td>remove_from_cart</td>\n",
       "      <td>5312</td>\n",
       "      <td>1487580009471148064</td>\n",
       "      <td>NaN</td>\n",
       "      <td>runail</td>\n",
       "      <td>1.27</td>\n",
       "      <td>467916806</td>\n",
       "      <td>2f5b5546-b8cb-9ee7-7ecd-84276f8ef486</td>\n",
       "    </tr>\n",
       "    <tr>\n",
       "      <td>37</td>\n",
       "      <td>2019-10-01 00:01:10</td>\n",
       "      <td>remove_from_cart</td>\n",
       "      <td>5823915</td>\n",
       "      <td>1487580007432717250</td>\n",
       "      <td>NaN</td>\n",
       "      <td>milv</td>\n",
       "      <td>1.59</td>\n",
       "      <td>429681830</td>\n",
       "      <td>49e8d843-adf3-428b-a2c3-fe8bc6a307c9</td>\n",
       "    </tr>\n",
       "    <tr>\n",
       "      <td>38</td>\n",
       "      <td>2019-10-01 00:01:10</td>\n",
       "      <td>remove_from_cart</td>\n",
       "      <td>5823915</td>\n",
       "      <td>1487580007432717250</td>\n",
       "      <td>NaN</td>\n",
       "      <td>milv</td>\n",
       "      <td>1.59</td>\n",
       "      <td>429681830</td>\n",
       "      <td>49e8d843-adf3-428b-a2c3-fe8bc6a307c9</td>\n",
       "    </tr>\n",
       "    <tr>\n",
       "      <td>50</td>\n",
       "      <td>2019-10-01 00:01:24</td>\n",
       "      <td>remove_from_cart</td>\n",
       "      <td>5664641</td>\n",
       "      <td>1487580011425693811</td>\n",
       "      <td>NaN</td>\n",
       "      <td>NaN</td>\n",
       "      <td>0.70</td>\n",
       "      <td>429681830</td>\n",
       "      <td>49e8d843-adf3-428b-a2c3-fe8bc6a307c9</td>\n",
       "    </tr>\n",
       "    <tr>\n",
       "      <td>51</td>\n",
       "      <td>2019-10-01 00:01:24</td>\n",
       "      <td>remove_from_cart</td>\n",
       "      <td>5664641</td>\n",
       "      <td>1487580011425693811</td>\n",
       "      <td>NaN</td>\n",
       "      <td>NaN</td>\n",
       "      <td>0.70</td>\n",
       "      <td>429681830</td>\n",
       "      <td>49e8d843-adf3-428b-a2c3-fe8bc6a307c9</td>\n",
       "    </tr>\n",
       "  </tbody>\n",
       "</table>\n",
       "</div>"
      ],
      "text/plain": [
       "            event_time        event_type  product_id          category_id  \\\n",
       "12 2019-10-01 00:00:30  remove_from_cart     5809103  1487580013522845895   \n",
       "13 2019-10-01 00:00:30  remove_from_cart     5809103  1487580013522845895   \n",
       "29 2019-10-01 00:01:05  remove_from_cart     5858981  1487580007634043851   \n",
       "30 2019-10-01 00:01:05  remove_from_cart     5858981  1487580007634043851   \n",
       "34 2019-10-01 00:01:07  remove_from_cart        5312  1487580009471148064   \n",
       "36 2019-10-01 00:01:07  remove_from_cart        5312  1487580009471148064   \n",
       "37 2019-10-01 00:01:10  remove_from_cart     5823915  1487580007432717250   \n",
       "38 2019-10-01 00:01:10  remove_from_cart     5823915  1487580007432717250   \n",
       "50 2019-10-01 00:01:24  remove_from_cart     5664641  1487580011425693811   \n",
       "51 2019-10-01 00:01:24  remove_from_cart     5664641  1487580011425693811   \n",
       "\n",
       "   category_code   brand  price    user_id  \\\n",
       "12           NaN   irisk   0.60  429681830   \n",
       "13           NaN   irisk   0.60  429681830   \n",
       "29           NaN  de.lux   0.79  429681830   \n",
       "30           NaN  de.lux   0.79  429681830   \n",
       "34           NaN  runail   1.27  467916806   \n",
       "36           NaN  runail   1.27  467916806   \n",
       "37           NaN    milv   1.59  429681830   \n",
       "38           NaN    milv   1.59  429681830   \n",
       "50           NaN     NaN   0.70  429681830   \n",
       "51           NaN     NaN   0.70  429681830   \n",
       "\n",
       "                            user_session  \n",
       "12  49e8d843-adf3-428b-a2c3-fe8bc6a307c9  \n",
       "13  49e8d843-adf3-428b-a2c3-fe8bc6a307c9  \n",
       "29  49e8d843-adf3-428b-a2c3-fe8bc6a307c9  \n",
       "30  49e8d843-adf3-428b-a2c3-fe8bc6a307c9  \n",
       "34  2f5b5546-b8cb-9ee7-7ecd-84276f8ef486  \n",
       "36  2f5b5546-b8cb-9ee7-7ecd-84276f8ef486  \n",
       "37  49e8d843-adf3-428b-a2c3-fe8bc6a307c9  \n",
       "38  49e8d843-adf3-428b-a2c3-fe8bc6a307c9  \n",
       "50  49e8d843-adf3-428b-a2c3-fe8bc6a307c9  \n",
       "51  49e8d843-adf3-428b-a2c3-fe8bc6a307c9  "
      ]
     },
     "execution_count": 18,
     "metadata": {},
     "output_type": "execute_result"
    }
   ],
   "source": [
    "#drop duplicate rows. first check the rows that are duplicate\n",
    "dataoct[dataoct.duplicated(keep=False)].head(10)"
   ]
  },
  {
   "cell_type": "code",
   "execution_count": 19,
   "metadata": {},
   "outputs": [],
   "source": [
    "dataoct1 = dataoct.drop_duplicates()"
   ]
  },
  {
   "cell_type": "code",
   "execution_count": 20,
   "metadata": {},
   "outputs": [
    {
     "data": {
      "text/plain": [
       "(3889128, 9)"
      ]
     },
     "execution_count": 20,
     "metadata": {},
     "output_type": "execute_result"
    }
   ],
   "source": [
    "dataoct1.shape"
   ]
  },
  {
   "cell_type": "code",
   "execution_count": 21,
   "metadata": {},
   "outputs": [],
   "source": [
    "#find missing values in columns \n",
    "assert dataoct1.event_time.notnull().all()\n"
   ]
  },
  {
   "cell_type": "code",
   "execution_count": 22,
   "metadata": {},
   "outputs": [],
   "source": [
    "assert dataoct1.event_type.notnull().all()"
   ]
  },
  {
   "cell_type": "code",
   "execution_count": 23,
   "metadata": {},
   "outputs": [],
   "source": [
    "assert dataoct1.product_id.notnull().all()"
   ]
  },
  {
   "cell_type": "code",
   "execution_count": 24,
   "metadata": {},
   "outputs": [],
   "source": [
    "assert dataoct1.category_id.notnull().all()"
   ]
  },
  {
   "cell_type": "code",
   "execution_count": 25,
   "metadata": {},
   "outputs": [
    {
     "ename": "AssertionError",
     "evalue": "",
     "output_type": "error",
     "traceback": [
      "\u001b[1;31m---------------------------------------------------------------------------\u001b[0m",
      "\u001b[1;31mAssertionError\u001b[0m                            Traceback (most recent call last)",
      "\u001b[1;32m<ipython-input-25-b2666e96c279>\u001b[0m in \u001b[0;36m<module>\u001b[1;34m\u001b[0m\n\u001b[1;32m----> 1\u001b[1;33m \u001b[1;32massert\u001b[0m \u001b[0mdataoct1\u001b[0m\u001b[1;33m.\u001b[0m\u001b[0mcategory_code\u001b[0m\u001b[1;33m.\u001b[0m\u001b[0mnotnull\u001b[0m\u001b[1;33m(\u001b[0m\u001b[1;33m)\u001b[0m\u001b[1;33m.\u001b[0m\u001b[0mall\u001b[0m\u001b[1;33m(\u001b[0m\u001b[1;33m)\u001b[0m \u001b[1;31m#this gives an error which means there are null values\u001b[0m\u001b[1;33m\u001b[0m\u001b[1;33m\u001b[0m\u001b[0m\n\u001b[0m",
      "\u001b[1;31mAssertionError\u001b[0m: "
     ]
    }
   ],
   "source": [
    "assert dataoct1.category_code.notnull().all() #this gives an error which means there are null values"
   ]
  },
  {
   "cell_type": "code",
   "execution_count": 26,
   "metadata": {},
   "outputs": [],
   "source": [
    "#check that price does not have null values\n",
    "assert pd.notnull(dataoct1.price).all()"
   ]
  },
  {
   "cell_type": "code",
   "execution_count": 27,
   "metadata": {},
   "outputs": [
    {
     "ename": "AssertionError",
     "evalue": "",
     "output_type": "error",
     "traceback": [
      "\u001b[1;31m---------------------------------------------------------------------------\u001b[0m",
      "\u001b[1;31mAssertionError\u001b[0m                            Traceback (most recent call last)",
      "\u001b[1;32m<ipython-input-27-53c1a1a1323f>\u001b[0m in \u001b[0;36m<module>\u001b[1;34m\u001b[0m\n\u001b[1;32m----> 1\u001b[1;33m \u001b[1;32massert\u001b[0m \u001b[0mdataoct1\u001b[0m\u001b[1;33m.\u001b[0m\u001b[0muser_session\u001b[0m\u001b[1;33m.\u001b[0m\u001b[0mnotnull\u001b[0m\u001b[1;33m(\u001b[0m\u001b[1;33m)\u001b[0m\u001b[1;33m.\u001b[0m\u001b[0mall\u001b[0m\u001b[1;33m(\u001b[0m\u001b[1;33m)\u001b[0m\u001b[1;33m.\u001b[0m\u001b[0mall\u001b[0m\u001b[1;33m(\u001b[0m\u001b[1;33m)\u001b[0m\u001b[1;33m\u001b[0m\u001b[1;33m\u001b[0m\u001b[0m\n\u001b[0m",
      "\u001b[1;31mAssertionError\u001b[0m: "
     ]
    }
   ],
   "source": [
    "assert dataoct1.user_session.notnull().all().all()"
   ]
  },
  {
   "cell_type": "code",
   "execution_count": 28,
   "metadata": {},
   "outputs": [
    {
     "data": {
      "text/plain": [
       "574"
      ]
     },
     "execution_count": 28,
     "metadata": {},
     "output_type": "execute_result"
    }
   ],
   "source": [
    "# find how many null sessions are there\n",
    "len(dataoct1[dataoct1.user_session.isnull()])"
   ]
  },
  {
   "cell_type": "code",
   "execution_count": 29,
   "metadata": {},
   "outputs": [
    {
     "ename": "AssertionError",
     "evalue": "",
     "output_type": "error",
     "traceback": [
      "\u001b[1;31m---------------------------------------------------------------------------\u001b[0m",
      "\u001b[1;31mAssertionError\u001b[0m                            Traceback (most recent call last)",
      "\u001b[1;32m<ipython-input-29-544d32505fd6>\u001b[0m in \u001b[0;36m<module>\u001b[1;34m\u001b[0m\n\u001b[1;32m----> 1\u001b[1;33m \u001b[1;32massert\u001b[0m \u001b[0mdataoct1\u001b[0m\u001b[1;33m.\u001b[0m\u001b[0mbrand\u001b[0m\u001b[1;33m.\u001b[0m\u001b[0mnotnull\u001b[0m\u001b[1;33m(\u001b[0m\u001b[1;33m)\u001b[0m\u001b[1;33m.\u001b[0m\u001b[0mall\u001b[0m\u001b[1;33m(\u001b[0m\u001b[1;33m)\u001b[0m\u001b[1;33m.\u001b[0m\u001b[0mall\u001b[0m\u001b[1;33m(\u001b[0m\u001b[1;33m)\u001b[0m \u001b[1;31m#has null values\u001b[0m\u001b[1;33m\u001b[0m\u001b[1;33m\u001b[0m\u001b[0m\n\u001b[0m",
      "\u001b[1;31mAssertionError\u001b[0m: "
     ]
    }
   ],
   "source": [
    "assert dataoct1.brand.notnull().all().all() #has null values"
   ]
  },
  {
   "cell_type": "code",
   "execution_count": 30,
   "metadata": {},
   "outputs": [
    {
     "data": {
      "text/plain": [
       "NaN        1571314\n",
       "runail      287149\n",
       "irisk       213301\n",
       "masura      182845\n",
       "grattol     125856\n",
       "            ...   \n",
       "gena             2\n",
       "dessata          2\n",
       "shifei           1\n",
       "pueen            1\n",
       "ikoo             1\n",
       "Name: brand, Length: 241, dtype: int64"
      ]
     },
     "execution_count": 30,
     "metadata": {},
     "output_type": "execute_result"
    }
   ],
   "source": [
    "#find the null brand count - it is huge\n",
    "dataoct1.brand.value_counts(dropna=False)"
   ]
  },
  {
   "cell_type": "code",
   "execution_count": 31,
   "metadata": {},
   "outputs": [
    {
     "data": {
      "text/plain": [
       "dee05e29-f331-48dc-b1b3-547985fc2aa4    1486\n",
       "e8d6736d-0247-4d1a-ae3b-6e6637288e37    1156\n",
       "346dd83e-e8f0-69df-085a-0cf4a806d70d     959\n",
       "a71b67a2-7826-4853-af0d-fa06e3734374     879\n",
       "d7998d70-7562-4ff0-8870-5ace290db2c9     857\n",
       "                                        ... \n",
       "748f4504-219f-45ec-9945-407d9b30c1ad       1\n",
       "76b49758-c6b0-4000-ac9e-67b0affa2b60       1\n",
       "e573d1f8-a556-4ddd-909b-07db2e23af34       1\n",
       "a0a1af80-d18b-4c09-b3a3-3fcb122633e1       1\n",
       "c4f5c86c-f4e9-426b-97f1-8d4855723922       1\n",
       "Name: user_session, Length: 873961, dtype: int64"
      ]
     },
     "execution_count": 31,
     "metadata": {},
     "output_type": "execute_result"
    }
   ],
   "source": [
    "dataoct1.user_session.value_counts(dropna=False)"
   ]
  },
  {
   "cell_type": "code",
   "execution_count": 32,
   "metadata": {},
   "outputs": [
    {
     "data": {
      "text/html": [
       "<div>\n",
       "<style scoped>\n",
       "    .dataframe tbody tr th:only-of-type {\n",
       "        vertical-align: middle;\n",
       "    }\n",
       "\n",
       "    .dataframe tbody tr th {\n",
       "        vertical-align: top;\n",
       "    }\n",
       "\n",
       "    .dataframe thead th {\n",
       "        text-align: right;\n",
       "    }\n",
       "</style>\n",
       "<table border=\"1\" class=\"dataframe\">\n",
       "  <thead>\n",
       "    <tr style=\"text-align: right;\">\n",
       "      <th></th>\n",
       "      <th>event_time</th>\n",
       "      <th>event_type</th>\n",
       "      <th>product_id</th>\n",
       "      <th>category_id</th>\n",
       "      <th>category_code</th>\n",
       "      <th>brand</th>\n",
       "      <th>price</th>\n",
       "      <th>user_id</th>\n",
       "      <th>user_session</th>\n",
       "    </tr>\n",
       "  </thead>\n",
       "  <tbody>\n",
       "    <tr>\n",
       "      <td>7</td>\n",
       "      <td>2019-10-01 00:00:24</td>\n",
       "      <td>cart</td>\n",
       "      <td>5825598</td>\n",
       "      <td>1487580009445982239</td>\n",
       "      <td>NaN</td>\n",
       "      <td>NaN</td>\n",
       "      <td>0.56</td>\n",
       "      <td>467916806</td>\n",
       "      <td>2f5b5546-b8cb-9ee7-7ecd-84276f8ef486</td>\n",
       "    </tr>\n",
       "    <tr>\n",
       "      <td>8</td>\n",
       "      <td>2019-10-01 00:00:25</td>\n",
       "      <td>cart</td>\n",
       "      <td>5698989</td>\n",
       "      <td>1487580006317032337</td>\n",
       "      <td>NaN</td>\n",
       "      <td>NaN</td>\n",
       "      <td>1.27</td>\n",
       "      <td>385985999</td>\n",
       "      <td>d30965e8-1101-44ab-b45d-cc1bb9fae694</td>\n",
       "    </tr>\n",
       "    <tr>\n",
       "      <td>9</td>\n",
       "      <td>2019-10-01 00:00:26</td>\n",
       "      <td>view</td>\n",
       "      <td>5875317</td>\n",
       "      <td>2029082628195353599</td>\n",
       "      <td>NaN</td>\n",
       "      <td>NaN</td>\n",
       "      <td>1.59</td>\n",
       "      <td>474232307</td>\n",
       "      <td>445f2b74-5e4c-427e-b7fa-6e0a28b156fe</td>\n",
       "    </tr>\n",
       "    <tr>\n",
       "      <td>14</td>\n",
       "      <td>2019-10-01 00:00:32</td>\n",
       "      <td>remove_from_cart</td>\n",
       "      <td>5779403</td>\n",
       "      <td>1487580013506068678</td>\n",
       "      <td>NaN</td>\n",
       "      <td>NaN</td>\n",
       "      <td>12.22</td>\n",
       "      <td>429681830</td>\n",
       "      <td>49e8d843-adf3-428b-a2c3-fe8bc6a307c9</td>\n",
       "    </tr>\n",
       "    <tr>\n",
       "      <td>15</td>\n",
       "      <td>2019-10-01 00:00:33</td>\n",
       "      <td>remove_from_cart</td>\n",
       "      <td>5779403</td>\n",
       "      <td>1487580013506068678</td>\n",
       "      <td>NaN</td>\n",
       "      <td>NaN</td>\n",
       "      <td>12.22</td>\n",
       "      <td>429681830</td>\n",
       "      <td>49e8d843-adf3-428b-a2c3-fe8bc6a307c9</td>\n",
       "    </tr>\n",
       "  </tbody>\n",
       "</table>\n",
       "</div>"
      ],
      "text/plain": [
       "            event_time        event_type  product_id          category_id  \\\n",
       "7  2019-10-01 00:00:24              cart     5825598  1487580009445982239   \n",
       "8  2019-10-01 00:00:25              cart     5698989  1487580006317032337   \n",
       "9  2019-10-01 00:00:26              view     5875317  2029082628195353599   \n",
       "14 2019-10-01 00:00:32  remove_from_cart     5779403  1487580013506068678   \n",
       "15 2019-10-01 00:00:33  remove_from_cart     5779403  1487580013506068678   \n",
       "\n",
       "   category_code brand  price    user_id                          user_session  \n",
       "7            NaN   NaN   0.56  467916806  2f5b5546-b8cb-9ee7-7ecd-84276f8ef486  \n",
       "8            NaN   NaN   1.27  385985999  d30965e8-1101-44ab-b45d-cc1bb9fae694  \n",
       "9            NaN   NaN   1.59  474232307  445f2b74-5e4c-427e-b7fa-6e0a28b156fe  \n",
       "14           NaN   NaN  12.22  429681830  49e8d843-adf3-428b-a2c3-fe8bc6a307c9  \n",
       "15           NaN   NaN  12.22  429681830  49e8d843-adf3-428b-a2c3-fe8bc6a307c9  "
      ]
     },
     "execution_count": 32,
     "metadata": {},
     "output_type": "execute_result"
    }
   ],
   "source": [
    "#find the rows with null brand values\n",
    "nullbrand = dataoct1[dataoct1.brand.isnull()]\n",
    "nullbrand.head()"
   ]
  },
  {
   "cell_type": "code",
   "execution_count": 33,
   "metadata": {},
   "outputs": [
    {
     "data": {
      "text/plain": [
       "NaN    1571314\n",
       "Name: brand, dtype: int64"
      ]
     },
     "execution_count": 33,
     "metadata": {},
     "output_type": "execute_result"
    }
   ],
   "source": [
    "nullbrand.brand.value_counts(dropna=False)"
   ]
  },
  {
   "cell_type": "code",
   "execution_count": 34,
   "metadata": {},
   "outputs": [
    {
     "data": {
      "text/plain": [
       "(2317814, 9)"
      ]
     },
     "execution_count": 34,
     "metadata": {},
     "output_type": "execute_result"
    }
   ],
   "source": [
    "#find if the product ids in nullbrand exists in notnullbrand series\n",
    "brandnotnull = dataoct1[dataoct1.brand.notnull()]\n",
    "brandnotnull.shape"
   ]
  },
  {
   "cell_type": "code",
   "execution_count": 35,
   "metadata": {},
   "outputs": [
    {
     "data": {
      "text/plain": [
       "0    5898240\n",
       "1    5898241\n",
       "2    5898242\n",
       "3    5898243\n",
       "4    5898244\n",
       "5    5898245\n",
       "6    5898246\n",
       "7    5898247\n",
       "8    5900288\n",
       "9    5900291\n",
       "dtype: int64"
      ]
     },
     "execution_count": 35,
     "metadata": {},
     "output_type": "execute_result"
    }
   ],
   "source": [
    "#finding the product ids that are common between null and notnull brands dataset\n",
    "commonprods = pd.Series(list(set(nullbrand.product_id) & set(brandnotnull.product_id)))\n",
    "commonprods.head(10)"
   ]
  },
  {
   "cell_type": "code",
   "execution_count": 36,
   "metadata": {},
   "outputs": [
    {
     "data": {
      "text/plain": [
       "590"
      ]
     },
     "execution_count": 36,
     "metadata": {},
     "output_type": "execute_result"
    }
   ],
   "source": [
    "len(commonprods)"
   ]
  },
  {
   "cell_type": "code",
   "execution_count": 37,
   "metadata": {},
   "outputs": [
    {
     "data": {
      "text/plain": [
       "23987"
      ]
     },
     "execution_count": 37,
     "metadata": {},
     "output_type": "execute_result"
    }
   ],
   "source": [
    "#create dictionary to map product_id and its brand\n",
    "branddict = dict(zip(brandnotnull['product_id'], brandnotnull['brand']))\n",
    "len(branddict)"
   ]
  },
  {
   "cell_type": "code",
   "execution_count": 38,
   "metadata": {},
   "outputs": [
    {
     "data": {
      "text/plain": [
       "1571314"
      ]
     },
     "execution_count": 38,
     "metadata": {},
     "output_type": "execute_result"
    }
   ],
   "source": [
    "#store count of rows with null brands in dataoct1\n",
    "noofnullbrands = len(dataoct1.brand[dataoct1.brand.isnull()])\n",
    "noofnullbrands"
   ]
  },
  {
   "cell_type": "code",
   "execution_count": 39,
   "metadata": {},
   "outputs": [
    {
     "name": "stderr",
     "output_type": "stream",
     "text": [
      "C:\\ProgramData\\Anaconda3\\lib\\site-packages\\pandas\\core\\generic.py:5208: SettingWithCopyWarning: \n",
      "A value is trying to be set on a copy of a slice from a DataFrame.\n",
      "Try using .loc[row_indexer,col_indexer] = value instead\n",
      "\n",
      "See the caveats in the documentation: http://pandas.pydata.org/pandas-docs/stable/user_guide/indexing.html#returning-a-view-versus-a-copy\n",
      "  self[name] = value\n"
     ]
    },
    {
     "data": {
      "text/plain": [
       "1568545"
      ]
     },
     "execution_count": 39,
     "metadata": {},
     "output_type": "execute_result"
    }
   ],
   "source": [
    "#fill the null brands from the dictionary\n",
    "dataoct1.brand = dataoct1.product_id.map(branddict)\n",
    "len(dataoct1.brand[dataoct1.brand.isnull()])"
   ]
  },
  {
   "cell_type": "code",
   "execution_count": 40,
   "metadata": {},
   "outputs": [
    {
     "data": {
      "text/plain": [
       "2769"
      ]
     },
     "execution_count": 40,
     "metadata": {},
     "output_type": "execute_result"
    }
   ],
   "source": [
    "#no of rows that got filled with brand \n",
    "noofnullbrands - len(dataoct1.brand[dataoct1.brand.isnull()])"
   ]
  },
  {
   "cell_type": "code",
   "execution_count": 41,
   "metadata": {},
   "outputs": [],
   "source": [
    "dataoct2 = dataoct1.copy()"
   ]
  },
  {
   "cell_type": "code",
   "execution_count": 42,
   "metadata": {},
   "outputs": [],
   "source": [
    "#fill all missing brands with vale missing\n",
    "dataoct2.brand = dataoct2.brand.fillna('missing')"
   ]
  },
  {
   "cell_type": "code",
   "execution_count": 43,
   "metadata": {},
   "outputs": [
    {
     "data": {
      "text/plain": [
       "missing    1568545\n",
       "runail      287166\n",
       "irisk       213644\n",
       "masura      182990\n",
       "grattol     125870\n",
       "            ...   \n",
       "gena             2\n",
       "dessata          2\n",
       "shifei           1\n",
       "ikoo             1\n",
       "pueen            1\n",
       "Name: brand, Length: 241, dtype: int64"
      ]
     },
     "execution_count": 43,
     "metadata": {},
     "output_type": "execute_result"
    }
   ],
   "source": [
    "dataoct2.brand.value_counts(dropna=False)"
   ]
  },
  {
   "cell_type": "code",
   "execution_count": 44,
   "metadata": {},
   "outputs": [
    {
     "data": {
      "text/plain": [
       "5809910    10411\n",
       "5892179    10015\n",
       "5700037     8655\n",
       "5751383     8261\n",
       "5877454     8151\n",
       "           ...  \n",
       "5869901        1\n",
       "5900281        1\n",
       "5603535        1\n",
       "5565990        1\n",
       "5771071        1\n",
       "Name: product_id, Length: 41899, dtype: int64"
      ]
     },
     "execution_count": 44,
     "metadata": {},
     "output_type": "execute_result"
    }
   ],
   "source": [
    "#product_id does not have null values\n",
    "dataoct2.product_id.value_counts(dropna=False)"
   ]
  },
  {
   "cell_type": "code",
   "execution_count": 45,
   "metadata": {},
   "outputs": [
    {
     "data": {
      "text/plain": [
       "NaN                                       3823749\n",
       "appliances.environment.vacuum               27079\n",
       "stationery.cartrige                         12747\n",
       "apparel.glove                                7036\n",
       "furniture.living_room.cabinet                6141\n",
       "accessories.bag                              5814\n",
       "furniture.bathroom.bath                      4849\n",
       "appliances.personal.hair_cutter               820\n",
       "accessories.cosmetic_bag                      611\n",
       "appliances.environment.air_conditioner        159\n",
       "furniture.living_room.chair                   121\n",
       "sport.diving                                    2\n",
       "Name: category_code, dtype: int64"
      ]
     },
     "execution_count": 45,
     "metadata": {},
     "output_type": "execute_result"
    }
   ],
   "source": [
    "dataoct2.category_code.value_counts(dropna=False)"
   ]
  },
  {
   "cell_type": "code",
   "execution_count": 46,
   "metadata": {},
   "outputs": [
    {
     "data": {
      "text/html": [
       "<div>\n",
       "<style scoped>\n",
       "    .dataframe tbody tr th:only-of-type {\n",
       "        vertical-align: middle;\n",
       "    }\n",
       "\n",
       "    .dataframe tbody tr th {\n",
       "        vertical-align: top;\n",
       "    }\n",
       "\n",
       "    .dataframe thead th {\n",
       "        text-align: right;\n",
       "    }\n",
       "</style>\n",
       "<table border=\"1\" class=\"dataframe\">\n",
       "  <thead>\n",
       "    <tr style=\"text-align: right;\">\n",
       "      <th></th>\n",
       "      <th>event_time</th>\n",
       "      <th>event_type</th>\n",
       "      <th>product_id</th>\n",
       "      <th>category_id</th>\n",
       "      <th>category_code</th>\n",
       "      <th>brand</th>\n",
       "      <th>price</th>\n",
       "      <th>user_id</th>\n",
       "      <th>user_session</th>\n",
       "    </tr>\n",
       "  </thead>\n",
       "  <tbody>\n",
       "    <tr>\n",
       "      <td>21</td>\n",
       "      <td>2019-10-01 00:00:53</td>\n",
       "      <td>view</td>\n",
       "      <td>5856191</td>\n",
       "      <td>1487580006350586771</td>\n",
       "      <td>appliances.environment.vacuum</td>\n",
       "      <td>runail</td>\n",
       "      <td>24.44</td>\n",
       "      <td>507355498</td>\n",
       "      <td>944c7e9b-40bd-4112-a05b-81e73f37e0c0</td>\n",
       "    </tr>\n",
       "    <tr>\n",
       "      <td>264</td>\n",
       "      <td>2019-10-01 00:07:58</td>\n",
       "      <td>remove_from_cart</td>\n",
       "      <td>5767493</td>\n",
       "      <td>1487580013053083824</td>\n",
       "      <td>stationery.cartrige</td>\n",
       "      <td>italwax</td>\n",
       "      <td>2.14</td>\n",
       "      <td>514753614</td>\n",
       "      <td>e2fecb2d-22d0-df2c-c661-15da44b3ccf1</td>\n",
       "    </tr>\n",
       "    <tr>\n",
       "      <td>269</td>\n",
       "      <td>2019-10-01 00:08:03</td>\n",
       "      <td>remove_from_cart</td>\n",
       "      <td>5759489</td>\n",
       "      <td>1487580013053083824</td>\n",
       "      <td>stationery.cartrige</td>\n",
       "      <td>italwax</td>\n",
       "      <td>2.14</td>\n",
       "      <td>514753614</td>\n",
       "      <td>e2fecb2d-22d0-df2c-c661-15da44b3ccf1</td>\n",
       "    </tr>\n",
       "    <tr>\n",
       "      <td>274</td>\n",
       "      <td>2019-10-01 00:08:08</td>\n",
       "      <td>remove_from_cart</td>\n",
       "      <td>5657894</td>\n",
       "      <td>1487580013053083824</td>\n",
       "      <td>stationery.cartrige</td>\n",
       "      <td>missing</td>\n",
       "      <td>2.06</td>\n",
       "      <td>514753614</td>\n",
       "      <td>e2fecb2d-22d0-df2c-c661-15da44b3ccf1</td>\n",
       "    </tr>\n",
       "    <tr>\n",
       "      <td>276</td>\n",
       "      <td>2019-10-01 00:08:10</td>\n",
       "      <td>remove_from_cart</td>\n",
       "      <td>24336</td>\n",
       "      <td>1487580013053083824</td>\n",
       "      <td>stationery.cartrige</td>\n",
       "      <td>depilflax</td>\n",
       "      <td>3.02</td>\n",
       "      <td>514753614</td>\n",
       "      <td>e2fecb2d-22d0-df2c-c661-15da44b3ccf1</td>\n",
       "    </tr>\n",
       "  </tbody>\n",
       "</table>\n",
       "</div>"
      ],
      "text/plain": [
       "             event_time        event_type  product_id          category_id  \\\n",
       "21  2019-10-01 00:00:53              view     5856191  1487580006350586771   \n",
       "264 2019-10-01 00:07:58  remove_from_cart     5767493  1487580013053083824   \n",
       "269 2019-10-01 00:08:03  remove_from_cart     5759489  1487580013053083824   \n",
       "274 2019-10-01 00:08:08  remove_from_cart     5657894  1487580013053083824   \n",
       "276 2019-10-01 00:08:10  remove_from_cart       24336  1487580013053083824   \n",
       "\n",
       "                     category_code      brand  price    user_id  \\\n",
       "21   appliances.environment.vacuum     runail  24.44  507355498   \n",
       "264            stationery.cartrige    italwax   2.14  514753614   \n",
       "269            stationery.cartrige    italwax   2.14  514753614   \n",
       "274            stationery.cartrige    missing   2.06  514753614   \n",
       "276            stationery.cartrige  depilflax   3.02  514753614   \n",
       "\n",
       "                             user_session  \n",
       "21   944c7e9b-40bd-4112-a05b-81e73f37e0c0  \n",
       "264  e2fecb2d-22d0-df2c-c661-15da44b3ccf1  \n",
       "269  e2fecb2d-22d0-df2c-c661-15da44b3ccf1  \n",
       "274  e2fecb2d-22d0-df2c-c661-15da44b3ccf1  \n",
       "276  e2fecb2d-22d0-df2c-c661-15da44b3ccf1  "
      ]
     },
     "execution_count": 46,
     "metadata": {},
     "output_type": "execute_result"
    }
   ],
   "source": [
    "notnullcategory = dataoct2[dataoct2.category_code.notnull()]\n",
    "notnullcategory.head()"
   ]
  },
  {
   "cell_type": "code",
   "execution_count": 47,
   "metadata": {},
   "outputs": [
    {
     "data": {
      "text/plain": [
       "17"
      ]
     },
     "execution_count": 47,
     "metadata": {},
     "output_type": "execute_result"
    }
   ],
   "source": [
    "#find relationship between category code and category id\n",
    "#create dictionary to map category_id and category_code\n",
    "categorydict = dict(zip(notnullcategory['category_id'], notnullcategory['category_code']))\n",
    "len(categorydict)"
   ]
  },
  {
   "cell_type": "code",
   "execution_count": 48,
   "metadata": {},
   "outputs": [
    {
     "data": {
      "text/plain": [
       "{1487580006350586771: 'appliances.environment.vacuum',\n",
       " 1487580013053083824: 'stationery.cartrige',\n",
       " 2007399943458784057: 'apparel.glove',\n",
       " 1487580010695884882: 'accessories.bag',\n",
       " 2193074740619379535: 'furniture.living_room.cabinet',\n",
       " 2193074740686488401: 'furniture.bathroom.bath',\n",
       " 1487580008070251489: 'appliances.personal.hair_cutter',\n",
       " 1487580011970953351: 'furniture.bathroom.bath',\n",
       " 1921723506584715388: 'accessories.cosmetic_bag',\n",
       " 1487580008221246441: 'appliances.environment.air_conditioner',\n",
       " 2022622168218599898: 'furniture.living_room.chair',\n",
       " 2018287324474901238: 'furniture.bathroom.bath',\n",
       " 1487580012759482531: 'furniture.bathroom.bath',\n",
       " 1783999067181810204: 'appliances.environment.air_conditioner',\n",
       " 1487580012147114126: 'furniture.bathroom.bath',\n",
       " 1487580012071616651: 'apparel.glove',\n",
       " 1487580012549767321: 'sport.diving'}"
      ]
     },
     "execution_count": 48,
     "metadata": {},
     "output_type": "execute_result"
    }
   ],
   "source": [
    "categorydict"
   ]
  },
  {
   "cell_type": "code",
   "execution_count": 49,
   "metadata": {},
   "outputs": [
    {
     "data": {
      "text/plain": [
       "3823749"
      ]
     },
     "execution_count": 49,
     "metadata": {},
     "output_type": "execute_result"
    }
   ],
   "source": [
    "#get len of rows with nan category_code\n",
    "len(dataoct2[dataoct2.category_code.isnull()])"
   ]
  },
  {
   "cell_type": "code",
   "execution_count": 50,
   "metadata": {},
   "outputs": [
    {
     "data": {
      "text/plain": [
       "3823749"
      ]
     },
     "execution_count": 50,
     "metadata": {},
     "output_type": "execute_result"
    }
   ],
   "source": [
    "#map null category_code from the dictionary\n",
    "dataoct2.category_code = dataoct2.category_id.map(categorydict)\n",
    "len(dataoct2.category_code[dataoct2.category_code.isnull()]) #none of the rows got filled with category_code "
   ]
  },
  {
   "cell_type": "code",
   "execution_count": 51,
   "metadata": {},
   "outputs": [],
   "source": [
    "#fill missing category_code with value other\n",
    "dataoct2.category_code = dataoct2.category_code.astype(str)"
   ]
  },
  {
   "cell_type": "code",
   "execution_count": 52,
   "metadata": {},
   "outputs": [
    {
     "data": {
      "text/plain": [
       "other                                     3823749\n",
       "appliances.environment.vacuum               27079\n",
       "stationery.cartrige                         12747\n",
       "apparel.glove                                7036\n",
       "furniture.living_room.cabinet                6141\n",
       "accessories.bag                              5814\n",
       "furniture.bathroom.bath                      4849\n",
       "appliances.personal.hair_cutter               820\n",
       "accessories.cosmetic_bag                      611\n",
       "appliances.environment.air_conditioner        159\n",
       "furniture.living_room.chair                   121\n",
       "sport.diving                                    2\n",
       "Name: category_code, dtype: int64"
      ]
     },
     "execution_count": 52,
     "metadata": {},
     "output_type": "execute_result"
    }
   ],
   "source": [
    "dataoct2.category_code = dataoct2.category_code.replace('nan', 'other')\n",
    "dataoct2.category_code.value_counts()"
   ]
  },
  {
   "cell_type": "code",
   "execution_count": 53,
   "metadata": {},
   "outputs": [
    {
     "name": "stdout",
     "output_type": "stream",
     "text": [
      "<class 'pandas.core.frame.DataFrame'>\n",
      "Int64Index: 3889128 entries, 0 to 4102282\n",
      "Data columns (total 9 columns):\n",
      "event_time       datetime64[ns]\n",
      "event_type       category\n",
      "product_id       int64\n",
      "category_id      int64\n",
      "category_code    category\n",
      "brand            object\n",
      "price            float64\n",
      "user_id          int64\n",
      "user_session     object\n",
      "dtypes: category(2), datetime64[ns](1), float64(1), int64(3), object(2)\n",
      "memory usage: 244.8+ MB\n"
     ]
    }
   ],
   "source": [
    "dataoct2.category_code = dataoct2.category_code.astype('category')\n",
    "dataoct2.info()"
   ]
  },
  {
   "cell_type": "code",
   "execution_count": 54,
   "metadata": {},
   "outputs": [
    {
     "data": {
      "text/plain": [
       "view                1862050\n",
       "cart                1204218\n",
       "remove_from_cart     577579\n",
       "purchase             245281\n",
       "Name: event_type, dtype: int64"
      ]
     },
     "execution_count": 54,
     "metadata": {},
     "output_type": "execute_result"
    }
   ],
   "source": [
    "#count of event_type='purchase'\n",
    "dataoct2['event_type'].value_counts(dropna=False)"
   ]
  },
  {
   "cell_type": "code",
   "execution_count": 55,
   "metadata": {},
   "outputs": [
    {
     "data": {
      "text/plain": [
       "550388516    3087\n",
       "510369366    2832\n",
       "541975884    2158\n",
       "494539592    1981\n",
       "480237908    1944\n",
       "516768752    1860\n",
       "550752696    1719\n",
       "557616099    1605\n",
       "546365792    1599\n",
       "540126094    1577\n",
       "Name: user_id, dtype: int64"
      ]
     },
     "execution_count": 55,
     "metadata": {},
     "output_type": "execute_result"
    }
   ],
   "source": [
    "#get count of each userid\n",
    "usersFreq = dataoct2['user_id'].value_counts(dropna=False)\n",
    "usersFreq.head(10) #top 10 users on the site"
   ]
  },
  {
   "cell_type": "code",
   "execution_count": 56,
   "metadata": {},
   "outputs": [
    {
     "data": {
      "text/plain": [
       "count    3.889128e+06\n",
       "mean     8.725351e+00\n",
       "std      1.949236e+01\n",
       "min     -7.937000e+01\n",
       "25%      2.220000e+00\n",
       "50%      4.110000e+00\n",
       "75%      7.140000e+00\n",
       "max      3.076000e+02\n",
       "Name: price, dtype: float64"
      ]
     },
     "execution_count": 56,
     "metadata": {},
     "output_type": "execute_result"
    }
   ],
   "source": [
    "#use describe method to get info about price column\n",
    "dataoct2.price.describe() \n",
    "#there are negative values in price"
   ]
  },
  {
   "cell_type": "code",
   "execution_count": 57,
   "metadata": {},
   "outputs": [
    {
     "data": {
      "text/plain": [
       "20"
      ]
     },
     "execution_count": 57,
     "metadata": {},
     "output_type": "execute_result"
    }
   ],
   "source": [
    "#find rows that have negative price values\n",
    "len(dataoct2[dataoct2.price <0])"
   ]
  },
  {
   "cell_type": "code",
   "execution_count": 58,
   "metadata": {},
   "outputs": [
    {
     "data": {
      "text/plain": [
       "(3889108, 9)"
      ]
     },
     "execution_count": 58,
     "metadata": {},
     "output_type": "execute_result"
    }
   ],
   "source": [
    "#there are only 20 rows with negative price values so delete them \n",
    "dataoct2 = dataoct2[dataoct2.price >= 0]\n",
    "dataoct2.shape"
   ]
  },
  {
   "cell_type": "markdown",
   "metadata": {},
   "source": [
    "## indexedData.head(30)"
   ]
  },
  {
   "cell_type": "code",
   "execution_count": 59,
   "metadata": {},
   "outputs": [
    {
     "data": {
      "text/plain": [
       "user_session\n",
       "dee05e29-f331-48dc-b1b3-547985fc2aa4    1486\n",
       "e8d6736d-0247-4d1a-ae3b-6e6637288e37    1156\n",
       "346dd83e-e8f0-69df-085a-0cf4a806d70d     959\n",
       "a71b67a2-7826-4853-af0d-fa06e3734374     879\n",
       "d7998d70-7562-4ff0-8870-5ace290db2c9     857\n",
       "9662eff9-5216-4b31-ad51-3153be8cc6d4     784\n",
       "9ad1b6fa-781b-45f1-970a-e4e9adf8ce38     759\n",
       "54b701ba-7f2a-49d3-886c-c406c62e39a4     741\n",
       "da229abe-cc38-42df-a116-845515269518     719\n",
       "34bd4998-d7d9-452f-bbb6-53df5cbc8bfe     662\n",
       "dtype: int64"
      ]
     },
     "execution_count": 59,
     "metadata": {},
     "output_type": "execute_result"
    }
   ],
   "source": [
    "#check count of user_session\n",
    "groupData1 = dataoct2.groupby('user_session').size()\n",
    "groupData1.sort_values(ascending=False).head(10)"
   ]
  },
  {
   "cell_type": "code",
   "execution_count": 60,
   "metadata": {},
   "outputs": [
    {
     "data": {
      "text/plain": [
       "(3889108, 9)"
      ]
     },
     "execution_count": 60,
     "metadata": {},
     "output_type": "execute_result"
    }
   ],
   "source": [
    "dataoct2.shape"
   ]
  },
  {
   "cell_type": "code",
   "execution_count": 61,
   "metadata": {},
   "outputs": [
    {
     "data": {
      "text/plain": [
       "(3888534, 9)"
      ]
     },
     "execution_count": 61,
     "metadata": {},
     "output_type": "execute_result"
    }
   ],
   "source": [
    "#since there are are only 574 rows with null sessions so drop those rows\n",
    "dataoct2 = dataoct2[dataoct2.user_session.notnull()]\n",
    "dataoct2.shape\n"
   ]
  },
  {
   "cell_type": "code",
   "execution_count": 62,
   "metadata": {},
   "outputs": [
    {
     "data": {
      "text/plain": [
       "brand     event_type      \n",
       "airnails  cart                 6865\n",
       "          purchase             1741\n",
       "          remove_from_cart     3006\n",
       "          view                 6197\n",
       "almea     cart                  288\n",
       "                              ...  \n",
       "zeitun    view                 1424\n",
       "zinger    cart                 8141\n",
       "          purchase             1972\n",
       "          remove_from_cart     3559\n",
       "          view                12997\n",
       "Length: 893, dtype: int64"
      ]
     },
     "execution_count": 62,
     "metadata": {},
     "output_type": "execute_result"
    }
   ],
   "source": [
    "byBrand = dataoct2.groupby(['brand', 'event_type']).size()\n",
    "byBrand"
   ]
  },
  {
   "cell_type": "code",
   "execution_count": 63,
   "metadata": {},
   "outputs": [
    {
     "data": {
      "text/html": [
       "<div>\n",
       "<style scoped>\n",
       "    .dataframe tbody tr th:only-of-type {\n",
       "        vertical-align: middle;\n",
       "    }\n",
       "\n",
       "    .dataframe tbody tr th {\n",
       "        vertical-align: top;\n",
       "    }\n",
       "\n",
       "    .dataframe thead th {\n",
       "        text-align: right;\n",
       "    }\n",
       "</style>\n",
       "<table border=\"1\" class=\"dataframe\">\n",
       "  <thead>\n",
       "    <tr style=\"text-align: right;\">\n",
       "      <th>event_type</th>\n",
       "      <th>cart</th>\n",
       "      <th>purchase</th>\n",
       "      <th>remove_from_cart</th>\n",
       "      <th>view</th>\n",
       "    </tr>\n",
       "    <tr>\n",
       "      <th>brand</th>\n",
       "      <th></th>\n",
       "      <th></th>\n",
       "      <th></th>\n",
       "      <th></th>\n",
       "    </tr>\n",
       "  </thead>\n",
       "  <tbody>\n",
       "    <tr>\n",
       "      <td>airnails</td>\n",
       "      <td>6865.0</td>\n",
       "      <td>1741.0</td>\n",
       "      <td>3006.0</td>\n",
       "      <td>6197.0</td>\n",
       "    </tr>\n",
       "    <tr>\n",
       "      <td>almea</td>\n",
       "      <td>288.0</td>\n",
       "      <td>34.0</td>\n",
       "      <td>63.0</td>\n",
       "      <td>742.0</td>\n",
       "    </tr>\n",
       "    <tr>\n",
       "      <td>andrea</td>\n",
       "      <td>36.0</td>\n",
       "      <td>4.0</td>\n",
       "      <td>14.0</td>\n",
       "      <td>122.0</td>\n",
       "    </tr>\n",
       "    <tr>\n",
       "      <td>ardell</td>\n",
       "      <td>990.0</td>\n",
       "      <td>195.0</td>\n",
       "      <td>355.0</td>\n",
       "      <td>2908.0</td>\n",
       "    </tr>\n",
       "    <tr>\n",
       "      <td>art-visage</td>\n",
       "      <td>3436.0</td>\n",
       "      <td>674.0</td>\n",
       "      <td>1616.0</td>\n",
       "      <td>5844.0</td>\n",
       "    </tr>\n",
       "    <tr>\n",
       "      <td>...</td>\n",
       "      <td>...</td>\n",
       "      <td>...</td>\n",
       "      <td>...</td>\n",
       "      <td>...</td>\n",
       "    </tr>\n",
       "    <tr>\n",
       "      <td>ypsed</td>\n",
       "      <td>171.0</td>\n",
       "      <td>22.0</td>\n",
       "      <td>22.0</td>\n",
       "      <td>399.0</td>\n",
       "    </tr>\n",
       "    <tr>\n",
       "      <td>yu-r</td>\n",
       "      <td>62.0</td>\n",
       "      <td>7.0</td>\n",
       "      <td>6.0</td>\n",
       "      <td>265.0</td>\n",
       "    </tr>\n",
       "    <tr>\n",
       "      <td>zab</td>\n",
       "      <td>25.0</td>\n",
       "      <td>NaN</td>\n",
       "      <td>2.0</td>\n",
       "      <td>29.0</td>\n",
       "    </tr>\n",
       "    <tr>\n",
       "      <td>zeitun</td>\n",
       "      <td>920.0</td>\n",
       "      <td>76.0</td>\n",
       "      <td>238.0</td>\n",
       "      <td>1424.0</td>\n",
       "    </tr>\n",
       "    <tr>\n",
       "      <td>zinger</td>\n",
       "      <td>8141.0</td>\n",
       "      <td>1972.0</td>\n",
       "      <td>3559.0</td>\n",
       "      <td>12997.0</td>\n",
       "    </tr>\n",
       "  </tbody>\n",
       "</table>\n",
       "<p>241 rows × 4 columns</p>\n",
       "</div>"
      ],
      "text/plain": [
       "event_type    cart  purchase  remove_from_cart     view\n",
       "brand                                                  \n",
       "airnails    6865.0    1741.0            3006.0   6197.0\n",
       "almea        288.0      34.0              63.0    742.0\n",
       "andrea        36.0       4.0              14.0    122.0\n",
       "ardell       990.0     195.0             355.0   2908.0\n",
       "art-visage  3436.0     674.0            1616.0   5844.0\n",
       "...            ...       ...               ...      ...\n",
       "ypsed        171.0      22.0              22.0    399.0\n",
       "yu-r          62.0       7.0               6.0    265.0\n",
       "zab           25.0       NaN               2.0     29.0\n",
       "zeitun       920.0      76.0             238.0   1424.0\n",
       "zinger      8141.0    1972.0            3559.0  12997.0\n",
       "\n",
       "[241 rows x 4 columns]"
      ]
     },
     "execution_count": 63,
     "metadata": {},
     "output_type": "execute_result"
    }
   ],
   "source": [
    "byBrand.unstack()"
   ]
  },
  {
   "cell_type": "code",
   "execution_count": 64,
   "metadata": {},
   "outputs": [
    {
     "data": {
      "text/html": [
       "<div>\n",
       "<style scoped>\n",
       "    .dataframe tbody tr th:only-of-type {\n",
       "        vertical-align: middle;\n",
       "    }\n",
       "\n",
       "    .dataframe tbody tr th {\n",
       "        vertical-align: top;\n",
       "    }\n",
       "\n",
       "    .dataframe thead th {\n",
       "        text-align: right;\n",
       "    }\n",
       "</style>\n",
       "<table border=\"1\" class=\"dataframe\">\n",
       "  <thead>\n",
       "    <tr style=\"text-align: right;\">\n",
       "      <th>event_type</th>\n",
       "      <th>cart</th>\n",
       "      <th>purchase</th>\n",
       "      <th>remove_from_cart</th>\n",
       "      <th>view</th>\n",
       "    </tr>\n",
       "    <tr>\n",
       "      <th>category_code</th>\n",
       "      <th></th>\n",
       "      <th></th>\n",
       "      <th></th>\n",
       "      <th></th>\n",
       "    </tr>\n",
       "  </thead>\n",
       "  <tbody>\n",
       "    <tr>\n",
       "      <td>accessories.bag</td>\n",
       "      <td>259.0</td>\n",
       "      <td>40.0</td>\n",
       "      <td>106.0</td>\n",
       "      <td>5409.0</td>\n",
       "    </tr>\n",
       "    <tr>\n",
       "      <td>accessories.cosmetic_bag</td>\n",
       "      <td>142.0</td>\n",
       "      <td>20.0</td>\n",
       "      <td>42.0</td>\n",
       "      <td>407.0</td>\n",
       "    </tr>\n",
       "    <tr>\n",
       "      <td>apparel.glove</td>\n",
       "      <td>2376.0</td>\n",
       "      <td>726.0</td>\n",
       "      <td>1146.0</td>\n",
       "      <td>2788.0</td>\n",
       "    </tr>\n",
       "    <tr>\n",
       "      <td>appliances.environment.air_conditioner</td>\n",
       "      <td>48.0</td>\n",
       "      <td>4.0</td>\n",
       "      <td>9.0</td>\n",
       "      <td>98.0</td>\n",
       "    </tr>\n",
       "    <tr>\n",
       "      <td>appliances.environment.vacuum</td>\n",
       "      <td>3964.0</td>\n",
       "      <td>797.0</td>\n",
       "      <td>1832.0</td>\n",
       "      <td>20485.0</td>\n",
       "    </tr>\n",
       "    <tr>\n",
       "      <td>appliances.personal.hair_cutter</td>\n",
       "      <td>55.0</td>\n",
       "      <td>8.0</td>\n",
       "      <td>10.0</td>\n",
       "      <td>747.0</td>\n",
       "    </tr>\n",
       "    <tr>\n",
       "      <td>furniture.bathroom.bath</td>\n",
       "      <td>1078.0</td>\n",
       "      <td>244.0</td>\n",
       "      <td>441.0</td>\n",
       "      <td>3083.0</td>\n",
       "    </tr>\n",
       "    <tr>\n",
       "      <td>furniture.living_room.cabinet</td>\n",
       "      <td>384.0</td>\n",
       "      <td>52.0</td>\n",
       "      <td>234.0</td>\n",
       "      <td>5471.0</td>\n",
       "    </tr>\n",
       "    <tr>\n",
       "      <td>furniture.living_room.chair</td>\n",
       "      <td>17.0</td>\n",
       "      <td>NaN</td>\n",
       "      <td>5.0</td>\n",
       "      <td>99.0</td>\n",
       "    </tr>\n",
       "    <tr>\n",
       "      <td>other</td>\n",
       "      <td>1190357.0</td>\n",
       "      <td>241988.0</td>\n",
       "      <td>571901.0</td>\n",
       "      <td>1818919.0</td>\n",
       "    </tr>\n",
       "    <tr>\n",
       "      <td>sport.diving</td>\n",
       "      <td>NaN</td>\n",
       "      <td>NaN</td>\n",
       "      <td>NaN</td>\n",
       "      <td>2.0</td>\n",
       "    </tr>\n",
       "    <tr>\n",
       "      <td>stationery.cartrige</td>\n",
       "      <td>5076.0</td>\n",
       "      <td>1382.0</td>\n",
       "      <td>1744.0</td>\n",
       "      <td>4539.0</td>\n",
       "    </tr>\n",
       "  </tbody>\n",
       "</table>\n",
       "</div>"
      ],
      "text/plain": [
       "event_type                                   cart  purchase  remove_from_cart  \\\n",
       "category_code                                                                   \n",
       "accessories.bag                             259.0      40.0             106.0   \n",
       "accessories.cosmetic_bag                    142.0      20.0              42.0   \n",
       "apparel.glove                              2376.0     726.0            1146.0   \n",
       "appliances.environment.air_conditioner       48.0       4.0               9.0   \n",
       "appliances.environment.vacuum              3964.0     797.0            1832.0   \n",
       "appliances.personal.hair_cutter              55.0       8.0              10.0   \n",
       "furniture.bathroom.bath                    1078.0     244.0             441.0   \n",
       "furniture.living_room.cabinet               384.0      52.0             234.0   \n",
       "furniture.living_room.chair                  17.0       NaN               5.0   \n",
       "other                                   1190357.0  241988.0          571901.0   \n",
       "sport.diving                                  NaN       NaN               NaN   \n",
       "stationery.cartrige                        5076.0    1382.0            1744.0   \n",
       "\n",
       "event_type                                   view  \n",
       "category_code                                      \n",
       "accessories.bag                            5409.0  \n",
       "accessories.cosmetic_bag                    407.0  \n",
       "apparel.glove                              2788.0  \n",
       "appliances.environment.air_conditioner       98.0  \n",
       "appliances.environment.vacuum             20485.0  \n",
       "appliances.personal.hair_cutter             747.0  \n",
       "furniture.bathroom.bath                    3083.0  \n",
       "furniture.living_room.cabinet              5471.0  \n",
       "furniture.living_room.chair                  99.0  \n",
       "other                                   1818919.0  \n",
       "sport.diving                                  2.0  \n",
       "stationery.cartrige                        4539.0  "
      ]
     },
     "execution_count": 64,
     "metadata": {},
     "output_type": "execute_result"
    }
   ],
   "source": [
    "byCategory = dataoct2.groupby(['category_code', 'event_type']).size()\n",
    "byCategory.unstack()"
   ]
  },
  {
   "cell_type": "code",
   "execution_count": 65,
   "metadata": {},
   "outputs": [],
   "source": [
    "#add new columns for different price ranges\n",
    "dataoct2['lessThan10'] = dataoct2.price[dataoct2.price<=10]\n",
    "dataoct2['between10and20'] = dataoct2.price[(dataoct2.price>10) & (dataoct2.price <=20)]\n",
    "dataoct2['between20and30'] = dataoct2.price[(dataoct2.price>20) & (dataoct2.price <=30)]\n",
    "dataoct2['between30and40'] = dataoct2.price[(dataoct2.price>30) & (dataoct2.price <=40)]\n"
   ]
  },
  {
   "cell_type": "code",
   "execution_count": 66,
   "metadata": {},
   "outputs": [
    {
     "data": {
      "text/plain": [
       "0.0"
      ]
     },
     "execution_count": 66,
     "metadata": {},
     "output_type": "execute_result"
    }
   ],
   "source": [
    "maxPrice = dataoct2.price.max()\n",
    "minPrice = dataoct2.price.min()\n",
    "minPrice #min price is negative?"
   ]
  },
  {
   "cell_type": "code",
   "execution_count": 67,
   "metadata": {},
   "outputs": [
    {
     "data": {
      "text/plain": [
       "307.6"
      ]
     },
     "execution_count": 67,
     "metadata": {},
     "output_type": "execute_result"
    }
   ],
   "source": [
    "maxPrice"
   ]
  },
  {
   "cell_type": "code",
   "execution_count": 68,
   "metadata": {},
   "outputs": [
    {
     "data": {
      "text/plain": [
       "6026"
      ]
     },
     "execution_count": 68,
     "metadata": {},
     "output_type": "execute_result"
    }
   ],
   "source": [
    "#count of rows with zero price - keep these rows since these products may be on sale and can affect buying behavior\n",
    "len(dataoct2.price[dataoct2.price==0])\n"
   ]
  },
  {
   "cell_type": "code",
   "execution_count": 69,
   "metadata": {},
   "outputs": [
    {
     "data": {
      "text/plain": [
       "6834"
      ]
     },
     "execution_count": 69,
     "metadata": {},
     "output_type": "execute_result"
    }
   ],
   "source": [
    "len(dataoct2[dataoct2.price>200])"
   ]
  },
  {
   "cell_type": "code",
   "execution_count": 70,
   "metadata": {},
   "outputs": [
    {
     "data": {
      "text/plain": [
       "37361"
      ]
     },
     "execution_count": 70,
     "metadata": {},
     "output_type": "execute_result"
    }
   ],
   "source": [
    "len(dataoct2[dataoct2.price>100])"
   ]
  },
  {
   "cell_type": "code",
   "execution_count": 71,
   "metadata": {},
   "outputs": [
    {
     "data": {
      "text/plain": [
       "17093"
      ]
     },
     "execution_count": 71,
     "metadata": {},
     "output_type": "execute_result"
    }
   ],
   "source": [
    "len(dataoct2[dataoct2.price>150])"
   ]
  },
  {
   "cell_type": "code",
   "execution_count": 72,
   "metadata": {},
   "outputs": [
    {
     "data": {
      "text/plain": [
       "110015"
      ]
     },
     "execution_count": 72,
     "metadata": {},
     "output_type": "execute_result"
    }
   ],
   "source": [
    "len(dataoct2[dataoct2.price>50])"
   ]
  },
  {
   "cell_type": "code",
   "execution_count": 73,
   "metadata": {},
   "outputs": [
    {
     "data": {
      "text/plain": [
       "3202425"
      ]
     },
     "execution_count": 73,
     "metadata": {},
     "output_type": "execute_result"
    }
   ],
   "source": [
    "len(dataoct2[dataoct2.price<10])\n",
    "#people are buying more of less than 10$ products - purchase event is co-related to price"
   ]
  },
  {
   "cell_type": "code",
   "execution_count": 74,
   "metadata": {},
   "outputs": [
    {
     "data": {
      "text/plain": [
       "404308"
      ]
     },
     "execution_count": 74,
     "metadata": {},
     "output_type": "execute_result"
    }
   ],
   "source": [
    "len(dataoct2[(dataoct2.price>=10) & (dataoct2.price<20)])"
   ]
  },
  {
   "cell_type": "code",
   "execution_count": 75,
   "metadata": {},
   "outputs": [
    {
     "data": {
      "text/plain": [
       "91305"
      ]
     },
     "execution_count": 75,
     "metadata": {},
     "output_type": "execute_result"
    }
   ],
   "source": [
    "len(dataoct2[(dataoct2.price>=20) & (dataoct2.price<30)])"
   ]
  },
  {
   "cell_type": "code",
   "execution_count": 76,
   "metadata": {},
   "outputs": [
    {
     "data": {
      "text/plain": [
       "<matplotlib.axes._subplots.AxesSubplot at 0x21968bf3d08>"
      ]
     },
     "execution_count": 76,
     "metadata": {},
     "output_type": "execute_result"
    },
    {
     "data": {
      "image/png": "[encoded data removed]",
      "text/plain": [
       "<Figure size 432x288 with 1 Axes>"
      ]
     },
     "metadata": {
      "needs_background": "light"
     },
     "output_type": "display_data"
    }
   ],
   "source": [
    "dataoct2.price.plot(kind='hist', bins=20)"
   ]
  },
  {
   "cell_type": "code",
   "execution_count": 77,
   "metadata": {},
   "outputs": [
    {
     "data": {
      "text/plain": [
       "<matplotlib.axes._subplots.AxesSubplot at 0x21973668048>"
      ]
     },
     "execution_count": 77,
     "metadata": {},
     "output_type": "execute_result"
    },
    {
     "data": {
      "image/png": "[encoded data removed]",
      "text/plain": [
       "<Figure size 432x288 with 1 Axes>"
      ]
     },
     "metadata": {
      "needs_background": "light"
     },
     "output_type": "display_data"
    }
   ],
   "source": [
    "dataoct1.price.plot(kind='hist', bins=range(0,50)) #maximum data in the range of 0-8"
   ]
  },
  {
   "cell_type": "code",
   "execution_count": 78,
   "metadata": {},
   "outputs": [],
   "source": [
    "#write ecdf function\n",
    "\n",
    "def ecdf(data) :\n",
    "    x = np.sort(data)\n",
    "    y = np.arange(1, len(data) + 1)/len(data)\n",
    "    return x, y"
   ]
  },
  {
   "cell_type": "code",
   "execution_count": 79,
   "metadata": {},
   "outputs": [
    {
     "data": {
      "text/plain": [
       "array([ 1.94,  3.89,  5.56,  6.33,  9.21, 10.63, 12.54])"
      ]
     },
     "execution_count": 79,
     "metadata": {},
     "output_type": "execute_result"
    }
   ],
   "source": [
    "#plotting the percentiles\n",
    "percentiles = np.array([25, 50, 75, 80, 90, 95, 97.5])\n",
    "vals = np.percentile(dataoct2.price[dataoct2.price<15], percentiles)\n",
    "vals"
   ]
  },
  {
   "cell_type": "code",
   "execution_count": 80,
   "metadata": {},
   "outputs": [
    {
     "data": {
      "image/png": "[encoded data removed]",
      "text/plain": [
       "<Figure size 432x288 with 1 Axes>"
      ]
     },
     "metadata": {
      "needs_background": "light"
     },
     "output_type": "display_data"
    }
   ],
   "source": [
    "xax, yax = ecdf(dataoct2.price[dataoct2.price<15])\n",
    "#plot ecdf for price distribution\n",
    "_ = plt.plot(xax, yax, marker='.', linestyle='none' )\n",
    "_ = plt.plot(vals, percentiles/100, marker='D', color='red',\n",
    "         linestyle='none')\n",
    "_ = plt.xlabel('price')\n",
    "_ = plt.ylabel('price distribution')\n"
   ]
  },
  {
   "cell_type": "code",
   "execution_count": 81,
   "metadata": {},
   "outputs": [
    {
     "data": {
      "text/plain": [
       "array([ 2.22 ,  4.11 ,  7.14 ,  9.178, 15.71 , 29.29 , 55.56 ])"
      ]
     },
     "execution_count": 81,
     "metadata": {},
     "output_type": "execute_result"
    }
   ],
   "source": [
    "xax1, yax1 = ecdf(dataoct2.price)\n",
    "vals1 = np.percentile(dataoct2.price, percentiles)\n",
    "vals1"
   ]
  },
  {
   "cell_type": "code",
   "execution_count": 82,
   "metadata": {},
   "outputs": [
    {
     "data": {
      "image/png": "[encoded data removed]",
      "text/plain": [
       "<Figure size 432x288 with 1 Axes>"
      ]
     },
     "metadata": {
      "needs_background": "light"
     },
     "output_type": "display_data"
    }
   ],
   "source": [
    "#plot ecdf for price distribution\n",
    "_ = plt.plot(xax1, yax1, marker='.', linestyle='none' )\n",
    "_ = plt.plot(vals1, percentiles/100, marker='D', color='red',\n",
    "         linestyle='none')\n",
    "_ = plt.xlabel('price')\n",
    "_ = plt.ylabel('price distribution')"
   ]
  },
  {
   "cell_type": "code",
   "execution_count": 84,
   "metadata": {},
   "outputs": [],
   "source": [
    "#pivot table exploration, find the count of each event_type by product_id, category_code, brand\n",
    "subsetdata = dataoct2[['event_type', 'product_id']]\n",
    "#subsetdata['event_type'] = subsetdata['event_type'].astype('category')\n",
    "#subsetdata['event_type'].set_categories([\"cart\",\"view\",\"purchase\",\"remove_from_cart\"],inplace=True)\n",
    "\n",
    "pivotbyproduct = pd.pivot_table(subsetdata,index=['product_id'], columns=['event_type'], values=['event_type'], aggfunc=len, fill_value=0)"
   ]
  },
  {
   "cell_type": "code",
   "execution_count": 85,
   "metadata": {},
   "outputs": [
    {
     "data": {
      "text/html": [
       "<div>\n",
       "<style scoped>\n",
       "    .dataframe tbody tr th:only-of-type {\n",
       "        vertical-align: middle;\n",
       "    }\n",
       "\n",
       "    .dataframe tbody tr th {\n",
       "        vertical-align: top;\n",
       "    }\n",
       "\n",
       "    .dataframe thead th {\n",
       "        text-align: right;\n",
       "    }\n",
       "</style>\n",
       "<table border=\"1\" class=\"dataframe\">\n",
       "  <thead>\n",
       "    <tr style=\"text-align: right;\">\n",
       "      <th>event_type</th>\n",
       "      <th>cart</th>\n",
       "      <th>purchase</th>\n",
       "      <th>remove_from_cart</th>\n",
       "      <th>view</th>\n",
       "    </tr>\n",
       "    <tr>\n",
       "      <th>product_id</th>\n",
       "      <th></th>\n",
       "      <th></th>\n",
       "      <th></th>\n",
       "      <th></th>\n",
       "    </tr>\n",
       "  </thead>\n",
       "  <tbody>\n",
       "    <tr>\n",
       "      <td>5854897</td>\n",
       "      <td>3682</td>\n",
       "      <td>700</td>\n",
       "      <td>956</td>\n",
       "      <td>687</td>\n",
       "    </tr>\n",
       "    <tr>\n",
       "      <td>5700037</td>\n",
       "      <td>4481</td>\n",
       "      <td>695</td>\n",
       "      <td>1155</td>\n",
       "      <td>2324</td>\n",
       "    </tr>\n",
       "    <tr>\n",
       "      <td>5751422</td>\n",
       "      <td>2219</td>\n",
       "      <td>644</td>\n",
       "      <td>957</td>\n",
       "      <td>4093</td>\n",
       "    </tr>\n",
       "    <tr>\n",
       "      <td>5802432</td>\n",
       "      <td>4273</td>\n",
       "      <td>640</td>\n",
       "      <td>956</td>\n",
       "      <td>900</td>\n",
       "    </tr>\n",
       "    <tr>\n",
       "      <td>5792800</td>\n",
       "      <td>1937</td>\n",
       "      <td>592</td>\n",
       "      <td>824</td>\n",
       "      <td>3405</td>\n",
       "    </tr>\n",
       "    <tr>\n",
       "      <td>5686925</td>\n",
       "      <td>3822</td>\n",
       "      <td>583</td>\n",
       "      <td>958</td>\n",
       "      <td>879</td>\n",
       "    </tr>\n",
       "    <tr>\n",
       "      <td>5751383</td>\n",
       "      <td>2045</td>\n",
       "      <td>566</td>\n",
       "      <td>933</td>\n",
       "      <td>4715</td>\n",
       "    </tr>\n",
       "    <tr>\n",
       "      <td>5304</td>\n",
       "      <td>1875</td>\n",
       "      <td>524</td>\n",
       "      <td>602</td>\n",
       "      <td>774</td>\n",
       "    </tr>\n",
       "    <tr>\n",
       "      <td>5815662</td>\n",
       "      <td>2717</td>\n",
       "      <td>498</td>\n",
       "      <td>856</td>\n",
       "      <td>1669</td>\n",
       "    </tr>\n",
       "    <tr>\n",
       "      <td>5688124</td>\n",
       "      <td>2529</td>\n",
       "      <td>462</td>\n",
       "      <td>535</td>\n",
       "      <td>502</td>\n",
       "    </tr>\n",
       "  </tbody>\n",
       "</table>\n",
       "</div>"
      ],
      "text/plain": [
       "event_type  cart  purchase  remove_from_cart  view\n",
       "product_id                                        \n",
       "5854897     3682       700               956   687\n",
       "5700037     4481       695              1155  2324\n",
       "5751422     2219       644               957  4093\n",
       "5802432     4273       640               956   900\n",
       "5792800     1937       592               824  3405\n",
       "5686925     3822       583               958   879\n",
       "5751383     2045       566               933  4715\n",
       "5304        1875       524               602   774\n",
       "5815662     2717       498               856  1669\n",
       "5688124     2529       462               535   502"
      ]
     },
     "execution_count": 85,
     "metadata": {},
     "output_type": "execute_result"
    }
   ],
   "source": [
    "#sort by purchase i ndescending order, find top 10 products with max purchase\n",
    "pivotbyproduct.sort_values('purchase', ascending=False).head(10)"
   ]
  },
  {
   "cell_type": "code",
   "execution_count": 86,
   "metadata": {},
   "outputs": [
    {
     "data": {
      "text/html": [
       "<div>\n",
       "<style scoped>\n",
       "    .dataframe tbody tr th:only-of-type {\n",
       "        vertical-align: middle;\n",
       "    }\n",
       "\n",
       "    .dataframe tbody tr th {\n",
       "        vertical-align: top;\n",
       "    }\n",
       "\n",
       "    .dataframe thead th {\n",
       "        text-align: right;\n",
       "    }\n",
       "</style>\n",
       "<table border=\"1\" class=\"dataframe\">\n",
       "  <thead>\n",
       "    <tr style=\"text-align: right;\">\n",
       "      <th>event_type</th>\n",
       "      <th>cart</th>\n",
       "      <th>purchase</th>\n",
       "      <th>remove_from_cart</th>\n",
       "      <th>view</th>\n",
       "    </tr>\n",
       "    <tr>\n",
       "      <th>product_id</th>\n",
       "      <th></th>\n",
       "      <th></th>\n",
       "      <th></th>\n",
       "      <th></th>\n",
       "    </tr>\n",
       "  </thead>\n",
       "  <tbody>\n",
       "    <tr>\n",
       "      <td>5700037</td>\n",
       "      <td>4481</td>\n",
       "      <td>695</td>\n",
       "      <td>1155</td>\n",
       "      <td>2324</td>\n",
       "    </tr>\n",
       "    <tr>\n",
       "      <td>5686925</td>\n",
       "      <td>3822</td>\n",
       "      <td>583</td>\n",
       "      <td>958</td>\n",
       "      <td>879</td>\n",
       "    </tr>\n",
       "    <tr>\n",
       "      <td>5751422</td>\n",
       "      <td>2219</td>\n",
       "      <td>644</td>\n",
       "      <td>957</td>\n",
       "      <td>4093</td>\n",
       "    </tr>\n",
       "    <tr>\n",
       "      <td>5854897</td>\n",
       "      <td>3682</td>\n",
       "      <td>700</td>\n",
       "      <td>956</td>\n",
       "      <td>687</td>\n",
       "    </tr>\n",
       "    <tr>\n",
       "      <td>5802432</td>\n",
       "      <td>4273</td>\n",
       "      <td>640</td>\n",
       "      <td>956</td>\n",
       "      <td>900</td>\n",
       "    </tr>\n",
       "    <tr>\n",
       "      <td>5751383</td>\n",
       "      <td>2045</td>\n",
       "      <td>566</td>\n",
       "      <td>933</td>\n",
       "      <td>4715</td>\n",
       "    </tr>\n",
       "    <tr>\n",
       "      <td>5815662</td>\n",
       "      <td>2717</td>\n",
       "      <td>498</td>\n",
       "      <td>856</td>\n",
       "      <td>1669</td>\n",
       "    </tr>\n",
       "    <tr>\n",
       "      <td>5792800</td>\n",
       "      <td>1937</td>\n",
       "      <td>592</td>\n",
       "      <td>824</td>\n",
       "      <td>3405</td>\n",
       "    </tr>\n",
       "    <tr>\n",
       "      <td>5809912</td>\n",
       "      <td>1571</td>\n",
       "      <td>328</td>\n",
       "      <td>816</td>\n",
       "      <td>4936</td>\n",
       "    </tr>\n",
       "    <tr>\n",
       "      <td>5809911</td>\n",
       "      <td>1595</td>\n",
       "      <td>273</td>\n",
       "      <td>739</td>\n",
       "      <td>4219</td>\n",
       "    </tr>\n",
       "  </tbody>\n",
       "</table>\n",
       "</div>"
      ],
      "text/plain": [
       "event_type  cart  purchase  remove_from_cart  view\n",
       "product_id                                        \n",
       "5700037     4481       695              1155  2324\n",
       "5686925     3822       583               958   879\n",
       "5751422     2219       644               957  4093\n",
       "5854897     3682       700               956   687\n",
       "5802432     4273       640               956   900\n",
       "5751383     2045       566               933  4715\n",
       "5815662     2717       498               856  1669\n",
       "5792800     1937       592               824  3405\n",
       "5809912     1571       328               816  4936\n",
       "5809911     1595       273               739  4219"
      ]
     },
     "execution_count": 86,
     "metadata": {},
     "output_type": "execute_result"
    }
   ],
   "source": [
    "#sort by remove i ndescending order find top 20 products with max remove from cart\n",
    "pivotbyproduct.sort_values('remove_from_cart', ascending=False).head(10)"
   ]
  },
  {
   "cell_type": "code",
   "execution_count": 87,
   "metadata": {},
   "outputs": [
    {
     "data": {
      "text/html": [
       "<div>\n",
       "<style scoped>\n",
       "    .dataframe tbody tr th:only-of-type {\n",
       "        vertical-align: middle;\n",
       "    }\n",
       "\n",
       "    .dataframe tbody tr th {\n",
       "        vertical-align: top;\n",
       "    }\n",
       "\n",
       "    .dataframe thead th {\n",
       "        text-align: right;\n",
       "    }\n",
       "</style>\n",
       "<table border=\"1\" class=\"dataframe\">\n",
       "  <thead>\n",
       "    <tr style=\"text-align: right;\">\n",
       "      <th></th>\n",
       "      <th>event_time</th>\n",
       "      <th>event_type</th>\n",
       "      <th>product_id</th>\n",
       "      <th>category_id</th>\n",
       "      <th>category_code</th>\n",
       "      <th>brand</th>\n",
       "      <th>price</th>\n",
       "      <th>user_id</th>\n",
       "      <th>user_session</th>\n",
       "    </tr>\n",
       "  </thead>\n",
       "  <tbody>\n",
       "    <tr>\n",
       "      <td>4</td>\n",
       "      <td>2019-11-01 00:00:24</td>\n",
       "      <td>remove_from_cart</td>\n",
       "      <td>5826182</td>\n",
       "      <td>1487580007483048900</td>\n",
       "      <td>NaN</td>\n",
       "      <td>NaN</td>\n",
       "      <td>3.33</td>\n",
       "      <td>553329724</td>\n",
       "      <td>2067216c-31b5-455d-a1cc-af0575a34ffb</td>\n",
       "    </tr>\n",
       "    <tr>\n",
       "      <td>5</td>\n",
       "      <td>2019-11-01 00:00:24</td>\n",
       "      <td>remove_from_cart</td>\n",
       "      <td>5826182</td>\n",
       "      <td>1487580007483048900</td>\n",
       "      <td>NaN</td>\n",
       "      <td>NaN</td>\n",
       "      <td>3.33</td>\n",
       "      <td>553329724</td>\n",
       "      <td>2067216c-31b5-455d-a1cc-af0575a34ffb</td>\n",
       "    </tr>\n",
       "    <tr>\n",
       "      <td>90</td>\n",
       "      <td>2019-11-01 00:06:22</td>\n",
       "      <td>remove_from_cart</td>\n",
       "      <td>5826980</td>\n",
       "      <td>1487580005671109489</td>\n",
       "      <td>NaN</td>\n",
       "      <td>masura</td>\n",
       "      <td>3.95</td>\n",
       "      <td>556138645</td>\n",
       "      <td>57ed222e-a54a-4907-9944-5a875c2d7f4f</td>\n",
       "    </tr>\n",
       "    <tr>\n",
       "      <td>91</td>\n",
       "      <td>2019-11-01 00:06:22</td>\n",
       "      <td>remove_from_cart</td>\n",
       "      <td>5826980</td>\n",
       "      <td>1487580005671109489</td>\n",
       "      <td>NaN</td>\n",
       "      <td>masura</td>\n",
       "      <td>3.95</td>\n",
       "      <td>556138645</td>\n",
       "      <td>57ed222e-a54a-4907-9944-5a875c2d7f4f</td>\n",
       "    </tr>\n",
       "    <tr>\n",
       "      <td>160</td>\n",
       "      <td>2019-11-01 00:13:16</td>\n",
       "      <td>remove_from_cart</td>\n",
       "      <td>5749153</td>\n",
       "      <td>1487580007592100809</td>\n",
       "      <td>NaN</td>\n",
       "      <td>NaN</td>\n",
       "      <td>0.22</td>\n",
       "      <td>202438687</td>\n",
       "      <td>8dc848f5-bac3-44d7-9414-75d4e599abaf</td>\n",
       "    </tr>\n",
       "  </tbody>\n",
       "</table>\n",
       "</div>"
      ],
      "text/plain": [
       "             event_time        event_type  product_id          category_id  \\\n",
       "4   2019-11-01 00:00:24  remove_from_cart     5826182  1487580007483048900   \n",
       "5   2019-11-01 00:00:24  remove_from_cart     5826182  1487580007483048900   \n",
       "90  2019-11-01 00:06:22  remove_from_cart     5826980  1487580005671109489   \n",
       "91  2019-11-01 00:06:22  remove_from_cart     5826980  1487580005671109489   \n",
       "160 2019-11-01 00:13:16  remove_from_cart     5749153  1487580007592100809   \n",
       "\n",
       "    category_code   brand  price    user_id  \\\n",
       "4             NaN     NaN   3.33  553329724   \n",
       "5             NaN     NaN   3.33  553329724   \n",
       "90            NaN  masura   3.95  556138645   \n",
       "91            NaN  masura   3.95  556138645   \n",
       "160           NaN     NaN   0.22  202438687   \n",
       "\n",
       "                             user_session  \n",
       "4    2067216c-31b5-455d-a1cc-af0575a34ffb  \n",
       "5    2067216c-31b5-455d-a1cc-af0575a34ffb  \n",
       "90   57ed222e-a54a-4907-9944-5a875c2d7f4f  \n",
       "91   57ed222e-a54a-4907-9944-5a875c2d7f4f  \n",
       "160  8dc848f5-bac3-44d7-9414-75d4e599abaf  "
      ]
     },
     "execution_count": 87,
     "metadata": {},
     "output_type": "execute_result"
    }
   ],
   "source": [
    "#cleaning Nov data\n",
    "#find out the duplicate rows in nov data\n",
    "datanov[datanov.duplicated(keep=False)].head()"
   ]
  },
  {
   "cell_type": "code",
   "execution_count": 88,
   "metadata": {},
   "outputs": [],
   "source": [
    "#remove duplicate rows from nov data\n",
    "datanov1 = datanov.drop_duplicates()"
   ]
  },
  {
   "cell_type": "code",
   "execution_count": 89,
   "metadata": {},
   "outputs": [
    {
     "data": {
      "text/plain": [
       "(4389144, 9)"
      ]
     },
     "execution_count": 89,
     "metadata": {},
     "output_type": "execute_result"
    }
   ],
   "source": [
    "datanov1.shape"
   ]
  },
  {
   "cell_type": "code",
   "execution_count": 90,
   "metadata": {},
   "outputs": [
    {
     "data": {
      "text/plain": [
       "(4635837, 9)"
      ]
     },
     "execution_count": 90,
     "metadata": {},
     "output_type": "execute_result"
    }
   ],
   "source": [
    "datanov.shape"
   ]
  },
  {
   "cell_type": "code",
   "execution_count": 91,
   "metadata": {},
   "outputs": [],
   "source": [
    "#find missing values in columns of nov data\n",
    "assert datanov1.event_time.notnull().all()"
   ]
  },
  {
   "cell_type": "code",
   "execution_count": 92,
   "metadata": {},
   "outputs": [],
   "source": [
    "assert datanov1.product_id.notnull().all()"
   ]
  },
  {
   "cell_type": "code",
   "execution_count": 93,
   "metadata": {},
   "outputs": [],
   "source": [
    "assert datanov1.category_id.notnull().all()"
   ]
  },
  {
   "cell_type": "code",
   "execution_count": 94,
   "metadata": {},
   "outputs": [
    {
     "ename": "AssertionError",
     "evalue": "",
     "output_type": "error",
     "traceback": [
      "\u001b[1;31m---------------------------------------------------------------------------\u001b[0m",
      "\u001b[1;31mAssertionError\u001b[0m                            Traceback (most recent call last)",
      "\u001b[1;32m<ipython-input-94-895ff9eb4adb>\u001b[0m in \u001b[0;36m<module>\u001b[1;34m\u001b[0m\n\u001b[1;32m----> 1\u001b[1;33m \u001b[1;32massert\u001b[0m \u001b[0mdatanov1\u001b[0m\u001b[1;33m.\u001b[0m\u001b[0muser_session\u001b[0m\u001b[1;33m.\u001b[0m\u001b[0mnotnull\u001b[0m\u001b[1;33m(\u001b[0m\u001b[1;33m)\u001b[0m\u001b[1;33m.\u001b[0m\u001b[0mall\u001b[0m\u001b[1;33m(\u001b[0m\u001b[1;33m)\u001b[0m\u001b[1;33m\u001b[0m\u001b[1;33m\u001b[0m\u001b[0m\n\u001b[0m",
      "\u001b[1;31mAssertionError\u001b[0m: "
     ]
    }
   ],
   "source": [
    "assert datanov1.user_session.notnull().all()"
   ]
  },
  {
   "cell_type": "code",
   "execution_count": 95,
   "metadata": {},
   "outputs": [
    {
     "data": {
      "text/plain": [
       "755"
      ]
     },
     "execution_count": 95,
     "metadata": {},
     "output_type": "execute_result"
    }
   ],
   "source": [
    "len(datanov1[datanov1.user_session.isnull()]) #there are 755 rows with null session value"
   ]
  },
  {
   "cell_type": "code",
   "execution_count": 96,
   "metadata": {},
   "outputs": [
    {
     "data": {
      "text/plain": [
       "(4388389, 9)"
      ]
     },
     "execution_count": 96,
     "metadata": {},
     "output_type": "execute_result"
    }
   ],
   "source": [
    "#drop rows with null session value as it is only 755 rows\n",
    "datanov1 = datanov1[datanov1.user_session.notnull()]\n",
    "datanov1.shape"
   ]
  },
  {
   "cell_type": "code",
   "execution_count": 97,
   "metadata": {},
   "outputs": [],
   "source": [
    "assert datanov1.event_type.notnull().all()"
   ]
  },
  {
   "cell_type": "code",
   "execution_count": 98,
   "metadata": {},
   "outputs": [
    {
     "data": {
      "text/plain": [
       "NaN                                       4314836\n",
       "appliances.environment.vacuum               31319\n",
       "stationery.cartrige                         12645\n",
       "apparel.glove                               10232\n",
       "furniture.living_room.cabinet                7124\n",
       "accessories.bag                              5796\n",
       "furniture.bathroom.bath                      4688\n",
       "appliances.personal.hair_cutter               811\n",
       "accessories.cosmetic_bag                      589\n",
       "furniture.living_room.chair                   182\n",
       "appliances.environment.air_conditioner        167\n",
       "Name: category_code, dtype: int64"
      ]
     },
     "execution_count": 98,
     "metadata": {},
     "output_type": "execute_result"
    }
   ],
   "source": [
    "datanov1.category_code.value_counts(dropna=False) #lot of null category_code"
   ]
  },
  {
   "cell_type": "code",
   "execution_count": 99,
   "metadata": {},
   "outputs": [
    {
     "data": {
      "text/plain": [
       "NaN          1879673\n",
       "runail        304861\n",
       "grattol       192947\n",
       "irisk         191319\n",
       "masura        173276\n",
       "              ...   \n",
       "shifei             3\n",
       "macadamia          2\n",
       "footlogix          2\n",
       "dessata            2\n",
       "ibd                1\n",
       "Name: brand, Length: 240, dtype: int64"
      ]
     },
     "execution_count": 99,
     "metadata": {},
     "output_type": "execute_result"
    }
   ],
   "source": [
    "datanov1.brand.value_counts(dropna=False) #lot of null brands "
   ]
  },
  {
   "cell_type": "code",
   "execution_count": 100,
   "metadata": {},
   "outputs": [],
   "source": [
    "assert datanov1.user_id.notnull().all()"
   ]
  },
  {
   "cell_type": "code",
   "execution_count": 101,
   "metadata": {},
   "outputs": [
    {
     "data": {
      "text/plain": [
       "count    4.388389e+06\n",
       "mean     8.308831e+00\n",
       "std      1.916141e+01\n",
       "min     -7.937000e+01\n",
       "25%      1.980000e+00\n",
       "50%      3.970000e+00\n",
       "75%      6.650000e+00\n",
       "max      3.277800e+02\n",
       "Name: price, dtype: float64"
      ]
     },
     "execution_count": 101,
     "metadata": {},
     "output_type": "execute_result"
    }
   ],
   "source": [
    "datanov1.price.describe()"
   ]
  },
  {
   "cell_type": "code",
   "execution_count": 102,
   "metadata": {},
   "outputs": [
    {
     "data": {
      "text/plain": [
       "16"
      ]
     },
     "execution_count": 102,
     "metadata": {},
     "output_type": "execute_result"
    }
   ],
   "source": [
    "len(datanov1[datanov1.price <0 ])"
   ]
  },
  {
   "cell_type": "code",
   "execution_count": 103,
   "metadata": {},
   "outputs": [],
   "source": [
    "#drop rows with negative price only 16 of them\n",
    "datanov2 = datanov1[datanov1.price >=0 ]"
   ]
  },
  {
   "cell_type": "code",
   "execution_count": 104,
   "metadata": {},
   "outputs": [
    {
     "data": {
      "text/plain": [
       "11455"
      ]
     },
     "execution_count": 104,
     "metadata": {},
     "output_type": "execute_result"
    }
   ],
   "source": [
    "len(datanov2[datanov2.price == 0])"
   ]
  },
  {
   "cell_type": "code",
   "execution_count": 105,
   "metadata": {},
   "outputs": [
    {
     "data": {
      "text/plain": [
       "6026"
      ]
     },
     "execution_count": 105,
     "metadata": {},
     "output_type": "execute_result"
    }
   ],
   "source": [
    "len(dataoct1[dataoct1.price==0]) #there are more data in nov with zero price - thanksgiving sale??"
   ]
  },
  {
   "cell_type": "code",
   "execution_count": 106,
   "metadata": {},
   "outputs": [
    {
     "data": {
      "text/plain": [
       "<matplotlib.axes._subplots.AxesSubplot at 0x21910d41a08>"
      ]
     },
     "execution_count": 106,
     "metadata": {},
     "output_type": "execute_result"
    },
    {
     "data": {
      "image/png": "[encoded data removed]",
      "text/plain": [
       "<Figure size 432x288 with 1 Axes>"
      ]
     },
     "metadata": {
      "needs_background": "light"
     },
     "output_type": "display_data"
    }
   ],
   "source": [
    "datanov2.price.plot(kind='hist', xlim=(0,100), bins=100) #most of the data lies in price range 0 - 35"
   ]
  },
  {
   "cell_type": "code",
   "execution_count": 107,
   "metadata": {},
   "outputs": [
    {
     "data": {
      "text/plain": [
       "<matplotlib.axes._subplots.AxesSubplot at 0x2197c119a48>"
      ]
     },
     "execution_count": 107,
     "metadata": {},
     "output_type": "execute_result"
    },
    {
     "data": {
      "image/png": "[encoded data removed]",
      "text/plain": [
       "<Figure size 432x288 with 1 Axes>"
      ]
     },
     "metadata": {
      "needs_background": "light"
     },
     "output_type": "display_data"
    }
   ],
   "source": [
    "datanov2.price.plot(kind='hist', bins=range(0,20))"
   ]
  },
  {
   "cell_type": "code",
   "execution_count": 108,
   "metadata": {},
   "outputs": [
    {
     "data": {
      "text/plain": [
       "<matplotlib.axes._subplots.AxesSubplot at 0x21905334dc8>"
      ]
     },
     "execution_count": 108,
     "metadata": {},
     "output_type": "execute_result"
    },
    {
     "data": {
      "image/png": "[encoded data removed]",
      "text/plain": [
       "<Figure size 432x288 with 1 Axes>"
      ]
     },
     "metadata": {
      "needs_background": "light"
     },
     "output_type": "display_data"
    }
   ],
   "source": [
    "datanov2.price.plot(kind='hist', bins=range(0,40))"
   ]
  },
  {
   "cell_type": "code",
   "execution_count": 109,
   "metadata": {},
   "outputs": [],
   "source": [
    "#find if category id and category code are related\n",
    "#get all rows with notnull category code\n",
    "datanov3 = datanov2[datanov2.category_code.notnull()]"
   ]
  },
  {
   "cell_type": "code",
   "execution_count": 110,
   "metadata": {},
   "outputs": [
    {
     "data": {
      "text/plain": [
       "(73553, 9)"
      ]
     },
     "execution_count": 110,
     "metadata": {},
     "output_type": "execute_result"
    }
   ],
   "source": [
    "datanov3.shape"
   ]
  },
  {
   "cell_type": "code",
   "execution_count": 111,
   "metadata": {},
   "outputs": [
    {
     "data": {
      "text/html": [
       "<div>\n",
       "<style scoped>\n",
       "    .dataframe tbody tr th:only-of-type {\n",
       "        vertical-align: middle;\n",
       "    }\n",
       "\n",
       "    .dataframe tbody tr th {\n",
       "        vertical-align: top;\n",
       "    }\n",
       "\n",
       "    .dataframe thead th {\n",
       "        text-align: right;\n",
       "    }\n",
       "</style>\n",
       "<table border=\"1\" class=\"dataframe\">\n",
       "  <thead>\n",
       "    <tr style=\"text-align: right;\">\n",
       "      <th></th>\n",
       "      <th>event_time</th>\n",
       "      <th>event_type</th>\n",
       "      <th>product_id</th>\n",
       "      <th>category_id</th>\n",
       "      <th>category_code</th>\n",
       "      <th>brand</th>\n",
       "      <th>price</th>\n",
       "      <th>user_id</th>\n",
       "      <th>user_session</th>\n",
       "    </tr>\n",
       "  </thead>\n",
       "  <tbody>\n",
       "    <tr>\n",
       "      <td>66</td>\n",
       "      <td>2019-11-01 00:04:33</td>\n",
       "      <td>purchase</td>\n",
       "      <td>5766980</td>\n",
       "      <td>1487580013053083824</td>\n",
       "      <td>stationery.cartrige</td>\n",
       "      <td>italwax</td>\n",
       "      <td>1.98</td>\n",
       "      <td>564451209</td>\n",
       "      <td>861ab2f1-b2e5-886f-a93b-5b067eff081f</td>\n",
       "    </tr>\n",
       "    <tr>\n",
       "      <td>67</td>\n",
       "      <td>2019-11-01 00:04:33</td>\n",
       "      <td>purchase</td>\n",
       "      <td>5767494</td>\n",
       "      <td>1487580013053083824</td>\n",
       "      <td>stationery.cartrige</td>\n",
       "      <td>italwax</td>\n",
       "      <td>2.14</td>\n",
       "      <td>564451209</td>\n",
       "      <td>861ab2f1-b2e5-886f-a93b-5b067eff081f</td>\n",
       "    </tr>\n",
       "    <tr>\n",
       "      <td>68</td>\n",
       "      <td>2019-11-01 00:04:33</td>\n",
       "      <td>purchase</td>\n",
       "      <td>5775813</td>\n",
       "      <td>1487580013053083824</td>\n",
       "      <td>stationery.cartrige</td>\n",
       "      <td>italwax</td>\n",
       "      <td>1.98</td>\n",
       "      <td>564451209</td>\n",
       "      <td>861ab2f1-b2e5-886f-a93b-5b067eff081f</td>\n",
       "    </tr>\n",
       "    <tr>\n",
       "      <td>69</td>\n",
       "      <td>2019-11-01 00:04:33</td>\n",
       "      <td>purchase</td>\n",
       "      <td>5775814</td>\n",
       "      <td>1487580013053083824</td>\n",
       "      <td>stationery.cartrige</td>\n",
       "      <td>italwax</td>\n",
       "      <td>1.98</td>\n",
       "      <td>564451209</td>\n",
       "      <td>861ab2f1-b2e5-886f-a93b-5b067eff081f</td>\n",
       "    </tr>\n",
       "    <tr>\n",
       "      <td>242</td>\n",
       "      <td>2019-11-01 00:16:56</td>\n",
       "      <td>view</td>\n",
       "      <td>5885596</td>\n",
       "      <td>1487580006350586771</td>\n",
       "      <td>appliances.environment.vacuum</td>\n",
       "      <td>polarus</td>\n",
       "      <td>102.38</td>\n",
       "      <td>202438687</td>\n",
       "      <td>8dc848f5-bac3-44d7-9414-75d4e599abaf</td>\n",
       "    </tr>\n",
       "    <tr>\n",
       "      <td>252</td>\n",
       "      <td>2019-11-01 00:18:27</td>\n",
       "      <td>view</td>\n",
       "      <td>5743974</td>\n",
       "      <td>1487580013053083824</td>\n",
       "      <td>stationery.cartrige</td>\n",
       "      <td>italwax</td>\n",
       "      <td>1.98</td>\n",
       "      <td>370706182</td>\n",
       "      <td>6223f8f8-7eb1-498a-b35e-8292ea3c7b9e</td>\n",
       "    </tr>\n",
       "    <tr>\n",
       "      <td>264</td>\n",
       "      <td>2019-11-01 00:20:31</td>\n",
       "      <td>view</td>\n",
       "      <td>4965</td>\n",
       "      <td>1487580010695884882</td>\n",
       "      <td>accessories.bag</td>\n",
       "      <td>NaN</td>\n",
       "      <td>34.52</td>\n",
       "      <td>513114494</td>\n",
       "      <td>4d9cd992-d34d-4dc4-abe8-0f941ae1fa97</td>\n",
       "    </tr>\n",
       "    <tr>\n",
       "      <td>270</td>\n",
       "      <td>2019-11-01 00:20:54</td>\n",
       "      <td>remove_from_cart</td>\n",
       "      <td>5855510</td>\n",
       "      <td>1487580006350586771</td>\n",
       "      <td>appliances.environment.vacuum</td>\n",
       "      <td>max</td>\n",
       "      <td>95.08</td>\n",
       "      <td>341955890</td>\n",
       "      <td>fe14c5f3-60cd-4363-a577-ce29ca523f1c</td>\n",
       "    </tr>\n",
       "    <tr>\n",
       "      <td>274</td>\n",
       "      <td>2019-11-01 00:21:11</td>\n",
       "      <td>view</td>\n",
       "      <td>5855510</td>\n",
       "      <td>1487580006350586771</td>\n",
       "      <td>appliances.environment.vacuum</td>\n",
       "      <td>max</td>\n",
       "      <td>95.08</td>\n",
       "      <td>341955890</td>\n",
       "      <td>fe14c5f3-60cd-4363-a577-ce29ca523f1c</td>\n",
       "    </tr>\n",
       "    <tr>\n",
       "      <td>277</td>\n",
       "      <td>2019-11-01 00:21:26</td>\n",
       "      <td>view</td>\n",
       "      <td>5861994</td>\n",
       "      <td>1487580010695884882</td>\n",
       "      <td>accessories.bag</td>\n",
       "      <td>NaN</td>\n",
       "      <td>46.02</td>\n",
       "      <td>513114494</td>\n",
       "      <td>4d9cd992-d34d-4dc4-abe8-0f941ae1fa97</td>\n",
       "    </tr>\n",
       "  </tbody>\n",
       "</table>\n",
       "</div>"
      ],
      "text/plain": [
       "             event_time        event_type  product_id          category_id  \\\n",
       "66  2019-11-01 00:04:33          purchase     5766980  1487580013053083824   \n",
       "67  2019-11-01 00:04:33          purchase     5767494  1487580013053083824   \n",
       "68  2019-11-01 00:04:33          purchase     5775813  1487580013053083824   \n",
       "69  2019-11-01 00:04:33          purchase     5775814  1487580013053083824   \n",
       "242 2019-11-01 00:16:56              view     5885596  1487580006350586771   \n",
       "252 2019-11-01 00:18:27              view     5743974  1487580013053083824   \n",
       "264 2019-11-01 00:20:31              view        4965  1487580010695884882   \n",
       "270 2019-11-01 00:20:54  remove_from_cart     5855510  1487580006350586771   \n",
       "274 2019-11-01 00:21:11              view     5855510  1487580006350586771   \n",
       "277 2019-11-01 00:21:26              view     5861994  1487580010695884882   \n",
       "\n",
       "                     category_code    brand   price    user_id  \\\n",
       "66             stationery.cartrige  italwax    1.98  564451209   \n",
       "67             stationery.cartrige  italwax    2.14  564451209   \n",
       "68             stationery.cartrige  italwax    1.98  564451209   \n",
       "69             stationery.cartrige  italwax    1.98  564451209   \n",
       "242  appliances.environment.vacuum  polarus  102.38  202438687   \n",
       "252            stationery.cartrige  italwax    1.98  370706182   \n",
       "264                accessories.bag      NaN   34.52  513114494   \n",
       "270  appliances.environment.vacuum      max   95.08  341955890   \n",
       "274  appliances.environment.vacuum      max   95.08  341955890   \n",
       "277                accessories.bag      NaN   46.02  513114494   \n",
       "\n",
       "                             user_session  \n",
       "66   861ab2f1-b2e5-886f-a93b-5b067eff081f  \n",
       "67   861ab2f1-b2e5-886f-a93b-5b067eff081f  \n",
       "68   861ab2f1-b2e5-886f-a93b-5b067eff081f  \n",
       "69   861ab2f1-b2e5-886f-a93b-5b067eff081f  \n",
       "242  8dc848f5-bac3-44d7-9414-75d4e599abaf  \n",
       "252  6223f8f8-7eb1-498a-b35e-8292ea3c7b9e  \n",
       "264  4d9cd992-d34d-4dc4-abe8-0f941ae1fa97  \n",
       "270  fe14c5f3-60cd-4363-a577-ce29ca523f1c  \n",
       "274  fe14c5f3-60cd-4363-a577-ce29ca523f1c  \n",
       "277  4d9cd992-d34d-4dc4-abe8-0f941ae1fa97  "
      ]
     },
     "execution_count": 111,
     "metadata": {},
     "output_type": "execute_result"
    }
   ],
   "source": [
    "datanov3.head(10)"
   ]
  },
  {
   "cell_type": "code",
   "execution_count": 112,
   "metadata": {},
   "outputs": [
    {
     "data": {
      "text/plain": [
       "category_code                           category_id        \n",
       "accessories.bag                         1487580010695884882     5796\n",
       "accessories.cosmetic_bag                1921723506584715388      589\n",
       "apparel.glove                           1487580012071616651      160\n",
       "                                        2007399943458784057    10072\n",
       "appliances.environment.air_conditioner  1487580008221246441       23\n",
       "                                        1783999067181810204      144\n",
       "appliances.environment.vacuum           1487580006350586771    31319\n",
       "appliances.personal.hair_cutter         1487580008070251489      811\n",
       "furniture.bathroom.bath                 1487580011970953351     1963\n",
       "                                        1487580012147114126      160\n",
       "                                        1487580012759482531       49\n",
       "                                        2018287324474901238      559\n",
       "                                        2193074740686488401     1957\n",
       "furniture.living_room.cabinet           2193074740619379535     7124\n",
       "furniture.living_room.chair             2022622168218599898      182\n",
       "stationery.cartrige                     1487580013053083824    12645\n",
       "dtype: int64"
      ]
     },
     "execution_count": 112,
     "metadata": {},
     "output_type": "execute_result"
    }
   ],
   "source": [
    "datanov3.groupby([datanov3.category_code,datanov3.category_id]).size()"
   ]
  },
  {
   "cell_type": "code",
   "execution_count": 113,
   "metadata": {},
   "outputs": [
    {
     "data": {
      "text/plain": [
       "491"
      ]
     },
     "execution_count": 113,
     "metadata": {},
     "output_type": "execute_result"
    }
   ],
   "source": [
    "len(datanov2.category_id.unique())#there are 491 unique category ids"
   ]
  },
  {
   "cell_type": "code",
   "execution_count": 114,
   "metadata": {},
   "outputs": [
    {
     "data": {
      "text/plain": [
       "16"
      ]
     },
     "execution_count": 114,
     "metadata": {},
     "output_type": "execute_result"
    }
   ],
   "source": [
    "len(datanov3.category_id.unique())\n",
    "#cannot derive category code from category id as not all category codes are present in datanov3"
   ]
  },
  {
   "cell_type": "code",
   "execution_count": 115,
   "metadata": {},
   "outputs": [],
   "source": [
    "#fill null category code with other value\n",
    "datanov2.category_code = datanov2.category_code.astype(str)"
   ]
  },
  {
   "cell_type": "code",
   "execution_count": 116,
   "metadata": {},
   "outputs": [
    {
     "data": {
      "text/plain": [
       "other                                     4314820\n",
       "appliances.environment.vacuum               31319\n",
       "stationery.cartrige                         12645\n",
       "apparel.glove                               10232\n",
       "furniture.living_room.cabinet                7124\n",
       "accessories.bag                              5796\n",
       "furniture.bathroom.bath                      4688\n",
       "appliances.personal.hair_cutter               811\n",
       "accessories.cosmetic_bag                      589\n",
       "furniture.living_room.chair                   182\n",
       "appliances.environment.air_conditioner        167\n",
       "Name: category_code, dtype: int64"
      ]
     },
     "execution_count": 116,
     "metadata": {},
     "output_type": "execute_result"
    }
   ],
   "source": [
    "datanov2.category_code = datanov2.category_code.replace('nan', 'other')\n",
    "datanov2.category_code.value_counts()"
   ]
  },
  {
   "cell_type": "code",
   "execution_count": 117,
   "metadata": {},
   "outputs": [
    {
     "name": "stdout",
     "output_type": "stream",
     "text": [
      "<class 'pandas.core.frame.DataFrame'>\n",
      "Int64Index: 4388373 entries, 0 to 4635836\n",
      "Data columns (total 9 columns):\n",
      "event_time       datetime64[ns]\n",
      "event_type       category\n",
      "product_id       int64\n",
      "category_id      int64\n",
      "category_code    category\n",
      "brand            object\n",
      "price            float64\n",
      "user_id          int64\n",
      "user_session     object\n",
      "dtypes: category(2), datetime64[ns](1), float64(1), int64(3), object(2)\n",
      "memory usage: 276.2+ MB\n"
     ]
    }
   ],
   "source": [
    "datanov2.category_code = datanov2.category_code.astype('category')\n",
    "datanov2.info()"
   ]
  },
  {
   "cell_type": "code",
   "execution_count": 118,
   "metadata": {},
   "outputs": [],
   "source": [
    "#create dictionary of brand and product_id\n",
    "notnullbrandnov = datanov2[datanov2.brand.notnull()]"
   ]
  },
  {
   "cell_type": "code",
   "execution_count": 119,
   "metadata": {},
   "outputs": [
    {
     "data": {
      "text/plain": [
       "24309"
      ]
     },
     "execution_count": 119,
     "metadata": {},
     "output_type": "execute_result"
    }
   ],
   "source": [
    "brandnovdict=dict(zip(notnullbrandnov.product_id,notnullbrandnov.brand))\n",
    "len(brandnovdict)"
   ]
  },
  {
   "cell_type": "code",
   "execution_count": 120,
   "metadata": {},
   "outputs": [
    {
     "data": {
      "text/plain": [
       "1879657"
      ]
     },
     "execution_count": 120,
     "metadata": {},
     "output_type": "execute_result"
    }
   ],
   "source": [
    "len(datanov2[datanov2.brand.isnull()])"
   ]
  },
  {
   "cell_type": "code",
   "execution_count": 121,
   "metadata": {},
   "outputs": [
    {
     "data": {
      "text/plain": [
       "1874057"
      ]
     },
     "execution_count": 121,
     "metadata": {},
     "output_type": "execute_result"
    }
   ],
   "source": [
    "#fill brand from dictionary\n",
    "datanov2.brand = datanov2.product_id.map(brandnovdict)\n",
    "len(datanov2[datanov2.brand.isnull()])"
   ]
  },
  {
   "cell_type": "code",
   "execution_count": 122,
   "metadata": {},
   "outputs": [
    {
     "data": {
      "text/plain": [
       "missing      1874057\n",
       "runail        305731\n",
       "grattol       192951\n",
       "irisk         191413\n",
       "masura        173276\n",
       "              ...   \n",
       "shifei             3\n",
       "footlogix          2\n",
       "macadamia          2\n",
       "dessata            2\n",
       "ibd                1\n",
       "Name: brand, Length: 240, dtype: int64"
      ]
     },
     "execution_count": 122,
     "metadata": {},
     "output_type": "execute_result"
    }
   ],
   "source": [
    "#5600 rows got filled with brand\n",
    "#fill remaining nan with missing\n",
    "datanov2.brand = datanov2.brand.astype(str)\n",
    "datanov2.brand = datanov2.brand.replace('nan', 'missing')\n",
    "datanov2.brand.value_counts()"
   ]
  },
  {
   "cell_type": "code",
   "execution_count": 123,
   "metadata": {},
   "outputs": [],
   "source": [
    "datanov2.brand = datanov2.brand.astype('category')"
   ]
  },
  {
   "cell_type": "code",
   "execution_count": 124,
   "metadata": {},
   "outputs": [],
   "source": [
    "#draw plots of multiple columns price < 10, price < 20 etc to see their trend over different days of the week"
   ]
  },
  {
   "cell_type": "code",
   "execution_count": 125,
   "metadata": {},
   "outputs": [
    {
     "data": {
      "text/plain": [
       "<matplotlib.axes._subplots.AxesSubplot at 0x2190ee5f648>"
      ]
     },
     "execution_count": 125,
     "metadata": {},
     "output_type": "execute_result"
    },
    {
     "data": {
      "image/png": "[encoded data removed]",
      "text/plain": [
       "<Figure size 432x288 with 1 Axes>"
      ]
     },
     "metadata": {
      "needs_background": "light"
     },
     "output_type": "display_data"
    }
   ],
   "source": [
    "datanov2.event_type.value_counts().plot(kind='bar')"
   ]
  },
  {
   "cell_type": "code",
   "execution_count": 126,
   "metadata": {},
   "outputs": [
    {
     "data": {
      "text/plain": [
       "<matplotlib.axes._subplots.AxesSubplot at 0x2190ee4c148>"
      ]
     },
     "execution_count": 126,
     "metadata": {},
     "output_type": "execute_result"
    },
    {
     "data": {
      "image/png": "[encoded data removed]",
      "text/plain": [
       "<Figure size 432x288 with 1 Axes>"
      ]
     },
     "metadata": {
      "needs_background": "light"
     },
     "output_type": "display_data"
    }
   ],
   "source": [
    "dataoct2.event_type.value_counts().plot(kind='bar')"
   ]
  },
  {
   "cell_type": "code",
   "execution_count": 127,
   "metadata": {},
   "outputs": [
    {
     "data": {
      "text/plain": [
       "<matplotlib.axes._subplots.AxesSubplot at 0x21901935d88>"
      ]
     },
     "execution_count": 127,
     "metadata": {},
     "output_type": "execute_result"
    },
    {
     "data": {
      "image/png": "[encoded data removed]",
      "text/plain": [
       "<Figure size 432x288 with 1 Axes>"
      ]
     },
     "metadata": {
      "needs_background": "light"
     },
     "output_type": "display_data"
    }
   ],
   "source": [
    "#draw boxplot of price wrt event_type\n",
    "dataoct2.boxplot('price', 'event_type', rot=30)"
   ]
  },
  {
   "cell_type": "code",
   "execution_count": 128,
   "metadata": {},
   "outputs": [
    {
     "data": {
      "text/plain": [
       "<matplotlib.axes._subplots.AxesSubplot at 0x2196fd99808>"
      ]
     },
     "execution_count": 128,
     "metadata": {},
     "output_type": "execute_result"
    },
    {
     "data": {
      "image/png": "[encoded data removed]",
      "text/plain": [
       "<Figure size 432x288 with 1 Axes>"
      ]
     },
     "metadata": {
      "needs_background": "light"
     },
     "output_type": "display_data"
    }
   ],
   "source": [
    "datanov2.boxplot('price', 'event_type', rot=30)"
   ]
  },
  {
   "cell_type": "code",
   "execution_count": 129,
   "metadata": {},
   "outputs": [],
   "source": [
    "#find view to purchase percentage in Oct vs Nov and plot them \n"
   ]
  },
  {
   "cell_type": "code",
   "execution_count": 130,
   "metadata": {},
   "outputs": [
    {
     "name": "stdout",
     "output_type": "stream",
     "text": [
      "<class 'pandas.core.frame.DataFrame'>\n",
      "Int64Index: 4388373 entries, 0 to 4635836\n",
      "Data columns (total 9 columns):\n",
      "event_time       datetime64[ns]\n",
      "event_type       category\n",
      "product_id       int64\n",
      "category_id      int64\n",
      "category_code    category\n",
      "brand            category\n",
      "price            float64\n",
      "user_id          int64\n",
      "user_session     object\n",
      "dtypes: category(3), datetime64[ns](1), float64(1), int64(3), object(1)\n",
      "memory usage: 251.1+ MB\n"
     ]
    }
   ],
   "source": [
    "#count daily purchase\n",
    "datanov2.info()"
   ]
  },
  {
   "cell_type": "code",
   "execution_count": 131,
   "metadata": {},
   "outputs": [],
   "source": [
    "datanov4 = datanov2.copy().set_index('event_time')"
   ]
  },
  {
   "cell_type": "code",
   "execution_count": 132,
   "metadata": {},
   "outputs": [],
   "source": [
    "dailypurchase = datanov4.resample('D').event_type.count() #how to get only purchase count"
   ]
  },
  {
   "cell_type": "code",
   "execution_count": 133,
   "metadata": {},
   "outputs": [
    {
     "data": {
      "text/plain": [
       "event_time\n",
       "2019-11-01    112138\n",
       "2019-11-02    107948\n",
       "2019-11-03    119425\n",
       "2019-11-04    130273\n",
       "2019-11-05    141810\n",
       "Freq: D, Name: event_type, dtype: int64"
      ]
     },
     "execution_count": 133,
     "metadata": {},
     "output_type": "execute_result"
    }
   ],
   "source": [
    "dailypurchase.head()"
   ]
  },
  {
   "cell_type": "code",
   "execution_count": 134,
   "metadata": {},
   "outputs": [],
   "source": [
    "#one-hot encoding to get all event_type categories in 4 separate columns\n",
    "datanov5 = datanov4.copy()\n",
    "datanov5 = pd.get_dummies(datanov5, columns=['event_type'])"
   ]
  },
  {
   "cell_type": "code",
   "execution_count": 135,
   "metadata": {},
   "outputs": [
    {
     "data": {
      "text/html": [
       "<div>\n",
       "<style scoped>\n",
       "    .dataframe tbody tr th:only-of-type {\n",
       "        vertical-align: middle;\n",
       "    }\n",
       "\n",
       "    .dataframe tbody tr th {\n",
       "        vertical-align: top;\n",
       "    }\n",
       "\n",
       "    .dataframe thead th {\n",
       "        text-align: right;\n",
       "    }\n",
       "</style>\n",
       "<table border=\"1\" class=\"dataframe\">\n",
       "  <thead>\n",
       "    <tr style=\"text-align: right;\">\n",
       "      <th></th>\n",
       "      <th>product_id</th>\n",
       "      <th>category_id</th>\n",
       "      <th>category_code</th>\n",
       "      <th>brand</th>\n",
       "      <th>price</th>\n",
       "      <th>user_id</th>\n",
       "      <th>user_session</th>\n",
       "      <th>event_type_cart</th>\n",
       "      <th>event_type_purchase</th>\n",
       "      <th>event_type_remove_from_cart</th>\n",
       "      <th>event_type_view</th>\n",
       "    </tr>\n",
       "    <tr>\n",
       "      <th>event_time</th>\n",
       "      <th></th>\n",
       "      <th></th>\n",
       "      <th></th>\n",
       "      <th></th>\n",
       "      <th></th>\n",
       "      <th></th>\n",
       "      <th></th>\n",
       "      <th></th>\n",
       "      <th></th>\n",
       "      <th></th>\n",
       "      <th></th>\n",
       "    </tr>\n",
       "  </thead>\n",
       "  <tbody>\n",
       "    <tr>\n",
       "      <td>2019-11-01 00:00:02</td>\n",
       "      <td>5802432</td>\n",
       "      <td>1487580009286598681</td>\n",
       "      <td>other</td>\n",
       "      <td>missing</td>\n",
       "      <td>0.32</td>\n",
       "      <td>562076640</td>\n",
       "      <td>09fafd6c-6c99-46b1-834f-33527f4de241</td>\n",
       "      <td>0</td>\n",
       "      <td>0</td>\n",
       "      <td>0</td>\n",
       "      <td>1</td>\n",
       "    </tr>\n",
       "    <tr>\n",
       "      <td>2019-11-01 00:00:09</td>\n",
       "      <td>5844397</td>\n",
       "      <td>1487580006317032337</td>\n",
       "      <td>other</td>\n",
       "      <td>missing</td>\n",
       "      <td>2.38</td>\n",
       "      <td>553329724</td>\n",
       "      <td>2067216c-31b5-455d-a1cc-af0575a34ffb</td>\n",
       "      <td>1</td>\n",
       "      <td>0</td>\n",
       "      <td>0</td>\n",
       "      <td>0</td>\n",
       "    </tr>\n",
       "    <tr>\n",
       "      <td>2019-11-01 00:00:10</td>\n",
       "      <td>5837166</td>\n",
       "      <td>1783999064103190764</td>\n",
       "      <td>other</td>\n",
       "      <td>pnb</td>\n",
       "      <td>22.22</td>\n",
       "      <td>556138645</td>\n",
       "      <td>57ed222e-a54a-4907-9944-5a875c2d7f4f</td>\n",
       "      <td>0</td>\n",
       "      <td>0</td>\n",
       "      <td>0</td>\n",
       "      <td>1</td>\n",
       "    </tr>\n",
       "    <tr>\n",
       "      <td>2019-11-01 00:00:11</td>\n",
       "      <td>5876812</td>\n",
       "      <td>1487580010100293687</td>\n",
       "      <td>other</td>\n",
       "      <td>jessnail</td>\n",
       "      <td>3.16</td>\n",
       "      <td>564506666</td>\n",
       "      <td>186c1951-8052-4b37-adce-dd9644b1d5f7</td>\n",
       "      <td>1</td>\n",
       "      <td>0</td>\n",
       "      <td>0</td>\n",
       "      <td>0</td>\n",
       "    </tr>\n",
       "    <tr>\n",
       "      <td>2019-11-01 00:00:24</td>\n",
       "      <td>5826182</td>\n",
       "      <td>1487580007483048900</td>\n",
       "      <td>other</td>\n",
       "      <td>missing</td>\n",
       "      <td>3.33</td>\n",
       "      <td>553329724</td>\n",
       "      <td>2067216c-31b5-455d-a1cc-af0575a34ffb</td>\n",
       "      <td>0</td>\n",
       "      <td>0</td>\n",
       "      <td>1</td>\n",
       "      <td>0</td>\n",
       "    </tr>\n",
       "  </tbody>\n",
       "</table>\n",
       "</div>"
      ],
      "text/plain": [
       "                     product_id          category_id category_code     brand  \\\n",
       "event_time                                                                     \n",
       "2019-11-01 00:00:02     5802432  1487580009286598681         other   missing   \n",
       "2019-11-01 00:00:09     5844397  1487580006317032337         other   missing   \n",
       "2019-11-01 00:00:10     5837166  1783999064103190764         other       pnb   \n",
       "2019-11-01 00:00:11     5876812  1487580010100293687         other  jessnail   \n",
       "2019-11-01 00:00:24     5826182  1487580007483048900         other   missing   \n",
       "\n",
       "                     price    user_id                          user_session  \\\n",
       "event_time                                                                    \n",
       "2019-11-01 00:00:02   0.32  562076640  09fafd6c-6c99-46b1-834f-33527f4de241   \n",
       "2019-11-01 00:00:09   2.38  553329724  2067216c-31b5-455d-a1cc-af0575a34ffb   \n",
       "2019-11-01 00:00:10  22.22  556138645  57ed222e-a54a-4907-9944-5a875c2d7f4f   \n",
       "2019-11-01 00:00:11   3.16  564506666  186c1951-8052-4b37-adce-dd9644b1d5f7   \n",
       "2019-11-01 00:00:24   3.33  553329724  2067216c-31b5-455d-a1cc-af0575a34ffb   \n",
       "\n",
       "                     event_type_cart  event_type_purchase  \\\n",
       "event_time                                                  \n",
       "2019-11-01 00:00:02                0                    0   \n",
       "2019-11-01 00:00:09                1                    0   \n",
       "2019-11-01 00:00:10                0                    0   \n",
       "2019-11-01 00:00:11                1                    0   \n",
       "2019-11-01 00:00:24                0                    0   \n",
       "\n",
       "                     event_type_remove_from_cart  event_type_view  \n",
       "event_time                                                         \n",
       "2019-11-01 00:00:02                            0                1  \n",
       "2019-11-01 00:00:09                            0                0  \n",
       "2019-11-01 00:00:10                            0                1  \n",
       "2019-11-01 00:00:11                            0                0  \n",
       "2019-11-01 00:00:24                            1                0  "
      ]
     },
     "execution_count": 135,
     "metadata": {},
     "output_type": "execute_result"
    }
   ],
   "source": [
    "datanov5.head()"
   ]
  },
  {
   "cell_type": "code",
   "execution_count": 136,
   "metadata": {},
   "outputs": [],
   "source": [
    "dataoct4 = dataoct1.copy()\n",
    "dataoct4['event_time'] = pd.to_datetime(dataoct4['event_time'], infer_datetime_format=True, errors='ignore') #takes lot of time"
   ]
  },
  {
   "cell_type": "code",
   "execution_count": 137,
   "metadata": {},
   "outputs": [],
   "source": [
    "dataoct5 = dataoct4.copy()\n",
    "dataoct5 = pd.get_dummies(dataoct5, columns=['event_type'])"
   ]
  },
  {
   "cell_type": "code",
   "execution_count": 138,
   "metadata": {},
   "outputs": [
    {
     "data": {
      "text/html": [
       "<div>\n",
       "<style scoped>\n",
       "    .dataframe tbody tr th:only-of-type {\n",
       "        vertical-align: middle;\n",
       "    }\n",
       "\n",
       "    .dataframe tbody tr th {\n",
       "        vertical-align: top;\n",
       "    }\n",
       "\n",
       "    .dataframe thead th {\n",
       "        text-align: right;\n",
       "    }\n",
       "</style>\n",
       "<table border=\"1\" class=\"dataframe\">\n",
       "  <thead>\n",
       "    <tr style=\"text-align: right;\">\n",
       "      <th></th>\n",
       "      <th>product_id</th>\n",
       "      <th>category_id</th>\n",
       "      <th>category_code</th>\n",
       "      <th>brand</th>\n",
       "      <th>price</th>\n",
       "      <th>user_id</th>\n",
       "      <th>user_session</th>\n",
       "      <th>event_type_cart</th>\n",
       "      <th>event_type_purchase</th>\n",
       "      <th>event_type_remove_from_cart</th>\n",
       "      <th>event_type_view</th>\n",
       "    </tr>\n",
       "    <tr>\n",
       "      <th>event_time</th>\n",
       "      <th></th>\n",
       "      <th></th>\n",
       "      <th></th>\n",
       "      <th></th>\n",
       "      <th></th>\n",
       "      <th></th>\n",
       "      <th></th>\n",
       "      <th></th>\n",
       "      <th></th>\n",
       "      <th></th>\n",
       "      <th></th>\n",
       "    </tr>\n",
       "  </thead>\n",
       "  <tbody>\n",
       "    <tr>\n",
       "      <td>2019-10-01 00:00:00</td>\n",
       "      <td>5773203</td>\n",
       "      <td>1487580005134238553</td>\n",
       "      <td>NaN</td>\n",
       "      <td>runail</td>\n",
       "      <td>2.62</td>\n",
       "      <td>463240011</td>\n",
       "      <td>26dd6e6e-4dac-4778-8d2c-92e149dab885</td>\n",
       "      <td>1</td>\n",
       "      <td>0</td>\n",
       "      <td>0</td>\n",
       "      <td>0</td>\n",
       "    </tr>\n",
       "    <tr>\n",
       "      <td>2019-10-01 00:00:03</td>\n",
       "      <td>5773353</td>\n",
       "      <td>1487580005134238553</td>\n",
       "      <td>NaN</td>\n",
       "      <td>runail</td>\n",
       "      <td>2.62</td>\n",
       "      <td>463240011</td>\n",
       "      <td>26dd6e6e-4dac-4778-8d2c-92e149dab885</td>\n",
       "      <td>1</td>\n",
       "      <td>0</td>\n",
       "      <td>0</td>\n",
       "      <td>0</td>\n",
       "    </tr>\n",
       "    <tr>\n",
       "      <td>2019-10-01 00:00:07</td>\n",
       "      <td>5881589</td>\n",
       "      <td>2151191071051219817</td>\n",
       "      <td>NaN</td>\n",
       "      <td>lovely</td>\n",
       "      <td>13.48</td>\n",
       "      <td>429681830</td>\n",
       "      <td>49e8d843-adf3-428b-a2c3-fe8bc6a307c9</td>\n",
       "      <td>1</td>\n",
       "      <td>0</td>\n",
       "      <td>0</td>\n",
       "      <td>0</td>\n",
       "    </tr>\n",
       "    <tr>\n",
       "      <td>2019-10-01 00:00:07</td>\n",
       "      <td>5723490</td>\n",
       "      <td>1487580005134238553</td>\n",
       "      <td>NaN</td>\n",
       "      <td>runail</td>\n",
       "      <td>2.62</td>\n",
       "      <td>463240011</td>\n",
       "      <td>26dd6e6e-4dac-4778-8d2c-92e149dab885</td>\n",
       "      <td>1</td>\n",
       "      <td>0</td>\n",
       "      <td>0</td>\n",
       "      <td>0</td>\n",
       "    </tr>\n",
       "    <tr>\n",
       "      <td>2019-10-01 00:00:15</td>\n",
       "      <td>5881449</td>\n",
       "      <td>1487580013522845895</td>\n",
       "      <td>NaN</td>\n",
       "      <td>lovely</td>\n",
       "      <td>0.56</td>\n",
       "      <td>429681830</td>\n",
       "      <td>49e8d843-adf3-428b-a2c3-fe8bc6a307c9</td>\n",
       "      <td>1</td>\n",
       "      <td>0</td>\n",
       "      <td>0</td>\n",
       "      <td>0</td>\n",
       "    </tr>\n",
       "  </tbody>\n",
       "</table>\n",
       "</div>"
      ],
      "text/plain": [
       "                     product_id          category_id category_code   brand  \\\n",
       "event_time                                                                   \n",
       "2019-10-01 00:00:00     5773203  1487580005134238553           NaN  runail   \n",
       "2019-10-01 00:00:03     5773353  1487580005134238553           NaN  runail   \n",
       "2019-10-01 00:00:07     5881589  2151191071051219817           NaN  lovely   \n",
       "2019-10-01 00:00:07     5723490  1487580005134238553           NaN  runail   \n",
       "2019-10-01 00:00:15     5881449  1487580013522845895           NaN  lovely   \n",
       "\n",
       "                     price    user_id                          user_session  \\\n",
       "event_time                                                                    \n",
       "2019-10-01 00:00:00   2.62  463240011  26dd6e6e-4dac-4778-8d2c-92e149dab885   \n",
       "2019-10-01 00:00:03   2.62  463240011  26dd6e6e-4dac-4778-8d2c-92e149dab885   \n",
       "2019-10-01 00:00:07  13.48  429681830  49e8d843-adf3-428b-a2c3-fe8bc6a307c9   \n",
       "2019-10-01 00:00:07   2.62  463240011  26dd6e6e-4dac-4778-8d2c-92e149dab885   \n",
       "2019-10-01 00:00:15   0.56  429681830  49e8d843-adf3-428b-a2c3-fe8bc6a307c9   \n",
       "\n",
       "                     event_type_cart  event_type_purchase  \\\n",
       "event_time                                                  \n",
       "2019-10-01 00:00:00                1                    0   \n",
       "2019-10-01 00:00:03                1                    0   \n",
       "2019-10-01 00:00:07                1                    0   \n",
       "2019-10-01 00:00:07                1                    0   \n",
       "2019-10-01 00:00:15                1                    0   \n",
       "\n",
       "                     event_type_remove_from_cart  event_type_view  \n",
       "event_time                                                         \n",
       "2019-10-01 00:00:00                            0                0  \n",
       "2019-10-01 00:00:03                            0                0  \n",
       "2019-10-01 00:00:07                            0                0  \n",
       "2019-10-01 00:00:07                            0                0  \n",
       "2019-10-01 00:00:15                            0                0  "
      ]
     },
     "execution_count": 138,
     "metadata": {},
     "output_type": "execute_result"
    }
   ],
   "source": [
    "dataoct5 = dataoct5.set_index(['event_time'])\n",
    "dataoct5.head()"
   ]
  },
  {
   "cell_type": "code",
   "execution_count": 139,
   "metadata": {},
   "outputs": [
    {
     "data": {
      "text/plain": [
       "event_time\n",
       "2019-10-01    134927\n",
       "2019-10-02    190569\n",
       "2019-10-03    118650\n",
       "2019-10-04    109957\n",
       "2019-10-05    100748\n",
       "Freq: D, Name: event_type_purchase, dtype: int64"
      ]
     },
     "execution_count": 139,
     "metadata": {},
     "output_type": "execute_result"
    }
   ],
   "source": [
    "dailypurchaseoct = dataoct5.resample('D').event_type_purchase.count() #how to get only purchase count\n",
    "dailypurchaseoct.head()"
   ]
  },
  {
   "cell_type": "code",
   "execution_count": 140,
   "metadata": {},
   "outputs": [
    {
     "data": {
      "text/plain": [
       "<matplotlib.axes._subplots.AxesSubplot at 0x21978faec48>"
      ]
     },
     "execution_count": 140,
     "metadata": {},
     "output_type": "execute_result"
    },
    {
     "data": {
      "image/png": "[encoded data removed]",
      "text/plain": [
       "<Figure size 432x288 with 1 Axes>"
      ]
     },
     "metadata": {
      "needs_background": "light"
     },
     "output_type": "display_data"
    }
   ],
   "source": [
    "#plot the purchase trend\n",
    "dailypurchaseoct.plot()"
   ]
  },
  {
   "cell_type": "code",
   "execution_count": null,
   "metadata": {},
   "outputs": [],
   "source": [
    "#hourly purchase trend in Oct\n"
   ]
  },
  {
   "cell_type": "code",
   "execution_count": 141,
   "metadata": {},
   "outputs": [
    {
     "data": {
      "text/html": [
       "<div>\n",
       "<style scoped>\n",
       "    .dataframe tbody tr th:only-of-type {\n",
       "        vertical-align: middle;\n",
       "    }\n",
       "\n",
       "    .dataframe tbody tr th {\n",
       "        vertical-align: top;\n",
       "    }\n",
       "\n",
       "    .dataframe thead th {\n",
       "        text-align: right;\n",
       "    }\n",
       "</style>\n",
       "<table border=\"1\" class=\"dataframe\">\n",
       "  <thead>\n",
       "    <tr style=\"text-align: right;\">\n",
       "      <th></th>\n",
       "      <th>event_time</th>\n",
       "      <th>product_id</th>\n",
       "      <th>category_id</th>\n",
       "      <th>category_code</th>\n",
       "      <th>brand</th>\n",
       "      <th>price</th>\n",
       "      <th>user_id</th>\n",
       "      <th>user_session</th>\n",
       "      <th>event_type_cart</th>\n",
       "      <th>event_type_purchase</th>\n",
       "      <th>event_type_remove_from_cart</th>\n",
       "      <th>event_type_view</th>\n",
       "    </tr>\n",
       "  </thead>\n",
       "  <tbody>\n",
       "    <tr>\n",
       "      <td>0</td>\n",
       "      <td>2019-10-01 00:00:00</td>\n",
       "      <td>5773203</td>\n",
       "      <td>1487580005134238553</td>\n",
       "      <td>NaN</td>\n",
       "      <td>runail</td>\n",
       "      <td>2.62</td>\n",
       "      <td>463240011</td>\n",
       "      <td>26dd6e6e-4dac-4778-8d2c-92e149dab885</td>\n",
       "      <td>1</td>\n",
       "      <td>0</td>\n",
       "      <td>0</td>\n",
       "      <td>0</td>\n",
       "    </tr>\n",
       "    <tr>\n",
       "      <td>1</td>\n",
       "      <td>2019-10-01 00:00:03</td>\n",
       "      <td>5773353</td>\n",
       "      <td>1487580005134238553</td>\n",
       "      <td>NaN</td>\n",
       "      <td>runail</td>\n",
       "      <td>2.62</td>\n",
       "      <td>463240011</td>\n",
       "      <td>26dd6e6e-4dac-4778-8d2c-92e149dab885</td>\n",
       "      <td>1</td>\n",
       "      <td>0</td>\n",
       "      <td>0</td>\n",
       "      <td>0</td>\n",
       "    </tr>\n",
       "    <tr>\n",
       "      <td>2</td>\n",
       "      <td>2019-10-01 00:00:07</td>\n",
       "      <td>5881589</td>\n",
       "      <td>2151191071051219817</td>\n",
       "      <td>NaN</td>\n",
       "      <td>lovely</td>\n",
       "      <td>13.48</td>\n",
       "      <td>429681830</td>\n",
       "      <td>49e8d843-adf3-428b-a2c3-fe8bc6a307c9</td>\n",
       "      <td>1</td>\n",
       "      <td>0</td>\n",
       "      <td>0</td>\n",
       "      <td>0</td>\n",
       "    </tr>\n",
       "    <tr>\n",
       "      <td>3</td>\n",
       "      <td>2019-10-01 00:00:07</td>\n",
       "      <td>5723490</td>\n",
       "      <td>1487580005134238553</td>\n",
       "      <td>NaN</td>\n",
       "      <td>runail</td>\n",
       "      <td>2.62</td>\n",
       "      <td>463240011</td>\n",
       "      <td>26dd6e6e-4dac-4778-8d2c-92e149dab885</td>\n",
       "      <td>1</td>\n",
       "      <td>0</td>\n",
       "      <td>0</td>\n",
       "      <td>0</td>\n",
       "    </tr>\n",
       "    <tr>\n",
       "      <td>4</td>\n",
       "      <td>2019-10-01 00:00:15</td>\n",
       "      <td>5881449</td>\n",
       "      <td>1487580013522845895</td>\n",
       "      <td>NaN</td>\n",
       "      <td>lovely</td>\n",
       "      <td>0.56</td>\n",
       "      <td>429681830</td>\n",
       "      <td>49e8d843-adf3-428b-a2c3-fe8bc6a307c9</td>\n",
       "      <td>1</td>\n",
       "      <td>0</td>\n",
       "      <td>0</td>\n",
       "      <td>0</td>\n",
       "    </tr>\n",
       "  </tbody>\n",
       "</table>\n",
       "</div>"
      ],
      "text/plain": [
       "           event_time  product_id          category_id category_code   brand  \\\n",
       "0 2019-10-01 00:00:00     5773203  1487580005134238553           NaN  runail   \n",
       "1 2019-10-01 00:00:03     5773353  1487580005134238553           NaN  runail   \n",
       "2 2019-10-01 00:00:07     5881589  2151191071051219817           NaN  lovely   \n",
       "3 2019-10-01 00:00:07     5723490  1487580005134238553           NaN  runail   \n",
       "4 2019-10-01 00:00:15     5881449  1487580013522845895           NaN  lovely   \n",
       "\n",
       "   price    user_id                          user_session  event_type_cart  \\\n",
       "0   2.62  463240011  26dd6e6e-4dac-4778-8d2c-92e149dab885                1   \n",
       "1   2.62  463240011  26dd6e6e-4dac-4778-8d2c-92e149dab885                1   \n",
       "2  13.48  429681830  49e8d843-adf3-428b-a2c3-fe8bc6a307c9                1   \n",
       "3   2.62  463240011  26dd6e6e-4dac-4778-8d2c-92e149dab885                1   \n",
       "4   0.56  429681830  49e8d843-adf3-428b-a2c3-fe8bc6a307c9                1   \n",
       "\n",
       "   event_type_purchase  event_type_remove_from_cart  event_type_view  \n",
       "0                    0                            0                0  \n",
       "1                    0                            0                0  \n",
       "2                    0                            0                0  \n",
       "3                    0                            0                0  \n",
       "4                    0                            0                0  "
      ]
     },
     "execution_count": 141,
     "metadata": {},
     "output_type": "execute_result"
    }
   ],
   "source": [
    "dataoct5.reset_index().head()"
   ]
  },
  {
   "cell_type": "code",
   "execution_count": 140,
   "metadata": {},
   "outputs": [
    {
     "name": "stdout",
     "output_type": "stream",
     "text": [
      "<class 'pandas.core.frame.DataFrame'>\n",
      "DatetimeIndex: 4388373 entries, 2019-11-01 00:00:02 to 2019-11-30 23:59:58\n",
      "Data columns (total 11 columns):\n",
      "product_id                     int64\n",
      "category_id                    int64\n",
      "category_code                  category\n",
      "brand                          category\n",
      "price                          float64\n",
      "user_id                        int64\n",
      "user_session                   object\n",
      "event_type_cart                uint8\n",
      "event_type_purchase            uint8\n",
      "event_type_remove_from_cart    uint8\n",
      "event_type_view                uint8\n",
      "dtypes: category(2), float64(1), int64(3), object(1), uint8(4)\n",
      "memory usage: 230.2+ MB\n"
     ]
    }
   ],
   "source": [
    "datanov5.info()\n"
   ]
  },
  {
   "cell_type": "code",
   "execution_count": 394,
   "metadata": {},
   "outputs": [
    {
     "data": {
      "text/html": [
       "<div>\n",
       "<style scoped>\n",
       "    .dataframe tbody tr th:only-of-type {\n",
       "        vertical-align: middle;\n",
       "    }\n",
       "\n",
       "    .dataframe tbody tr th {\n",
       "        vertical-align: top;\n",
       "    }\n",
       "\n",
       "    .dataframe thead th {\n",
       "        text-align: right;\n",
       "    }\n",
       "</style>\n",
       "<table border=\"1\" class=\"dataframe\">\n",
       "  <thead>\n",
       "    <tr style=\"text-align: right;\">\n",
       "      <th></th>\n",
       "      <th>product_id</th>\n",
       "      <th>category_id</th>\n",
       "      <th>category_code</th>\n",
       "      <th>brand</th>\n",
       "      <th>price</th>\n",
       "      <th>user_id</th>\n",
       "      <th>user_session</th>\n",
       "      <th>event_type_cart</th>\n",
       "      <th>event_type_purchase</th>\n",
       "      <th>event_type_remove_from_cart</th>\n",
       "      <th>event_type_view</th>\n",
       "    </tr>\n",
       "    <tr>\n",
       "      <th>event_time</th>\n",
       "      <th></th>\n",
       "      <th></th>\n",
       "      <th></th>\n",
       "      <th></th>\n",
       "      <th></th>\n",
       "      <th></th>\n",
       "      <th></th>\n",
       "      <th></th>\n",
       "      <th></th>\n",
       "      <th></th>\n",
       "      <th></th>\n",
       "    </tr>\n",
       "  </thead>\n",
       "  <tbody>\n",
       "    <tr>\n",
       "      <td>2019-11-01 00:01:57</td>\n",
       "      <td>5839412</td>\n",
       "      <td>1487580006551913373</td>\n",
       "      <td>other</td>\n",
       "      <td>lovely</td>\n",
       "      <td>3.16</td>\n",
       "      <td>460304619</td>\n",
       "      <td>9f777569-bdf3-47e5-a3d4-dfc26beb29cb</td>\n",
       "      <td>0</td>\n",
       "      <td>1</td>\n",
       "      <td>0</td>\n",
       "      <td>0</td>\n",
       "    </tr>\n",
       "    <tr>\n",
       "      <td>2019-11-01 00:01:57</td>\n",
       "      <td>5823969</td>\n",
       "      <td>1487580005268456287</td>\n",
       "      <td>other</td>\n",
       "      <td>uno</td>\n",
       "      <td>17.46</td>\n",
       "      <td>460304619</td>\n",
       "      <td>9f777569-bdf3-47e5-a3d4-dfc26beb29cb</td>\n",
       "      <td>0</td>\n",
       "      <td>1</td>\n",
       "      <td>0</td>\n",
       "      <td>0</td>\n",
       "    </tr>\n",
       "    <tr>\n",
       "      <td>2019-11-01 00:01:57</td>\n",
       "      <td>5810480</td>\n",
       "      <td>1487580011283087468</td>\n",
       "      <td>other</td>\n",
       "      <td>missing</td>\n",
       "      <td>22.54</td>\n",
       "      <td>460304619</td>\n",
       "      <td>9f777569-bdf3-47e5-a3d4-dfc26beb29cb</td>\n",
       "      <td>0</td>\n",
       "      <td>1</td>\n",
       "      <td>0</td>\n",
       "      <td>0</td>\n",
       "    </tr>\n",
       "    <tr>\n",
       "      <td>2019-11-01 00:04:33</td>\n",
       "      <td>24380</td>\n",
       "      <td>1487580012994363565</td>\n",
       "      <td>other</td>\n",
       "      <td>depilflax</td>\n",
       "      <td>5.24</td>\n",
       "      <td>564451209</td>\n",
       "      <td>861ab2f1-b2e5-886f-a93b-5b067eff081f</td>\n",
       "      <td>0</td>\n",
       "      <td>1</td>\n",
       "      <td>0</td>\n",
       "      <td>0</td>\n",
       "    </tr>\n",
       "    <tr>\n",
       "      <td>2019-11-01 00:04:33</td>\n",
       "      <td>26765</td>\n",
       "      <td>1487580013522845895</td>\n",
       "      <td>other</td>\n",
       "      <td>ardell</td>\n",
       "      <td>7.16</td>\n",
       "      <td>564451209</td>\n",
       "      <td>861ab2f1-b2e5-886f-a93b-5b067eff081f</td>\n",
       "      <td>0</td>\n",
       "      <td>1</td>\n",
       "      <td>0</td>\n",
       "      <td>0</td>\n",
       "    </tr>\n",
       "  </tbody>\n",
       "</table>\n",
       "</div>"
      ],
      "text/plain": [
       "                     product_id          category_id category_code      brand  \\\n",
       "event_time                                                                      \n",
       "2019-11-01 00:01:57     5839412  1487580006551913373         other     lovely   \n",
       "2019-11-01 00:01:57     5823969  1487580005268456287         other        uno   \n",
       "2019-11-01 00:01:57     5810480  1487580011283087468         other    missing   \n",
       "2019-11-01 00:04:33       24380  1487580012994363565         other  depilflax   \n",
       "2019-11-01 00:04:33       26765  1487580013522845895         other     ardell   \n",
       "\n",
       "                     price    user_id                          user_session  \\\n",
       "event_time                                                                    \n",
       "2019-11-01 00:01:57   3.16  460304619  9f777569-bdf3-47e5-a3d4-dfc26beb29cb   \n",
       "2019-11-01 00:01:57  17.46  460304619  9f777569-bdf3-47e5-a3d4-dfc26beb29cb   \n",
       "2019-11-01 00:01:57  22.54  460304619  9f777569-bdf3-47e5-a3d4-dfc26beb29cb   \n",
       "2019-11-01 00:04:33   5.24  564451209  861ab2f1-b2e5-886f-a93b-5b067eff081f   \n",
       "2019-11-01 00:04:33   7.16  564451209  861ab2f1-b2e5-886f-a93b-5b067eff081f   \n",
       "\n",
       "                     event_type_cart  event_type_purchase  \\\n",
       "event_time                                                  \n",
       "2019-11-01 00:01:57                0                    1   \n",
       "2019-11-01 00:01:57                0                    1   \n",
       "2019-11-01 00:01:57                0                    1   \n",
       "2019-11-01 00:04:33                0                    1   \n",
       "2019-11-01 00:04:33                0                    1   \n",
       "\n",
       "                     event_type_remove_from_cart  event_type_view  \n",
       "event_time                                                         \n",
       "2019-11-01 00:01:57                            0                0  \n",
       "2019-11-01 00:01:57                            0                0  \n",
       "2019-11-01 00:01:57                            0                0  \n",
       "2019-11-01 00:04:33                            0                0  \n",
       "2019-11-01 00:04:33                            0                0  "
      ]
     },
     "execution_count": 394,
     "metadata": {},
     "output_type": "execute_result"
    }
   ],
   "source": [
    "#subset the data for purchase\n",
    "purchasenov = datanov5[datanov5.event_type_purchase == 1]\n",
    "purchasenov.head()"
   ]
  },
  {
   "cell_type": "code",
   "execution_count": 142,
   "metadata": {},
   "outputs": [
    {
     "name": "stdout",
     "output_type": "stream",
     "text": [
      "<class 'pandas.core.frame.DataFrame'>\n",
      "DatetimeIndex: 322253 entries, 2019-11-01 00:01:57 to 2019-11-30 23:24:54\n",
      "Data columns (total 11 columns):\n",
      "product_id                     322253 non-null int64\n",
      "category_id                    322253 non-null int64\n",
      "category_code                  322253 non-null category\n",
      "brand                          322253 non-null category\n",
      "price                          322253 non-null float64\n",
      "user_id                        322253 non-null int64\n",
      "user_session                   322253 non-null object\n",
      "event_type_cart                322253 non-null uint8\n",
      "event_type_purchase            322253 non-null uint8\n",
      "event_type_remove_from_cart    322253 non-null uint8\n",
      "event_type_view                322253 non-null uint8\n",
      "dtypes: category(2), float64(1), int64(3), object(1), uint8(4)\n",
      "memory usage: 16.9+ MB\n"
     ]
    }
   ],
   "source": [
    "purchasenov.info()#out of 4million data, 322K is the purchase count"
   ]
  },
  {
   "cell_type": "code",
   "execution_count": 143,
   "metadata": {},
   "outputs": [
    {
     "data": {
      "text/html": [
       "<div>\n",
       "<style scoped>\n",
       "    .dataframe tbody tr th:only-of-type {\n",
       "        vertical-align: middle;\n",
       "    }\n",
       "\n",
       "    .dataframe tbody tr th {\n",
       "        vertical-align: top;\n",
       "    }\n",
       "\n",
       "    .dataframe thead th {\n",
       "        text-align: right;\n",
       "    }\n",
       "</style>\n",
       "<table border=\"1\" class=\"dataframe\">\n",
       "  <thead>\n",
       "    <tr style=\"text-align: right;\">\n",
       "      <th></th>\n",
       "      <th>product_id</th>\n",
       "      <th>category_id</th>\n",
       "      <th>category_code</th>\n",
       "      <th>brand</th>\n",
       "      <th>price</th>\n",
       "      <th>user_id</th>\n",
       "      <th>user_session</th>\n",
       "      <th>event_type_cart</th>\n",
       "      <th>event_type_purchase</th>\n",
       "      <th>event_type_remove_from_cart</th>\n",
       "      <th>event_type_view</th>\n",
       "    </tr>\n",
       "    <tr>\n",
       "      <th>event_time</th>\n",
       "      <th></th>\n",
       "      <th></th>\n",
       "      <th></th>\n",
       "      <th></th>\n",
       "      <th></th>\n",
       "      <th></th>\n",
       "      <th></th>\n",
       "      <th></th>\n",
       "      <th></th>\n",
       "      <th></th>\n",
       "      <th></th>\n",
       "    </tr>\n",
       "  </thead>\n",
       "  <tbody>\n",
       "  </tbody>\n",
       "</table>\n",
       "</div>"
      ],
      "text/plain": [
       "Empty DataFrame\n",
       "Columns: [product_id, category_id, category_code, brand, price, user_id, user_session, event_type_cart, event_type_purchase, event_type_remove_from_cart, event_type_view]\n",
       "Index: []"
      ]
     },
     "execution_count": 143,
     "metadata": {},
     "output_type": "execute_result"
    }
   ],
   "source": [
    "#find negative price data\n",
    "purchasenov[purchasenov.price<0]"
   ]
  },
  {
   "cell_type": "code",
   "execution_count": 395,
   "metadata": {},
   "outputs": [
    {
     "data": {
      "text/plain": [
       "event_time\n",
       "2019-11-01    112138\n",
       "2019-11-02    107948\n",
       "2019-11-03    119425\n",
       "2019-11-04    130273\n",
       "2019-11-05    141810\n",
       "2019-11-06    134756\n",
       "2019-11-07    179379\n",
       "2019-11-08    162066\n",
       "2019-11-09    108192\n",
       "2019-11-10    114671\n",
       "2019-11-11    131191\n",
       "2019-11-12    124530\n",
       "2019-11-13    132286\n",
       "2019-11-14    126872\n",
       "2019-11-15    116972\n",
       "2019-11-16    107167\n",
       "2019-11-17    119917\n",
       "2019-11-18    143065\n",
       "2019-11-19    134222\n",
       "2019-11-20    132689\n",
       "2019-11-21    207671\n",
       "2019-11-22    255954\n",
       "2019-11-23    187899\n",
       "2019-11-24    195051\n",
       "2019-11-25    134585\n",
       "2019-11-26    127882\n",
       "2019-11-27    138370\n",
       "2019-11-28    212993\n",
       "2019-11-29    195832\n",
       "2019-11-30    152567\n",
       "Freq: D, Name: event_type_purchase, dtype: int64"
      ]
     },
     "execution_count": 395,
     "metadata": {},
     "output_type": "execute_result"
    }
   ],
   "source": [
    "dailypurchasenov = datanov5.resample('D').event_type_purchase.count() #how to get only purchase count\n",
    "dailypurchasenov"
   ]
  },
  {
   "cell_type": "code",
   "execution_count": 145,
   "metadata": {},
   "outputs": [
    {
     "data": {
      "text/plain": [
       "<matplotlib.axes._subplots.AxesSubplot at 0x226bff33c08>"
      ]
     },
     "execution_count": 145,
     "metadata": {},
     "output_type": "execute_result"
    },
    {
     "data": {
      "image/png": "[encoded data removed]",
      "text/plain": [
       "<Figure size 432x288 with 1 Axes>"
      ]
     },
     "metadata": {
      "needs_background": "light"
     },
     "output_type": "display_data"
    }
   ],
   "source": [
    "#plot the histogram for price distribution in purchase data\n",
    "purchasenov.price.plot(kind='hist', bins=range(0,50))"
   ]
  },
  {
   "cell_type": "code",
   "execution_count": 146,
   "metadata": {},
   "outputs": [
    {
     "data": {
      "text/plain": [
       "<matplotlib.axes._subplots.AxesSubplot at 0x226bfbab148>"
      ]
     },
     "execution_count": 146,
     "metadata": {},
     "output_type": "execute_result"
    },
    {
     "data": {
      "image/png": "[encoded data removed]",
      "text/plain": [
       "<Figure size 432x288 with 1 Axes>"
      ]
     },
     "metadata": {
      "needs_background": "light"
     },
     "output_type": "display_data"
    }
   ],
   "source": [
    "#plot the histogram for price distribution in purchase data\n",
    "purchasenov.price.plot(kind='hist', bins=range(0,15))"
   ]
  },
  {
   "cell_type": "code",
   "execution_count": 147,
   "metadata": {},
   "outputs": [
    {
     "data": {
      "text/plain": [
       "<matplotlib.axes._subplots.AxesSubplot at 0x226a057f408>"
      ]
     },
     "execution_count": 147,
     "metadata": {},
     "output_type": "execute_result"
    },
    {
     "data": {
      "image/png": "[encoded data removed]",
      "text/plain": [
       "<Figure size 432x288 with 1 Axes>"
      ]
     },
     "metadata": {
      "needs_background": "light"
     },
     "output_type": "display_data"
    }
   ],
   "source": [
    "purchasenov.price.plot(kind='hist', bins=range(15,50))"
   ]
  },
  {
   "cell_type": "code",
   "execution_count": 148,
   "metadata": {},
   "outputs": [
    {
     "data": {
      "text/plain": [
       "<matplotlib.axes._subplots.AxesSubplot at 0x226b7f69b88>"
      ]
     },
     "execution_count": 148,
     "metadata": {},
     "output_type": "execute_result"
    },
    {
     "data": {
      "image/png": "[encoded data removed]",
      "text/plain": [
       "<Figure size 432x288 with 1 Axes>"
      ]
     },
     "metadata": {
      "needs_background": "light"
     },
     "output_type": "display_data"
    }
   ],
   "source": [
    "datanov5[datanov5.event_type_remove_from_cart==1].price.plot(kind='hist', bins=range(0,50))"
   ]
  },
  {
   "cell_type": "code",
   "execution_count": 149,
   "metadata": {},
   "outputs": [
    {
     "data": {
      "text/plain": [
       "<matplotlib.axes._subplots.AxesSubplot at 0x226a5e71808>"
      ]
     },
     "execution_count": 149,
     "metadata": {},
     "output_type": "execute_result"
    },
    {
     "data": {
      "image/png": "[encoded data removed]",
      "text/plain": [
       "<Figure size 432x288 with 1 Axes>"
      ]
     },
     "metadata": {
      "needs_background": "light"
     },
     "output_type": "display_data"
    }
   ],
   "source": [
    "datanov5[datanov5.event_type_remove_from_cart==1].price.plot(kind='hist', bins=range(0,50))"
   ]
  },
  {
   "cell_type": "code",
   "execution_count": 150,
   "metadata": {},
   "outputs": [
    {
     "data": {
      "text/plain": [
       "<matplotlib.axes._subplots.AxesSubplot at 0x226bc4c4c48>"
      ]
     },
     "execution_count": 150,
     "metadata": {},
     "output_type": "execute_result"
    },
    {
     "data": {
      "image/png": "[encoded data removed]",
      "text/plain": [
       "<Figure size 432x288 with 1 Axes>"
      ]
     },
     "metadata": {
      "needs_background": "light"
     },
     "output_type": "display_data"
    }
   ],
   "source": [
    "datanov5[datanov5.event_type_remove_from_cart==1].price.plot(kind='hist', bins=range(0,15))"
   ]
  },
  {
   "cell_type": "code",
   "execution_count": 151,
   "metadata": {},
   "outputs": [
    {
     "data": {
      "text/plain": [
       "<matplotlib.axes._subplots.AxesSubplot at 0x226bf0bbf08>"
      ]
     },
     "execution_count": 151,
     "metadata": {},
     "output_type": "execute_result"
    },
    {
     "data": {
      "image/png": "[encoded data removed]",
      "text/plain": [
       "<Figure size 432x288 with 1 Axes>"
      ]
     },
     "metadata": {
      "needs_background": "light"
     },
     "output_type": "display_data"
    }
   ],
   "source": [
    "datanov5[datanov5.event_type_remove_from_cart==1].price.plot(kind='hist', bins=range(15,100))"
   ]
  },
  {
   "cell_type": "code",
   "execution_count": 152,
   "metadata": {},
   "outputs": [],
   "source": [
    "#get proportion of each event for different price ranges\n",
    "#should we add more columns like price<1 and purchase=1, price<1 and cart=1 etc. for each event? "
   ]
  },
  {
   "cell_type": "code",
   "execution_count": 153,
   "metadata": {},
   "outputs": [
    {
     "data": {
      "text/plain": [
       "52873"
      ]
     },
     "execution_count": 153,
     "metadata": {},
     "output_type": "execute_result"
    }
   ],
   "source": [
    "#get count of each event for price range 0-1\n",
    "len(datanov5[(datanov5.price<1) & (datanov5.event_type_purchase==1)])"
   ]
  },
  {
   "cell_type": "code",
   "execution_count": 154,
   "metadata": {},
   "outputs": [
    {
     "data": {
      "text/plain": [
       "213611"
      ]
     },
     "execution_count": 154,
     "metadata": {},
     "output_type": "execute_result"
    }
   ],
   "source": [
    "len(datanov5[(datanov5.price<1) & (datanov5.event_type_cart==1)])"
   ]
  },
  {
   "cell_type": "code",
   "execution_count": 155,
   "metadata": {},
   "outputs": [
    {
     "data": {
      "text/plain": [
       "86394"
      ]
     },
     "execution_count": 155,
     "metadata": {},
     "output_type": "execute_result"
    }
   ],
   "source": [
    "len(datanov5[(datanov5.price<1) & (datanov5.event_type_remove_from_cart==1)])"
   ]
  },
  {
   "cell_type": "code",
   "execution_count": 156,
   "metadata": {},
   "outputs": [
    {
     "data": {
      "text/plain": [
       "141586"
      ]
     },
     "execution_count": 156,
     "metadata": {},
     "output_type": "execute_result"
    }
   ],
   "source": [
    "len(datanov5[(datanov5.price<1) & (datanov5.event_type_view==1)])"
   ]
  },
  {
   "cell_type": "code",
   "execution_count": 157,
   "metadata": {},
   "outputs": [
    {
     "data": {
      "text/plain": [
       "<matplotlib.axes._subplots.AxesSubplot at 0x226aedfacc8>"
      ]
     },
     "execution_count": 157,
     "metadata": {},
     "output_type": "execute_result"
    },
    {
     "data": {
      "image/png": "[encoded data removed]",
      "text/plain": [
       "<Figure size 432x288 with 1 Axes>"
      ]
     },
     "metadata": {
      "needs_background": "light"
     },
     "output_type": "display_data"
    }
   ],
   "source": [
    "dailypurchasenov.plot()#purchase picks up near thanksgiving"
   ]
  },
  {
   "cell_type": "code",
   "execution_count": 158,
   "metadata": {},
   "outputs": [
    {
     "data": {
      "text/plain": [
       "event_time\n",
       "2019-11-01 00:00:00      857\n",
       "2019-11-01 01:00:00     1046\n",
       "2019-11-01 02:00:00     1187\n",
       "2019-11-01 03:00:00     1493\n",
       "2019-11-01 04:00:00     2000\n",
       "                       ...  \n",
       "2019-11-30 19:00:00    12078\n",
       "2019-11-30 20:00:00    10290\n",
       "2019-11-30 21:00:00     6172\n",
       "2019-11-30 22:00:00     3044\n",
       "2019-11-30 23:00:00     1813\n",
       "Freq: H, Name: event_type_purchase, Length: 720, dtype: int64"
      ]
     },
     "execution_count": 158,
     "metadata": {},
     "output_type": "execute_result"
    }
   ],
   "source": [
    "#resample hourly data \n",
    "hourlypurchasenov = datanov5.resample('H').event_type_purchase.count()\n",
    "hourlypurchasenov"
   ]
  },
  {
   "cell_type": "code",
   "execution_count": 1,
   "metadata": {},
   "outputs": [
    {
     "ename": "NameError",
     "evalue": "name 'dataoct5' is not defined",
     "output_type": "error",
     "traceback": [
      "\u001b[1;31m---------------------------------------------------------------------------\u001b[0m",
      "\u001b[1;31mNameError\u001b[0m                                 Traceback (most recent call last)",
      "\u001b[1;32m<ipython-input-1-9cc44873386a>\u001b[0m in \u001b[0;36m<module>\u001b[1;34m\u001b[0m\n\u001b[1;32m----> 1\u001b[1;33m \u001b[0mhourlypurchaseoct\u001b[0m \u001b[1;33m=\u001b[0m \u001b[0mdataoct5\u001b[0m\u001b[1;33m.\u001b[0m\u001b[0mresample\u001b[0m\u001b[1;33m(\u001b[0m\u001b[1;34m'H'\u001b[0m\u001b[1;33m)\u001b[0m\u001b[1;33m.\u001b[0m\u001b[0mevent_type_purchase\u001b[0m\u001b[1;33m.\u001b[0m\u001b[0mcount\u001b[0m\u001b[1;33m(\u001b[0m\u001b[1;33m)\u001b[0m\u001b[1;33m\u001b[0m\u001b[1;33m\u001b[0m\u001b[0m\n\u001b[0m\u001b[0;32m      2\u001b[0m \u001b[0mhourlypurchaseoct\u001b[0m\u001b[1;33m\u001b[0m\u001b[1;33m\u001b[0m\u001b[0m\n",
      "\u001b[1;31mNameError\u001b[0m: name 'dataoct5' is not defined"
     ]
    }
   ],
   "source": [
    "hourlypurchaseoct = dataoct5.resample('H').event_type_purchase.count()\n",
    "hourlypurchaseoct"
   ]
  },
  {
   "cell_type": "code",
   "execution_count": 159,
   "metadata": {},
   "outputs": [
    {
     "name": "stdout",
     "output_type": "stream",
     "text": [
      "<class 'pandas.core.frame.DataFrame'>\n",
      "DatetimeIndex: 720 entries, 2019-11-01 00:00:00 to 2019-11-30 23:00:00\n",
      "Freq: H\n",
      "Data columns (total 1 columns):\n",
      "event_type_purchase    720 non-null int64\n",
      "dtypes: int64(1)\n",
      "memory usage: 11.2 KB\n"
     ]
    }
   ],
   "source": [
    "hourlypurchasenovdf = pd.DataFrame(hourlypurchasenov)\n",
    "hourlypurchasenovdf.info()"
   ]
  },
  {
   "cell_type": "code",
   "execution_count": 160,
   "metadata": {},
   "outputs": [
    {
     "data": {
      "text/plain": [
       "<matplotlib.axes._subplots.AxesSubplot at 0x226bd489d48>"
      ]
     },
     "execution_count": 160,
     "metadata": {},
     "output_type": "execute_result"
    },
    {
     "data": {
      "image/png": "[encoded data removed]",
      "text/plain": [
       "<Figure size 432x288 with 1 Axes>"
      ]
     },
     "metadata": {
      "needs_background": "light"
     },
     "output_type": "display_data"
    }
   ],
   "source": [
    "hourlypurchasenovdf['2019-11-01'].plot()"
   ]
  },
  {
   "cell_type": "code",
   "execution_count": 161,
   "metadata": {},
   "outputs": [
    {
     "data": {
      "text/plain": [
       "<matplotlib.axes._subplots.AxesSubplot at 0x22699a64848>"
      ]
     },
     "execution_count": 161,
     "metadata": {},
     "output_type": "execute_result"
    },
    {
     "data": {
      "image/png": "[encoded data removed]",
      "text/plain": [
       "<Figure size 432x288 with 1 Axes>"
      ]
     },
     "metadata": {
      "needs_background": "light"
     },
     "output_type": "display_data"
    }
   ],
   "source": [
    "hourlypurchasenovdf['2019-11-02'].plot()"
   ]
  },
  {
   "cell_type": "code",
   "execution_count": 162,
   "metadata": {},
   "outputs": [
    {
     "data": {
      "text/plain": [
       "<matplotlib.axes._subplots.AxesSubplot at 0x226bc893588>"
      ]
     },
     "execution_count": 162,
     "metadata": {},
     "output_type": "execute_result"
    },
    {
     "data": {
      "image/png": "[encoded data removed]",
      "text/plain": [
       "<Figure size 432x288 with 1 Axes>"
      ]
     },
     "metadata": {
      "needs_background": "light"
     },
     "output_type": "display_data"
    }
   ],
   "source": [
    "hourlypurchasenovdf['2019-11-20'].plot()"
   ]
  },
  {
   "cell_type": "code",
   "execution_count": 163,
   "metadata": {},
   "outputs": [
    {
     "data": {
      "text/plain": [
       "<matplotlib.axes._subplots.AxesSubplot at 0x226a2082948>"
      ]
     },
     "execution_count": 163,
     "metadata": {},
     "output_type": "execute_result"
    },
    {
     "data": {
      "image/png": "[encoded data removed]",
      "text/plain": [
       "<Figure size 432x288 with 1 Axes>"
      ]
     },
     "metadata": {
      "needs_background": "light"
     },
     "output_type": "display_data"
    }
   ],
   "source": [
    "hourlypurchasenovdf['2019-11-21'].plot()"
   ]
  },
  {
   "cell_type": "code",
   "execution_count": 164,
   "metadata": {},
   "outputs": [
    {
     "data": {
      "text/plain": [
       "<matplotlib.axes._subplots.AxesSubplot at 0x226b561b6c8>"
      ]
     },
     "execution_count": 164,
     "metadata": {},
     "output_type": "execute_result"
    },
    {
     "data": {
      "image/png": "[encoded data removed]",
      "text/plain": [
       "<Figure size 432x288 with 1 Axes>"
      ]
     },
     "metadata": {
      "needs_background": "light"
     },
     "output_type": "display_data"
    }
   ],
   "source": [
    "hourlypurchasenovdf['2019-11-22'].plot()"
   ]
  },
  {
   "cell_type": "code",
   "execution_count": 165,
   "metadata": {},
   "outputs": [
    {
     "data": {
      "text/plain": [
       "<matplotlib.axes._subplots.AxesSubplot at 0x226b0be41c8>"
      ]
     },
     "execution_count": 165,
     "metadata": {},
     "output_type": "execute_result"
    },
    {
     "data": {
      "image/png": "[encoded data removed]",
      "text/plain": [
       "<Figure size 842.4x595.44 with 1 Axes>"
      ]
     },
     "metadata": {
      "needs_background": "light"
     },
     "output_type": "display_data"
    }
   ],
   "source": [
    "#create strip plot to show distribution of price variable against event_type\n",
    "a4_dims = (11.7, 8.27)\n",
    "fig, ax = plt.subplots(figsize=a4_dims)\n",
    "sns.stripplot(x='event_type', y='price', jitter=True, data=datanov4, ax=ax)\n",
    "\n",
    "                    \n"
   ]
  },
  {
   "cell_type": "code",
   "execution_count": 166,
   "metadata": {},
   "outputs": [
    {
     "data": {
      "text/plain": [
       "<matplotlib.axes._subplots.AxesSubplot at 0x226b0be41c8>"
      ]
     },
     "execution_count": 166,
     "metadata": {},
     "output_type": "execute_result"
    }
   ],
   "source": [
    "sns.stripplot(x='event_type', y='price', jitter=True, data=dataoct4, ax=ax)\n"
   ]
  },
  {
   "cell_type": "code",
   "execution_count": 167,
   "metadata": {},
   "outputs": [],
   "source": [
    "#create histogram for each event type "
   ]
  },
  {
   "cell_type": "code",
   "execution_count": 168,
   "metadata": {},
   "outputs": [],
   "source": [
    "#pivot table exploration, find the count of each event_type by product_id, category_code, brand\n",
    "subsetdatanov = datanov2[['event_type', 'product_id']]\n",
    "\n",
    "pivotbyproductnov = pd.pivot_table(subsetdatanov,index=['product_id'], columns=['event_type'], values=['event_type'], aggfunc=len, fill_value=0)"
   ]
  },
  {
   "cell_type": "code",
   "execution_count": 169,
   "metadata": {},
   "outputs": [
    {
     "data": {
      "text/html": [
       "<div>\n",
       "<style scoped>\n",
       "    .dataframe tbody tr th:only-of-type {\n",
       "        vertical-align: middle;\n",
       "    }\n",
       "\n",
       "    .dataframe tbody tr th {\n",
       "        vertical-align: top;\n",
       "    }\n",
       "\n",
       "    .dataframe thead th {\n",
       "        text-align: right;\n",
       "    }\n",
       "</style>\n",
       "<table border=\"1\" class=\"dataframe\">\n",
       "  <thead>\n",
       "    <tr style=\"text-align: right;\">\n",
       "      <th>event_type</th>\n",
       "      <th>cart</th>\n",
       "      <th>purchase</th>\n",
       "      <th>remove_from_cart</th>\n",
       "      <th>view</th>\n",
       "    </tr>\n",
       "    <tr>\n",
       "      <th>product_id</th>\n",
       "      <th></th>\n",
       "      <th></th>\n",
       "      <th></th>\n",
       "      <th></th>\n",
       "    </tr>\n",
       "  </thead>\n",
       "  <tbody>\n",
       "    <tr>\n",
       "      <td>5809910</td>\n",
       "      <td>7354</td>\n",
       "      <td>2138</td>\n",
       "      <td>2396</td>\n",
       "      <td>18813</td>\n",
       "    </tr>\n",
       "    <tr>\n",
       "      <td>5854897</td>\n",
       "      <td>5468</td>\n",
       "      <td>1165</td>\n",
       "      <td>1313</td>\n",
       "      <td>1322</td>\n",
       "    </tr>\n",
       "    <tr>\n",
       "      <td>5833330</td>\n",
       "      <td>2755</td>\n",
       "      <td>1012</td>\n",
       "      <td>827</td>\n",
       "      <td>2377</td>\n",
       "    </tr>\n",
       "    <tr>\n",
       "      <td>5751422</td>\n",
       "      <td>3120</td>\n",
       "      <td>934</td>\n",
       "      <td>1334</td>\n",
       "      <td>5205</td>\n",
       "    </tr>\n",
       "    <tr>\n",
       "      <td>5700037</td>\n",
       "      <td>5901</td>\n",
       "      <td>873</td>\n",
       "      <td>1359</td>\n",
       "      <td>2496</td>\n",
       "    </tr>\n",
       "    <tr>\n",
       "      <td>5815662</td>\n",
       "      <td>4120</td>\n",
       "      <td>866</td>\n",
       "      <td>1427</td>\n",
       "      <td>3029</td>\n",
       "    </tr>\n",
       "    <tr>\n",
       "      <td>5304</td>\n",
       "      <td>2775</td>\n",
       "      <td>865</td>\n",
       "      <td>813</td>\n",
       "      <td>1206</td>\n",
       "    </tr>\n",
       "    <tr>\n",
       "      <td>5809912</td>\n",
       "      <td>3301</td>\n",
       "      <td>862</td>\n",
       "      <td>1512</td>\n",
       "      <td>6380</td>\n",
       "    </tr>\n",
       "    <tr>\n",
       "      <td>5802432</td>\n",
       "      <td>5326</td>\n",
       "      <td>805</td>\n",
       "      <td>1340</td>\n",
       "      <td>1564</td>\n",
       "    </tr>\n",
       "    <tr>\n",
       "      <td>5751383</td>\n",
       "      <td>2758</td>\n",
       "      <td>802</td>\n",
       "      <td>1235</td>\n",
       "      <td>5245</td>\n",
       "    </tr>\n",
       "  </tbody>\n",
       "</table>\n",
       "</div>"
      ],
      "text/plain": [
       "event_type  cart  purchase  remove_from_cart   view\n",
       "product_id                                         \n",
       "5809910     7354      2138              2396  18813\n",
       "5854897     5468      1165              1313   1322\n",
       "5833330     2755      1012               827   2377\n",
       "5751422     3120       934              1334   5205\n",
       "5700037     5901       873              1359   2496\n",
       "5815662     4120       866              1427   3029\n",
       "5304        2775       865               813   1206\n",
       "5809912     3301       862              1512   6380\n",
       "5802432     5326       805              1340   1564\n",
       "5751383     2758       802              1235   5245"
      ]
     },
     "execution_count": 169,
     "metadata": {},
     "output_type": "execute_result"
    }
   ],
   "source": [
    "#sort by purchase i ndescending order, find top 10 products with max purchase\n",
    "#top 10 products that were purchased in Nov\n",
    "pivotbyproductnov.sort_values('purchase', ascending=False).head(10)"
   ]
  },
  {
   "cell_type": "code",
   "execution_count": 170,
   "metadata": {},
   "outputs": [
    {
     "data": {
      "text/html": [
       "<div>\n",
       "<style scoped>\n",
       "    .dataframe tbody tr th:only-of-type {\n",
       "        vertical-align: middle;\n",
       "    }\n",
       "\n",
       "    .dataframe tbody tr th {\n",
       "        vertical-align: top;\n",
       "    }\n",
       "\n",
       "    .dataframe thead th {\n",
       "        text-align: right;\n",
       "    }\n",
       "</style>\n",
       "<table border=\"1\" class=\"dataframe\">\n",
       "  <thead>\n",
       "    <tr style=\"text-align: right;\">\n",
       "      <th>event_type</th>\n",
       "      <th>cart</th>\n",
       "      <th>purchase</th>\n",
       "      <th>remove_from_cart</th>\n",
       "      <th>view</th>\n",
       "    </tr>\n",
       "    <tr>\n",
       "      <th>product_id</th>\n",
       "      <th></th>\n",
       "      <th></th>\n",
       "      <th></th>\n",
       "      <th></th>\n",
       "    </tr>\n",
       "  </thead>\n",
       "  <tbody>\n",
       "    <tr>\n",
       "      <td>5809910</td>\n",
       "      <td>7354</td>\n",
       "      <td>2138</td>\n",
       "      <td>2396</td>\n",
       "      <td>18813</td>\n",
       "    </tr>\n",
       "    <tr>\n",
       "      <td>5809912</td>\n",
       "      <td>3301</td>\n",
       "      <td>862</td>\n",
       "      <td>1512</td>\n",
       "      <td>6380</td>\n",
       "    </tr>\n",
       "    <tr>\n",
       "      <td>5815662</td>\n",
       "      <td>4120</td>\n",
       "      <td>866</td>\n",
       "      <td>1427</td>\n",
       "      <td>3029</td>\n",
       "    </tr>\n",
       "    <tr>\n",
       "      <td>5700037</td>\n",
       "      <td>5901</td>\n",
       "      <td>873</td>\n",
       "      <td>1359</td>\n",
       "      <td>2496</td>\n",
       "    </tr>\n",
       "    <tr>\n",
       "      <td>5802432</td>\n",
       "      <td>5326</td>\n",
       "      <td>805</td>\n",
       "      <td>1340</td>\n",
       "      <td>1564</td>\n",
       "    </tr>\n",
       "    <tr>\n",
       "      <td>5751422</td>\n",
       "      <td>3120</td>\n",
       "      <td>934</td>\n",
       "      <td>1334</td>\n",
       "      <td>5205</td>\n",
       "    </tr>\n",
       "    <tr>\n",
       "      <td>5854897</td>\n",
       "      <td>5468</td>\n",
       "      <td>1165</td>\n",
       "      <td>1313</td>\n",
       "      <td>1322</td>\n",
       "    </tr>\n",
       "    <tr>\n",
       "      <td>5751383</td>\n",
       "      <td>2758</td>\n",
       "      <td>802</td>\n",
       "      <td>1235</td>\n",
       "      <td>5245</td>\n",
       "    </tr>\n",
       "    <tr>\n",
       "      <td>5849033</td>\n",
       "      <td>2802</td>\n",
       "      <td>761</td>\n",
       "      <td>1172</td>\n",
       "      <td>4616</td>\n",
       "    </tr>\n",
       "    <tr>\n",
       "      <td>5809911</td>\n",
       "      <td>1872</td>\n",
       "      <td>426</td>\n",
       "      <td>1084</td>\n",
       "      <td>3791</td>\n",
       "    </tr>\n",
       "  </tbody>\n",
       "</table>\n",
       "</div>"
      ],
      "text/plain": [
       "event_type  cart  purchase  remove_from_cart   view\n",
       "product_id                                         \n",
       "5809910     7354      2138              2396  18813\n",
       "5809912     3301       862              1512   6380\n",
       "5815662     4120       866              1427   3029\n",
       "5700037     5901       873              1359   2496\n",
       "5802432     5326       805              1340   1564\n",
       "5751422     3120       934              1334   5205\n",
       "5854897     5468      1165              1313   1322\n",
       "5751383     2758       802              1235   5245\n",
       "5849033     2802       761              1172   4616\n",
       "5809911     1872       426              1084   3791"
      ]
     },
     "execution_count": 170,
     "metadata": {},
     "output_type": "execute_result"
    }
   ],
   "source": [
    "#top 10 products that were removed from cart in Nov. \n",
    "pivotbyproductnov.sort_values('remove_from_cart', ascending=False).head(10)"
   ]
  },
  {
   "cell_type": "code",
   "execution_count": 171,
   "metadata": {},
   "outputs": [
    {
     "data": {
      "text/plain": [
       "event_time\n",
       "2019-11-03     339511\n",
       "2019-11-10     971147\n",
       "2019-11-17     858935\n",
       "2019-11-24    1256551\n",
       "2019-12-01     962229\n",
       "Freq: W-SUN, Name: event_type_purchase, dtype: int64"
      ]
     },
     "execution_count": 171,
     "metadata": {},
     "output_type": "execute_result"
    }
   ],
   "source": [
    "#purchase trend weekly\n",
    "weeklypurchasenov = datanov5.resample('W').event_type_purchase.count() #how to get only purchase count\n",
    "weeklypurchasenov\n"
   ]
  },
  {
   "cell_type": "code",
   "execution_count": 172,
   "metadata": {},
   "outputs": [
    {
     "data": {
      "text/plain": [
       "<matplotlib.axes._subplots.AxesSubplot at 0x22691334308>"
      ]
     },
     "execution_count": 172,
     "metadata": {},
     "output_type": "execute_result"
    },
    {
     "data": {
      "image/png": "[encoded data removed]",
      "text/plain": [
       "<Figure size 432x288 with 1 Axes>"
      ]
     },
     "metadata": {
      "needs_background": "light"
     },
     "output_type": "display_data"
    }
   ],
   "source": [
    "weeklypurchasenov.plot() #thanksgiving increase is seen "
   ]
  },
  {
   "cell_type": "code",
   "execution_count": 173,
   "metadata": {},
   "outputs": [
    {
     "data": {
      "text/html": [
       "<div>\n",
       "<style scoped>\n",
       "    .dataframe tbody tr th:only-of-type {\n",
       "        vertical-align: middle;\n",
       "    }\n",
       "\n",
       "    .dataframe tbody tr th {\n",
       "        vertical-align: top;\n",
       "    }\n",
       "\n",
       "    .dataframe thead th {\n",
       "        text-align: right;\n",
       "    }\n",
       "</style>\n",
       "<table border=\"1\" class=\"dataframe\">\n",
       "  <thead>\n",
       "    <tr style=\"text-align: right;\">\n",
       "      <th>event_type</th>\n",
       "      <th>cart</th>\n",
       "      <th>purchase</th>\n",
       "      <th>remove_from_cart</th>\n",
       "      <th>view</th>\n",
       "    </tr>\n",
       "    <tr>\n",
       "      <th>category_code</th>\n",
       "      <th></th>\n",
       "      <th></th>\n",
       "      <th></th>\n",
       "      <th></th>\n",
       "    </tr>\n",
       "  </thead>\n",
       "  <tbody>\n",
       "    <tr>\n",
       "      <td>other</td>\n",
       "      <td>1274777</td>\n",
       "      <td>318286</td>\n",
       "      <td>694682</td>\n",
       "      <td>2027075</td>\n",
       "    </tr>\n",
       "    <tr>\n",
       "      <td>stationery.cartrige</td>\n",
       "      <td>5136</td>\n",
       "      <td>1538</td>\n",
       "      <td>1713</td>\n",
       "      <td>4258</td>\n",
       "    </tr>\n",
       "    <tr>\n",
       "      <td>apparel.glove</td>\n",
       "      <td>3328</td>\n",
       "      <td>1115</td>\n",
       "      <td>1751</td>\n",
       "      <td>4038</td>\n",
       "    </tr>\n",
       "    <tr>\n",
       "      <td>appliances.environment.vacuum</td>\n",
       "      <td>3887</td>\n",
       "      <td>881</td>\n",
       "      <td>1995</td>\n",
       "      <td>24556</td>\n",
       "    </tr>\n",
       "    <tr>\n",
       "      <td>furniture.bathroom.bath</td>\n",
       "      <td>1013</td>\n",
       "      <td>271</td>\n",
       "      <td>479</td>\n",
       "      <td>2925</td>\n",
       "    </tr>\n",
       "    <tr>\n",
       "      <td>furniture.living_room.cabinet</td>\n",
       "      <td>454</td>\n",
       "      <td>67</td>\n",
       "      <td>261</td>\n",
       "      <td>6342</td>\n",
       "    </tr>\n",
       "    <tr>\n",
       "      <td>accessories.bag</td>\n",
       "      <td>215</td>\n",
       "      <td>50</td>\n",
       "      <td>126</td>\n",
       "      <td>5405</td>\n",
       "    </tr>\n",
       "    <tr>\n",
       "      <td>accessories.cosmetic_bag</td>\n",
       "      <td>103</td>\n",
       "      <td>23</td>\n",
       "      <td>58</td>\n",
       "      <td>405</td>\n",
       "    </tr>\n",
       "    <tr>\n",
       "      <td>appliances.environment.air_conditioner</td>\n",
       "      <td>37</td>\n",
       "      <td>14</td>\n",
       "      <td>16</td>\n",
       "      <td>100</td>\n",
       "    </tr>\n",
       "    <tr>\n",
       "      <td>appliances.personal.hair_cutter</td>\n",
       "      <td>47</td>\n",
       "      <td>5</td>\n",
       "      <td>21</td>\n",
       "      <td>738</td>\n",
       "    </tr>\n",
       "    <tr>\n",
       "      <td>furniture.living_room.chair</td>\n",
       "      <td>23</td>\n",
       "      <td>3</td>\n",
       "      <td>14</td>\n",
       "      <td>142</td>\n",
       "    </tr>\n",
       "  </tbody>\n",
       "</table>\n",
       "</div>"
      ],
      "text/plain": [
       "event_type                                 cart  purchase  remove_from_cart  \\\n",
       "category_code                                                                 \n",
       "other                                   1274777    318286            694682   \n",
       "stationery.cartrige                        5136      1538              1713   \n",
       "apparel.glove                              3328      1115              1751   \n",
       "appliances.environment.vacuum              3887       881              1995   \n",
       "furniture.bathroom.bath                    1013       271               479   \n",
       "furniture.living_room.cabinet               454        67               261   \n",
       "accessories.bag                             215        50               126   \n",
       "accessories.cosmetic_bag                    103        23                58   \n",
       "appliances.environment.air_conditioner       37        14                16   \n",
       "appliances.personal.hair_cutter              47         5                21   \n",
       "furniture.living_room.chair                  23         3                14   \n",
       "\n",
       "event_type                                 view  \n",
       "category_code                                    \n",
       "other                                   2027075  \n",
       "stationery.cartrige                        4258  \n",
       "apparel.glove                              4038  \n",
       "appliances.environment.vacuum             24556  \n",
       "furniture.bathroom.bath                    2925  \n",
       "furniture.living_room.cabinet              6342  \n",
       "accessories.bag                            5405  \n",
       "accessories.cosmetic_bag                    405  \n",
       "appliances.environment.air_conditioner      100  \n",
       "appliances.personal.hair_cutter             738  \n",
       "furniture.living_room.chair                 142  "
      ]
     },
     "execution_count": 173,
     "metadata": {},
     "output_type": "execute_result"
    }
   ],
   "source": [
    "#find top 10 category of products that are purchased more\n",
    "bycategorynov = datanov2[['event_type', 'category_code']]\n",
    "\n",
    "pivotbycategorynov = pd.pivot_table(bycategorynov,index=['category_code'], columns=['event_type'], values=['event_type'], aggfunc=len, fill_value=0)\n",
    "pivotbycategorynov.sort_values('purchase', ascending=False)\n"
   ]
  },
  {
   "cell_type": "code",
   "execution_count": 174,
   "metadata": {},
   "outputs": [
    {
     "data": {
      "text/html": [
       "<div>\n",
       "<style scoped>\n",
       "    .dataframe tbody tr th:only-of-type {\n",
       "        vertical-align: middle;\n",
       "    }\n",
       "\n",
       "    .dataframe tbody tr th {\n",
       "        vertical-align: top;\n",
       "    }\n",
       "\n",
       "    .dataframe thead th {\n",
       "        text-align: right;\n",
       "    }\n",
       "</style>\n",
       "<table border=\"1\" class=\"dataframe\">\n",
       "  <thead>\n",
       "    <tr style=\"text-align: right;\">\n",
       "      <th>event_type</th>\n",
       "      <th>cart</th>\n",
       "      <th>purchase</th>\n",
       "      <th>remove_from_cart</th>\n",
       "      <th>view</th>\n",
       "    </tr>\n",
       "    <tr>\n",
       "      <th>category_code</th>\n",
       "      <th></th>\n",
       "      <th></th>\n",
       "      <th></th>\n",
       "      <th></th>\n",
       "    </tr>\n",
       "  </thead>\n",
       "  <tbody>\n",
       "    <tr>\n",
       "      <td>other</td>\n",
       "      <td>1274777</td>\n",
       "      <td>318286</td>\n",
       "      <td>694682</td>\n",
       "      <td>2027075</td>\n",
       "    </tr>\n",
       "    <tr>\n",
       "      <td>appliances.environment.vacuum</td>\n",
       "      <td>3887</td>\n",
       "      <td>881</td>\n",
       "      <td>1995</td>\n",
       "      <td>24556</td>\n",
       "    </tr>\n",
       "    <tr>\n",
       "      <td>apparel.glove</td>\n",
       "      <td>3328</td>\n",
       "      <td>1115</td>\n",
       "      <td>1751</td>\n",
       "      <td>4038</td>\n",
       "    </tr>\n",
       "    <tr>\n",
       "      <td>stationery.cartrige</td>\n",
       "      <td>5136</td>\n",
       "      <td>1538</td>\n",
       "      <td>1713</td>\n",
       "      <td>4258</td>\n",
       "    </tr>\n",
       "    <tr>\n",
       "      <td>furniture.bathroom.bath</td>\n",
       "      <td>1013</td>\n",
       "      <td>271</td>\n",
       "      <td>479</td>\n",
       "      <td>2925</td>\n",
       "    </tr>\n",
       "    <tr>\n",
       "      <td>furniture.living_room.cabinet</td>\n",
       "      <td>454</td>\n",
       "      <td>67</td>\n",
       "      <td>261</td>\n",
       "      <td>6342</td>\n",
       "    </tr>\n",
       "    <tr>\n",
       "      <td>accessories.bag</td>\n",
       "      <td>215</td>\n",
       "      <td>50</td>\n",
       "      <td>126</td>\n",
       "      <td>5405</td>\n",
       "    </tr>\n",
       "    <tr>\n",
       "      <td>accessories.cosmetic_bag</td>\n",
       "      <td>103</td>\n",
       "      <td>23</td>\n",
       "      <td>58</td>\n",
       "      <td>405</td>\n",
       "    </tr>\n",
       "    <tr>\n",
       "      <td>appliances.personal.hair_cutter</td>\n",
       "      <td>47</td>\n",
       "      <td>5</td>\n",
       "      <td>21</td>\n",
       "      <td>738</td>\n",
       "    </tr>\n",
       "    <tr>\n",
       "      <td>appliances.environment.air_conditioner</td>\n",
       "      <td>37</td>\n",
       "      <td>14</td>\n",
       "      <td>16</td>\n",
       "      <td>100</td>\n",
       "    </tr>\n",
       "    <tr>\n",
       "      <td>furniture.living_room.chair</td>\n",
       "      <td>23</td>\n",
       "      <td>3</td>\n",
       "      <td>14</td>\n",
       "      <td>142</td>\n",
       "    </tr>\n",
       "  </tbody>\n",
       "</table>\n",
       "</div>"
      ],
      "text/plain": [
       "event_type                                 cart  purchase  remove_from_cart  \\\n",
       "category_code                                                                 \n",
       "other                                   1274777    318286            694682   \n",
       "appliances.environment.vacuum              3887       881              1995   \n",
       "apparel.glove                              3328      1115              1751   \n",
       "stationery.cartrige                        5136      1538              1713   \n",
       "furniture.bathroom.bath                    1013       271               479   \n",
       "furniture.living_room.cabinet               454        67               261   \n",
       "accessories.bag                             215        50               126   \n",
       "accessories.cosmetic_bag                    103        23                58   \n",
       "appliances.personal.hair_cutter              47         5                21   \n",
       "appliances.environment.air_conditioner       37        14                16   \n",
       "furniture.living_room.chair                  23         3                14   \n",
       "\n",
       "event_type                                 view  \n",
       "category_code                                    \n",
       "other                                   2027075  \n",
       "appliances.environment.vacuum             24556  \n",
       "apparel.glove                              4038  \n",
       "stationery.cartrige                        4258  \n",
       "furniture.bathroom.bath                    2925  \n",
       "furniture.living_room.cabinet              6342  \n",
       "accessories.bag                            5405  \n",
       "accessories.cosmetic_bag                    405  \n",
       "appliances.personal.hair_cutter             738  \n",
       "appliances.environment.air_conditioner      100  \n",
       "furniture.living_room.chair                 142  "
      ]
     },
     "execution_count": 174,
     "metadata": {},
     "output_type": "execute_result"
    }
   ],
   "source": [
    "#top categories that are removed from cart\n",
    "pivotbycategorynov.sort_values('remove_from_cart', ascending=False)"
   ]
  },
  {
   "cell_type": "code",
   "execution_count": 175,
   "metadata": {},
   "outputs": [
    {
     "data": {
      "text/html": [
       "<div>\n",
       "<style scoped>\n",
       "    .dataframe tbody tr th:only-of-type {\n",
       "        vertical-align: middle;\n",
       "    }\n",
       "\n",
       "    .dataframe tbody tr th {\n",
       "        vertical-align: top;\n",
       "    }\n",
       "\n",
       "    .dataframe thead th {\n",
       "        text-align: right;\n",
       "    }\n",
       "</style>\n",
       "<table border=\"1\" class=\"dataframe\">\n",
       "  <thead>\n",
       "    <tr style=\"text-align: right;\">\n",
       "      <th>event_type</th>\n",
       "      <th>cart</th>\n",
       "      <th>purchase</th>\n",
       "      <th>remove_from_cart</th>\n",
       "      <th>view</th>\n",
       "    </tr>\n",
       "    <tr>\n",
       "      <th>brand</th>\n",
       "      <th></th>\n",
       "      <th></th>\n",
       "      <th></th>\n",
       "      <th></th>\n",
       "    </tr>\n",
       "  </thead>\n",
       "  <tbody>\n",
       "    <tr>\n",
       "      <td>missing</td>\n",
       "      <td>556775</td>\n",
       "      <td>137622</td>\n",
       "      <td>304464</td>\n",
       "      <td>875196</td>\n",
       "    </tr>\n",
       "    <tr>\n",
       "      <td>runail</td>\n",
       "      <td>105008</td>\n",
       "      <td>26028</td>\n",
       "      <td>50140</td>\n",
       "      <td>124555</td>\n",
       "    </tr>\n",
       "    <tr>\n",
       "      <td>irisk</td>\n",
       "      <td>62733</td>\n",
       "      <td>16364</td>\n",
       "      <td>34240</td>\n",
       "      <td>78076</td>\n",
       "    </tr>\n",
       "    <tr>\n",
       "      <td>grattol</td>\n",
       "      <td>53191</td>\n",
       "      <td>13613</td>\n",
       "      <td>29996</td>\n",
       "      <td>96151</td>\n",
       "    </tr>\n",
       "    <tr>\n",
       "      <td>bpw.style</td>\n",
       "      <td>42142</td>\n",
       "      <td>13145</td>\n",
       "      <td>21658</td>\n",
       "      <td>48146</td>\n",
       "    </tr>\n",
       "    <tr>\n",
       "      <td>masura</td>\n",
       "      <td>53842</td>\n",
       "      <td>11435</td>\n",
       "      <td>38731</td>\n",
       "      <td>69268</td>\n",
       "    </tr>\n",
       "    <tr>\n",
       "      <td>ingarden</td>\n",
       "      <td>29563</td>\n",
       "      <td>7797</td>\n",
       "      <td>18762</td>\n",
       "      <td>40819</td>\n",
       "    </tr>\n",
       "    <tr>\n",
       "      <td>freedecor</td>\n",
       "      <td>22661</td>\n",
       "      <td>5996</td>\n",
       "      <td>12868</td>\n",
       "      <td>29235</td>\n",
       "    </tr>\n",
       "    <tr>\n",
       "      <td>uno</td>\n",
       "      <td>16514</td>\n",
       "      <td>4717</td>\n",
       "      <td>8395</td>\n",
       "      <td>27471</td>\n",
       "    </tr>\n",
       "    <tr>\n",
       "      <td>italwax</td>\n",
       "      <td>14606</td>\n",
       "      <td>4299</td>\n",
       "      <td>5835</td>\n",
       "      <td>23929</td>\n",
       "    </tr>\n",
       "  </tbody>\n",
       "</table>\n",
       "</div>"
      ],
      "text/plain": [
       "event_type    cart  purchase  remove_from_cart    view\n",
       "brand                                                 \n",
       "missing     556775    137622            304464  875196\n",
       "runail      105008     26028             50140  124555\n",
       "irisk        62733     16364             34240   78076\n",
       "grattol      53191     13613             29996   96151\n",
       "bpw.style    42142     13145             21658   48146\n",
       "masura       53842     11435             38731   69268\n",
       "ingarden     29563      7797             18762   40819\n",
       "freedecor    22661      5996             12868   29235\n",
       "uno          16514      4717              8395   27471\n",
       "italwax      14606      4299              5835   23929"
      ]
     },
     "execution_count": 175,
     "metadata": {},
     "output_type": "execute_result"
    }
   ],
   "source": [
    "#find top 10 brands that are purchased more\n",
    "bybrandnov = datanov2[['event_type', 'brand']]\n",
    "\n",
    "pivotbybrandnov = pd.pivot_table(bybrandnov,index=['brand'], columns=['event_type'], values=['event_type'], aggfunc=len, fill_value=0)\n",
    "pivotbybrandnov.sort_values('purchase', ascending=False).head(10)"
   ]
  },
  {
   "cell_type": "code",
   "execution_count": 176,
   "metadata": {},
   "outputs": [
    {
     "data": {
      "text/html": [
       "<div>\n",
       "<style scoped>\n",
       "    .dataframe tbody tr th:only-of-type {\n",
       "        vertical-align: middle;\n",
       "    }\n",
       "\n",
       "    .dataframe tbody tr th {\n",
       "        vertical-align: top;\n",
       "    }\n",
       "\n",
       "    .dataframe thead th {\n",
       "        text-align: right;\n",
       "    }\n",
       "</style>\n",
       "<table border=\"1\" class=\"dataframe\">\n",
       "  <thead>\n",
       "    <tr style=\"text-align: right;\">\n",
       "      <th>event_type</th>\n",
       "      <th>cart</th>\n",
       "      <th>purchase</th>\n",
       "      <th>remove_from_cart</th>\n",
       "      <th>view</th>\n",
       "    </tr>\n",
       "    <tr>\n",
       "      <th>brand</th>\n",
       "      <th></th>\n",
       "      <th></th>\n",
       "      <th></th>\n",
       "      <th></th>\n",
       "    </tr>\n",
       "  </thead>\n",
       "  <tbody>\n",
       "    <tr>\n",
       "      <td>missing</td>\n",
       "      <td>556775</td>\n",
       "      <td>137622</td>\n",
       "      <td>304464</td>\n",
       "      <td>875196</td>\n",
       "    </tr>\n",
       "    <tr>\n",
       "      <td>runail</td>\n",
       "      <td>105008</td>\n",
       "      <td>26028</td>\n",
       "      <td>50140</td>\n",
       "      <td>124555</td>\n",
       "    </tr>\n",
       "    <tr>\n",
       "      <td>masura</td>\n",
       "      <td>53842</td>\n",
       "      <td>11435</td>\n",
       "      <td>38731</td>\n",
       "      <td>69268</td>\n",
       "    </tr>\n",
       "    <tr>\n",
       "      <td>irisk</td>\n",
       "      <td>62733</td>\n",
       "      <td>16364</td>\n",
       "      <td>34240</td>\n",
       "      <td>78076</td>\n",
       "    </tr>\n",
       "    <tr>\n",
       "      <td>grattol</td>\n",
       "      <td>53191</td>\n",
       "      <td>13613</td>\n",
       "      <td>29996</td>\n",
       "      <td>96151</td>\n",
       "    </tr>\n",
       "    <tr>\n",
       "      <td>bpw.style</td>\n",
       "      <td>42142</td>\n",
       "      <td>13145</td>\n",
       "      <td>21658</td>\n",
       "      <td>48146</td>\n",
       "    </tr>\n",
       "    <tr>\n",
       "      <td>ingarden</td>\n",
       "      <td>29563</td>\n",
       "      <td>7797</td>\n",
       "      <td>18762</td>\n",
       "      <td>40819</td>\n",
       "    </tr>\n",
       "    <tr>\n",
       "      <td>freedecor</td>\n",
       "      <td>22661</td>\n",
       "      <td>5996</td>\n",
       "      <td>12868</td>\n",
       "      <td>29235</td>\n",
       "    </tr>\n",
       "    <tr>\n",
       "      <td>haruyama</td>\n",
       "      <td>13634</td>\n",
       "      <td>3254</td>\n",
       "      <td>9285</td>\n",
       "      <td>19295</td>\n",
       "    </tr>\n",
       "    <tr>\n",
       "      <td>lianail</td>\n",
       "      <td>13234</td>\n",
       "      <td>2736</td>\n",
       "      <td>9128</td>\n",
       "      <td>18264</td>\n",
       "    </tr>\n",
       "  </tbody>\n",
       "</table>\n",
       "</div>"
      ],
      "text/plain": [
       "event_type    cart  purchase  remove_from_cart    view\n",
       "brand                                                 \n",
       "missing     556775    137622            304464  875196\n",
       "runail      105008     26028             50140  124555\n",
       "masura       53842     11435             38731   69268\n",
       "irisk        62733     16364             34240   78076\n",
       "grattol      53191     13613             29996   96151\n",
       "bpw.style    42142     13145             21658   48146\n",
       "ingarden     29563      7797             18762   40819\n",
       "freedecor    22661      5996             12868   29235\n",
       "haruyama     13634      3254              9285   19295\n",
       "lianail      13234      2736              9128   18264"
      ]
     },
     "execution_count": 176,
     "metadata": {},
     "output_type": "execute_result"
    }
   ],
   "source": [
    "#top 10 brands that are removed from cart\n",
    "pivotbybrandnov.sort_values('remove_from_cart', ascending=False).head(10)"
   ]
  },
  {
   "cell_type": "code",
   "execution_count": 177,
   "metadata": {},
   "outputs": [
    {
     "data": {
      "text/plain": [
       "0.1317263231384764"
      ]
     },
     "execution_count": 177,
     "metadata": {},
     "output_type": "execute_result"
    }
   ],
   "source": [
    "#user behavior on estore - purchase or not purchase\n",
    "#we can find the probability of purchase by finding the total number of purchase events and divide it by the total number of events\n",
    "#we can treat the purchase behavior as a binomial distribution. We can do repeated bernoulli trials for finding the success (purchase event)\n",
    "#rate. \n",
    "purchaseprobability = np.sum(dataoct5.event_type_purchase)/np.sum(dataoct5.event_type_view)\n",
    "purchaseprobability"
   ]
  },
  {
   "cell_type": "code",
   "execution_count": 178,
   "metadata": {},
   "outputs": [
    {
     "name": "stdout",
     "output_type": "stream",
     "text": [
      "<class 'pandas.core.frame.DataFrame'>\n",
      "Int64Index: 4388373 entries, 0 to 4635836\n",
      "Data columns (total 9 columns):\n",
      "event_time       datetime64[ns]\n",
      "event_type       category\n",
      "product_id       int64\n",
      "category_id      int64\n",
      "category_code    category\n",
      "brand            category\n",
      "price            float64\n",
      "user_id          int64\n",
      "user_session     object\n",
      "dtypes: category(3), datetime64[ns](1), float64(1), int64(3), object(1)\n",
      "memory usage: 251.1+ MB\n"
     ]
    }
   ],
   "source": [
    "datanov2.info()"
   ]
  },
  {
   "cell_type": "code",
   "execution_count": 179,
   "metadata": {},
   "outputs": [
    {
     "data": {
      "text/plain": [
       "0.15522903837409152"
      ]
     },
     "execution_count": 179,
     "metadata": {},
     "output_type": "execute_result"
    }
   ],
   "source": [
    "purchaseprobabilityNov = np.sum(datanov5.event_type_purchase)/np.sum(datanov5.event_type_view)\n",
    "purchaseprobabilityNov#higher probability of purchase in Nov but not a big difference"
   ]
  },
  {
   "cell_type": "code",
   "execution_count": 180,
   "metadata": {},
   "outputs": [
    {
     "data": {
      "image/png": "[encoded data removed]",
      "text/plain": [
       "<Figure size 432x288 with 1 Axes>"
      ]
     },
     "metadata": {},
     "output_type": "display_data"
    }
   ],
   "source": [
    "#calculate probability mass function for the number of purchases that can happen for 1000 events on the ecommerce site\n",
    "#use binomial distribution to pick samples n=1000, p=0.063\n",
    "np.random.seed(42)\n",
    "sns.set()\n",
    "n_purchases_oct=np.random.binomial(1000, 0.13, size=10000)\n",
    "x, y = ecdf(n_purchases_oct)\n",
    "\n",
    "n_purchases_nov=np.random.binomial(1000, 0.155, size=10000)\n",
    "x1, y1 = ecdf(n_purchases_nov)\n",
    "\n",
    "_ = plt.plot(x, y, marker='.', linestyle='none')\n",
    "_ = plt.plot(x1, y1, marker='.', linestyle='none')\n",
    "_ = plt.xlabel('No of purchases')\n",
    "_ = plt.ylabel('cdf')\n",
    "\n",
    "_ = plt.legend(('Oct', 'Nov'), loc='lower right')\n",
    "\n",
    "plt.show()\n"
   ]
  },
  {
   "cell_type": "code",
   "execution_count": 181,
   "metadata": {},
   "outputs": [
    {
     "data": {
      "text/plain": [
       "41899"
      ]
     },
     "execution_count": 181,
     "metadata": {},
     "output_type": "execute_result"
    }
   ],
   "source": [
    "len(dataoct5.product_id.unique())"
   ]
  },
  {
   "cell_type": "code",
   "execution_count": 182,
   "metadata": {},
   "outputs": [],
   "source": [
    "#extract df containing only product, price and event types\n",
    "dataoct6 = dataoct5.copy().reset_index()\n",
    "productsoct = dataoct6[['product_id', 'price', 'event_type_view', 'event_type_cart', 'event_type_remove_from_cart', 'event_type_purchase']]\n",
    "productsoct = productsoct[productsoct.price >= 0]\n",
    "#productsoct.tail(20)"
   ]
  },
  {
   "cell_type": "code",
   "execution_count": 183,
   "metadata": {},
   "outputs": [
    {
     "data": {
      "text/html": [
       "<div>\n",
       "<style scoped>\n",
       "    .dataframe tbody tr th:only-of-type {\n",
       "        vertical-align: middle;\n",
       "    }\n",
       "\n",
       "    .dataframe tbody tr th {\n",
       "        vertical-align: top;\n",
       "    }\n",
       "\n",
       "    .dataframe thead th {\n",
       "        text-align: right;\n",
       "    }\n",
       "</style>\n",
       "<table border=\"1\" class=\"dataframe\">\n",
       "  <thead>\n",
       "    <tr style=\"text-align: right;\">\n",
       "      <th></th>\n",
       "      <th></th>\n",
       "      <th>event_type_view</th>\n",
       "      <th>event_type_cart</th>\n",
       "      <th>event_type_remove_from_cart</th>\n",
       "      <th>event_type_purchase</th>\n",
       "    </tr>\n",
       "    <tr>\n",
       "      <th>product_id</th>\n",
       "      <th>price</th>\n",
       "      <th></th>\n",
       "      <th></th>\n",
       "      <th></th>\n",
       "      <th></th>\n",
       "    </tr>\n",
       "  </thead>\n",
       "  <tbody>\n",
       "    <tr>\n",
       "      <td>3752</td>\n",
       "      <td>15.71</td>\n",
       "      <td>14.0</td>\n",
       "      <td>0.0</td>\n",
       "      <td>0.0</td>\n",
       "      <td>0.0</td>\n",
       "    </tr>\n",
       "    <tr>\n",
       "      <td>3762</td>\n",
       "      <td>19.37</td>\n",
       "      <td>387.0</td>\n",
       "      <td>187.0</td>\n",
       "      <td>79.0</td>\n",
       "      <td>50.0</td>\n",
       "    </tr>\n",
       "    <tr>\n",
       "      <td>3763</td>\n",
       "      <td>16.03</td>\n",
       "      <td>97.0</td>\n",
       "      <td>35.0</td>\n",
       "      <td>16.0</td>\n",
       "      <td>8.0</td>\n",
       "    </tr>\n",
       "    <tr>\n",
       "      <td>3771</td>\n",
       "      <td>15.08</td>\n",
       "      <td>6.0</td>\n",
       "      <td>0.0</td>\n",
       "      <td>0.0</td>\n",
       "      <td>0.0</td>\n",
       "    </tr>\n",
       "    <tr>\n",
       "      <td>3774</td>\n",
       "      <td>16.03</td>\n",
       "      <td>129.0</td>\n",
       "      <td>69.0</td>\n",
       "      <td>29.0</td>\n",
       "      <td>25.0</td>\n",
       "    </tr>\n",
       "    <tr>\n",
       "      <td>3776</td>\n",
       "      <td>16.03</td>\n",
       "      <td>102.0</td>\n",
       "      <td>31.0</td>\n",
       "      <td>19.0</td>\n",
       "      <td>4.0</td>\n",
       "    </tr>\n",
       "    <tr>\n",
       "      <td>3783</td>\n",
       "      <td>7.92</td>\n",
       "      <td>3.0</td>\n",
       "      <td>0.0</td>\n",
       "      <td>0.0</td>\n",
       "      <td>0.0</td>\n",
       "    </tr>\n",
       "    <tr>\n",
       "      <td>3788</td>\n",
       "      <td>12.54</td>\n",
       "      <td>1.0</td>\n",
       "      <td>0.0</td>\n",
       "      <td>0.0</td>\n",
       "      <td>0.0</td>\n",
       "    </tr>\n",
       "    <tr>\n",
       "      <td>3790</td>\n",
       "      <td>7.92</td>\n",
       "      <td>12.0</td>\n",
       "      <td>0.0</td>\n",
       "      <td>1.0</td>\n",
       "      <td>0.0</td>\n",
       "    </tr>\n",
       "    <tr>\n",
       "      <td>3806</td>\n",
       "      <td>16.03</td>\n",
       "      <td>111.0</td>\n",
       "      <td>37.0</td>\n",
       "      <td>19.0</td>\n",
       "      <td>3.0</td>\n",
       "    </tr>\n",
       "  </tbody>\n",
       "</table>\n",
       "</div>"
      ],
      "text/plain": [
       "                  event_type_view  event_type_cart  \\\n",
       "product_id price                                     \n",
       "3752       15.71             14.0              0.0   \n",
       "3762       19.37            387.0            187.0   \n",
       "3763       16.03             97.0             35.0   \n",
       "3771       15.08              6.0              0.0   \n",
       "3774       16.03            129.0             69.0   \n",
       "3776       16.03            102.0             31.0   \n",
       "3783       7.92               3.0              0.0   \n",
       "3788       12.54              1.0              0.0   \n",
       "3790       7.92              12.0              0.0   \n",
       "3806       16.03            111.0             37.0   \n",
       "\n",
       "                  event_type_remove_from_cart  event_type_purchase  \n",
       "product_id price                                                    \n",
       "3752       15.71                          0.0                  0.0  \n",
       "3762       19.37                         79.0                 50.0  \n",
       "3763       16.03                         16.0                  8.0  \n",
       "3771       15.08                          0.0                  0.0  \n",
       "3774       16.03                         29.0                 25.0  \n",
       "3776       16.03                         19.0                  4.0  \n",
       "3783       7.92                           0.0                  0.0  \n",
       "3788       12.54                          0.0                  0.0  \n",
       "3790       7.92                           1.0                  0.0  \n",
       "3806       16.03                         19.0                  3.0  "
      ]
     },
     "execution_count": 183,
     "metadata": {},
     "output_type": "execute_result"
    }
   ],
   "source": [
    "groupbyprod = productsoct.groupby(['product_id', 'price']).sum()\n",
    "groupbyprod.head(10)"
   ]
  },
  {
   "cell_type": "code",
   "execution_count": 184,
   "metadata": {},
   "outputs": [
    {
     "data": {
      "text/html": [
       "<div>\n",
       "<style scoped>\n",
       "    .dataframe tbody tr th:only-of-type {\n",
       "        vertical-align: middle;\n",
       "    }\n",
       "\n",
       "    .dataframe tbody tr th {\n",
       "        vertical-align: top;\n",
       "    }\n",
       "\n",
       "    .dataframe thead th {\n",
       "        text-align: right;\n",
       "    }\n",
       "</style>\n",
       "<table border=\"1\" class=\"dataframe\">\n",
       "  <thead>\n",
       "    <tr style=\"text-align: right;\">\n",
       "      <th></th>\n",
       "      <th>product_id</th>\n",
       "      <th>price</th>\n",
       "      <th>event_type_view</th>\n",
       "      <th>event_type_cart</th>\n",
       "      <th>event_type_remove_from_cart</th>\n",
       "      <th>event_type_purchase</th>\n",
       "    </tr>\n",
       "  </thead>\n",
       "  <tbody>\n",
       "    <tr>\n",
       "      <td>0</td>\n",
       "      <td>3752</td>\n",
       "      <td>15.71</td>\n",
       "      <td>14.0</td>\n",
       "      <td>0.0</td>\n",
       "      <td>0.0</td>\n",
       "      <td>0.0</td>\n",
       "    </tr>\n",
       "    <tr>\n",
       "      <td>1</td>\n",
       "      <td>3762</td>\n",
       "      <td>19.37</td>\n",
       "      <td>387.0</td>\n",
       "      <td>187.0</td>\n",
       "      <td>79.0</td>\n",
       "      <td>50.0</td>\n",
       "    </tr>\n",
       "    <tr>\n",
       "      <td>2</td>\n",
       "      <td>3763</td>\n",
       "      <td>16.03</td>\n",
       "      <td>97.0</td>\n",
       "      <td>35.0</td>\n",
       "      <td>16.0</td>\n",
       "      <td>8.0</td>\n",
       "    </tr>\n",
       "    <tr>\n",
       "      <td>3</td>\n",
       "      <td>3771</td>\n",
       "      <td>15.08</td>\n",
       "      <td>6.0</td>\n",
       "      <td>0.0</td>\n",
       "      <td>0.0</td>\n",
       "      <td>0.0</td>\n",
       "    </tr>\n",
       "    <tr>\n",
       "      <td>4</td>\n",
       "      <td>3774</td>\n",
       "      <td>16.03</td>\n",
       "      <td>129.0</td>\n",
       "      <td>69.0</td>\n",
       "      <td>29.0</td>\n",
       "      <td>25.0</td>\n",
       "    </tr>\n",
       "  </tbody>\n",
       "</table>\n",
       "</div>"
      ],
      "text/plain": [
       "   product_id  price  event_type_view  event_type_cart  \\\n",
       "0        3752  15.71             14.0              0.0   \n",
       "1        3762  19.37            387.0            187.0   \n",
       "2        3763  16.03             97.0             35.0   \n",
       "3        3771  15.08              6.0              0.0   \n",
       "4        3774  16.03            129.0             69.0   \n",
       "\n",
       "   event_type_remove_from_cart  event_type_purchase  \n",
       "0                          0.0                  0.0  \n",
       "1                         79.0                 50.0  \n",
       "2                         16.0                  8.0  \n",
       "3                          0.0                  0.0  \n",
       "4                         29.0                 25.0  "
      ]
     },
     "execution_count": 184,
     "metadata": {},
     "output_type": "execute_result"
    }
   ],
   "source": [
    "groupbyprod = groupbyprod.reset_index()\n",
    "groupbyprod.head()"
   ]
  },
  {
   "cell_type": "code",
   "execution_count": 185,
   "metadata": {},
   "outputs": [
    {
     "data": {
      "text/plain": [
       "Text(0, 0.5, 'no of purchase')"
      ]
     },
     "execution_count": 185,
     "metadata": {},
     "output_type": "execute_result"
    },
    {
     "data": {
      "image/png": "[encoded data removed]",
      "text/plain": [
       "<Figure size 432x288 with 1 Axes>"
      ]
     },
     "metadata": {},
     "output_type": "display_data"
    }
   ],
   "source": [
    "plt.scatter(groupbyprod.price, groupbyprod.event_type_purchase)\n",
    "plt.xlabel('price')\n",
    "plt.ylabel('no of purchase')"
   ]
  },
  {
   "cell_type": "code",
   "execution_count": 186,
   "metadata": {},
   "outputs": [
    {
     "data": {
      "text/plain": [
       "Text(0, 0.5, 'no of views')"
      ]
     },
     "execution_count": 186,
     "metadata": {},
     "output_type": "execute_result"
    },
    {
     "data": {
      "image/png": "[encoded data removed]",
      "text/plain": [
       "<Figure size 432x288 with 1 Axes>"
      ]
     },
     "metadata": {},
     "output_type": "display_data"
    }
   ],
   "source": [
    "plt.scatter(groupbyprod.price, groupbyprod.event_type_view)\n",
    "plt.xlabel('price')\n",
    "plt.ylabel('no of views')"
   ]
  },
  {
   "cell_type": "code",
   "execution_count": 187,
   "metadata": {},
   "outputs": [],
   "source": [
    "#views are more evenly distributed than purchase \n"
   ]
  },
  {
   "cell_type": "code",
   "execution_count": 189,
   "metadata": {},
   "outputs": [
    {
     "name": "stdout",
     "output_type": "stream",
     "text": [
      "<class 'pandas.core.frame.DataFrame'>\n",
      "Int64Index: 3889108 entries, 0 to 3889127\n",
      "Data columns (total 6 columns):\n",
      "product_id                     int64\n",
      "price                          float64\n",
      "event_type_view                uint8\n",
      "event_type_cart                uint8\n",
      "event_type_remove_from_cart    uint8\n",
      "event_type_purchase            uint8\n",
      "dtypes: float64(1), int64(1), uint8(4)\n",
      "memory usage: 103.9 MB\n"
     ]
    }
   ],
   "source": [
    "productsoct.info()"
   ]
  },
  {
   "cell_type": "code",
   "execution_count": 201,
   "metadata": {},
   "outputs": [
    {
     "data": {
      "text/plain": [
       "0          True\n",
       "1          True\n",
       "2          True\n",
       "3          True\n",
       "4          True\n",
       "           ... \n",
       "3889123    True\n",
       "3889124    True\n",
       "3889125    True\n",
       "3889126    True\n",
       "3889127    True\n",
       "Name: price, Length: 3889108, dtype: bool"
      ]
     },
     "execution_count": 201,
     "metadata": {},
     "output_type": "execute_result"
    }
   ],
   "source": [
    "productslessthan15 = productsoct.copy()\n",
    "t = productslessthan15.price <= 15.7\n",
    "t"
   ]
  },
  {
   "cell_type": "code",
   "execution_count": 202,
   "metadata": {},
   "outputs": [
    {
     "data": {
      "text/plain": [
       "(3481425, 6)"
      ]
     },
     "execution_count": 202,
     "metadata": {},
     "output_type": "execute_result"
    }
   ],
   "source": [
    "productslessthan15 = productsoct[t] #the 90th percentile\n",
    "productslessthan15.shape"
   ]
  },
  {
   "cell_type": "code",
   "execution_count": 211,
   "metadata": {},
   "outputs": [],
   "source": [
    "k = (productsoct.price > 15.7) & (productsoct.price <= 55.56)\n",
    "\n",
    "prodsbet90and97p = productsoct[k]\n"
   ]
  },
  {
   "cell_type": "code",
   "execution_count": 234,
   "metadata": {},
   "outputs": [
    {
     "data": {
      "text/plain": [
       "0.1509737331677377"
      ]
     },
     "execution_count": 234,
     "metadata": {},
     "output_type": "execute_result"
    }
   ],
   "source": [
    "purchasetoviewratioless15 = sum(productslessthan15.event_type_purchase)/sum(productslessthan15.event_type_view)\n",
    "purchasetoviewratioless15"
   ]
  },
  {
   "cell_type": "code",
   "execution_count": 235,
   "metadata": {},
   "outputs": [
    {
     "data": {
      "text/plain": [
       "0.20509840641982655"
      ]
     },
     "execution_count": 235,
     "metadata": {},
     "output_type": "execute_result"
    }
   ],
   "source": [
    "purchasetocartratioless15 = sum(productslessthan15.event_type_purchase)/sum(productslessthan15.event_type_cart)\n",
    "purchasetocartratioless15"
   ]
  },
  {
   "cell_type": "code",
   "execution_count": 213,
   "metadata": {},
   "outputs": [
    {
     "data": {
      "text/plain": [
       "0.4830368159900587"
      ]
     },
     "execution_count": 213,
     "metadata": {},
     "output_type": "execute_result"
    }
   ],
   "source": [
    "removetocartratioless15 = sum(productslessthan15.event_type_remove_from_cart)/sum(productslessthan15.event_type_cart)\n",
    "removetocartratioless15"
   ]
  },
  {
   "cell_type": "code",
   "execution_count": 236,
   "metadata": {},
   "outputs": [
    {
     "data": {
      "text/plain": [
       "0.04378382240002857"
      ]
     },
     "execution_count": 236,
     "metadata": {},
     "output_type": "execute_result"
    }
   ],
   "source": [
    "purchasetoviewratiogrt15 = sum(prodsbet90and97p.event_type_purchase)/sum(prodsbet90and97p.event_type_view)\n",
    "purchasetoviewratiogrt15"
   ]
  },
  {
   "cell_type": "code",
   "execution_count": 238,
   "metadata": {},
   "outputs": [
    {
     "data": {
      "text/plain": [
       "0.1794064912730067"
      ]
     },
     "execution_count": 238,
     "metadata": {},
     "output_type": "execute_result"
    }
   ],
   "source": [
    "purchasetocartwratiogrt15 = sum(prodsbet90and97p.event_type_purchase)/sum(prodsbet90and97p.event_type_cart)\n",
    "purchasetocartwratiogrt15"
   ]
  },
  {
   "cell_type": "code",
   "execution_count": 216,
   "metadata": {},
   "outputs": [
    {
     "data": {
      "text/plain": [
       "0.4104431190310659"
      ]
     },
     "execution_count": 216,
     "metadata": {},
     "output_type": "execute_result"
    }
   ],
   "source": [
    "removetocartratiogrt15 = sum(prodsbet90and97p.event_type_remove_from_cart)/sum(prodsbet90and97p.event_type_cart)\n",
    "removetocartratiogrt15"
   ]
  },
  {
   "cell_type": "code",
   "execution_count": 217,
   "metadata": {},
   "outputs": [
    {
     "name": "stdout",
     "output_type": "stream",
     "text": [
      "<class 'pandas.core.frame.DataFrame'>\n",
      "DatetimeIndex: 4388373 entries, 2019-11-01 00:00:02 to 2019-11-30 23:59:58\n",
      "Data columns (total 11 columns):\n",
      "product_id                     int64\n",
      "category_id                    int64\n",
      "category_code                  category\n",
      "brand                          category\n",
      "price                          float64\n",
      "user_id                        int64\n",
      "user_session                   object\n",
      "event_type_cart                uint8\n",
      "event_type_purchase            uint8\n",
      "event_type_remove_from_cart    uint8\n",
      "event_type_view                uint8\n",
      "dtypes: category(2), float64(1), int64(3), object(1), uint8(4)\n",
      "memory usage: 230.2+ MB\n"
     ]
    }
   ],
   "source": [
    "#get the numbers for Nov\n",
    "novsale = datanov5.copy()\n",
    "novsale.info()"
   ]
  },
  {
   "cell_type": "code",
   "execution_count": 218,
   "metadata": {},
   "outputs": [
    {
     "data": {
      "text/plain": [
       "array([ 1.98,  3.97,  6.65,  8.43, 15.08, 26.83, 53.81])"
      ]
     },
     "execution_count": 218,
     "metadata": {},
     "output_type": "execute_result"
    }
   ],
   "source": [
    "#plotting the percentiles\n",
    "xax2, yax2 = ecdf(datanov2.price)\n",
    "vals2 = np.percentile(datanov2.price, percentiles)\n",
    "vals2"
   ]
  },
  {
   "cell_type": "code",
   "execution_count": 221,
   "metadata": {},
   "outputs": [
    {
     "name": "stdout",
     "output_type": "stream",
     "text": [
      "<class 'pandas.core.frame.DataFrame'>\n",
      "DatetimeIndex: 3954303 entries, 2019-11-01 00:00:02 to 2019-11-30 23:59:58\n",
      "Data columns (total 11 columns):\n",
      "product_id                     int64\n",
      "category_id                    int64\n",
      "category_code                  category\n",
      "brand                          category\n",
      "price                          float64\n",
      "user_id                        int64\n",
      "user_session                   object\n",
      "event_type_cart                uint8\n",
      "event_type_purchase            uint8\n",
      "event_type_remove_from_cart    uint8\n",
      "event_type_view                uint8\n",
      "dtypes: category(2), float64(1), int64(3), object(1), uint8(4)\n",
      "memory usage: 207.4+ MB\n"
     ]
    }
   ],
   "source": [
    "novsaleless15 = datanov5[datanov5.price <= 15.08]\n",
    "novsaleless15.info()"
   ]
  },
  {
   "cell_type": "code",
   "execution_count": 222,
   "metadata": {},
   "outputs": [
    {
     "name": "stdout",
     "output_type": "stream",
     "text": [
      "<class 'pandas.core.frame.DataFrame'>\n",
      "DatetimeIndex: 326156 entries, 2019-11-01 00:00:10 to 2019-11-30 23:59:47\n",
      "Data columns (total 11 columns):\n",
      "product_id                     326156 non-null int64\n",
      "category_id                    326156 non-null int64\n",
      "category_code                  326156 non-null category\n",
      "brand                          326156 non-null category\n",
      "price                          326156 non-null float64\n",
      "user_id                        326156 non-null int64\n",
      "user_session                   326156 non-null object\n",
      "event_type_cart                326156 non-null uint8\n",
      "event_type_purchase            326156 non-null uint8\n",
      "event_type_remove_from_cart    326156 non-null uint8\n",
      "event_type_view                326156 non-null uint8\n",
      "dtypes: category(2), float64(1), int64(3), object(1), uint8(4)\n",
      "memory usage: 17.1+ MB\n"
     ]
    }
   ],
   "source": [
    "novsalegrt15 = datanov5[(datanov5.price > 15.08) & (datanov5.price <= 54.0)]\n",
    "novsalegrt15.info()"
   ]
  },
  {
   "cell_type": "code",
   "execution_count": 228,
   "metadata": {},
   "outputs": [
    {
     "data": {
      "text/plain": [
       "0.17715229223476037"
      ]
     },
     "execution_count": 228,
     "metadata": {},
     "output_type": "execute_result"
    }
   ],
   "source": [
    "novpurchasetoviewratioless15 = sum(novsaleless15.event_type_purchase)/sum(novsaleless15.event_type_view)\n",
    "novpurchasetoviewratioless15"
   ]
  },
  {
   "cell_type": "code",
   "execution_count": 233,
   "metadata": {},
   "outputs": [
    {
     "data": {
      "text/plain": [
       "0.25069435930993555"
      ]
     },
     "execution_count": 233,
     "metadata": {},
     "output_type": "execute_result"
    }
   ],
   "source": [
    "novpurchasetocartratioless15 = sum(novsaleless15.event_type_purchase)/sum(novsaleless15.event_type_cart)\n",
    "novpurchasetocartratioless15"
   ]
  },
  {
   "cell_type": "code",
   "execution_count": 229,
   "metadata": {},
   "outputs": [
    {
     "data": {
      "text/plain": [
       "0.5445855399521479"
      ]
     },
     "execution_count": 229,
     "metadata": {},
     "output_type": "execute_result"
    }
   ],
   "source": [
    "novremovetocartratioless15 = sum(novsaleless15.event_type_remove_from_cart)/sum(novsaleless15.event_type_cart)\n",
    "novremovetocartratioless15"
   ]
  },
  {
   "cell_type": "code",
   "execution_count": 230,
   "metadata": {},
   "outputs": [
    {
     "data": {
      "text/plain": [
       "0.051144152250880925"
      ]
     },
     "execution_count": 230,
     "metadata": {},
     "output_type": "execute_result"
    }
   ],
   "source": [
    "novpurchasetoviewratiogrt15 = sum(novsalegrt15.event_type_purchase)/sum(novsalegrt15.event_type_view)\n",
    "novpurchasetoviewratiogrt15"
   ]
  },
  {
   "cell_type": "code",
   "execution_count": 232,
   "metadata": {},
   "outputs": [
    {
     "data": {
      "text/plain": [
       "0.24403603458999618"
      ]
     },
     "execution_count": 232,
     "metadata": {},
     "output_type": "execute_result"
    }
   ],
   "source": [
    "novpurchasetocartratiogrt15 = sum(novsalegrt15.event_type_purchase)/sum(novsalegrt15.event_type_cart)\n",
    "novpurchasetocartratiogrt15"
   ]
  },
  {
   "cell_type": "code",
   "execution_count": 231,
   "metadata": {},
   "outputs": [
    {
     "data": {
      "text/plain": [
       "0.5283601853895388"
      ]
     },
     "execution_count": 231,
     "metadata": {},
     "output_type": "execute_result"
    }
   ],
   "source": [
    "novremovetocartratiogrt15 = sum(novsalegrt15.event_type_remove_from_cart)/sum(novsalegrt15.event_type_cart)\n",
    "novremovetocartratiogrt15"
   ]
  },
  {
   "cell_type": "code",
   "execution_count": 273,
   "metadata": {},
   "outputs": [
    {
     "data": {
      "text/plain": [
       "nan                                       3823749\n",
       "appliances.environment.vacuum               27079\n",
       "stationery.cartrige                         12747\n",
       "apparel.glove                                7036\n",
       "furniture.living_room.cabinet                6141\n",
       "accessories.bag                              5814\n",
       "furniture.bathroom.bath                      4849\n",
       "appliances.personal.hair_cutter               820\n",
       "accessories.cosmetic_bag                      611\n",
       "appliances.environment.air_conditioner        159\n",
       "furniture.living_room.chair                   121\n",
       "sport.diving                                    2\n",
       "Name: category_code, dtype: int64"
      ]
     },
     "execution_count": 273,
     "metadata": {},
     "output_type": "execute_result"
    }
   ],
   "source": [
    "#brands and categories affecting purchase\n",
    "dataoct6 = dataoct5.copy().reset_index()\n",
    "dataoct6.category_code = dataoct6.category_code.astype('str')\n",
    "dataoct6.category_code.replace('nan', 'missing')\n",
    "dataoct6.category_code = dataoct6.category_code.astype('category')\n",
    "dataoct6.category_code.value_counts(dropna=False)\n",
    "#groupbycategorybrands = dataoct5[['category_code', 'brand', 'event_type_purchase', 'event_type_view', 'event_type_cart', 'event_type_remove_from_cart']]\n",
    "#groupbycategorybrands.reset_index().info()\n",
    "#groupbycategorybrands.head()"
   ]
  },
  {
   "cell_type": "code",
   "execution_count": 272,
   "metadata": {},
   "outputs": [
    {
     "data": {
      "text/plain": [
       "category_code\n",
       "accessories.bag                               40.0\n",
       "accessories.cosmetic_bag                      20.0\n",
       "apparel.glove                                726.0\n",
       "appliances.environment.air_conditioner         4.0\n",
       "appliances.environment.vacuum                797.0\n",
       "appliances.personal.hair_cutter                8.0\n",
       "furniture.bathroom.bath                      244.0\n",
       "furniture.living_room.cabinet                 52.0\n",
       "furniture.living_room.chair                    0.0\n",
       "nan                                       242008.0\n",
       "sport.diving                                   0.0\n",
       "stationery.cartrige                         1382.0\n",
       "Name: event_type_purchase, dtype: float64"
      ]
     },
     "execution_count": 272,
     "metadata": {},
     "output_type": "execute_result"
    }
   ],
   "source": [
    "groupbycategorybrands = dataoct6.groupby('category_code')['event_type_purchase'].sum()\n",
    "groupbycategorybrands"
   ]
  },
  {
   "cell_type": "code",
   "execution_count": 427,
   "metadata": {},
   "outputs": [
    {
     "data": {
      "text/plain": [
       "NaN          100559\n",
       "runail        21920\n",
       "irisk         15632\n",
       "masura        11319\n",
       "bpw.style      9506\n",
       "              ...  \n",
       "sun               1\n",
       "moyou             1\n",
       "sanoto            1\n",
       "bosnic            1\n",
       "lunaris           1\n",
       "Name: brand, Length: 211, dtype: int64"
      ]
     },
     "execution_count": 427,
     "metadata": {},
     "output_type": "execute_result"
    }
   ],
   "source": [
    "#missing category is purchased most. this is not very helpful data\n",
    "#find if certain brands are getting purchased more\n",
    "dataoct6[dataoct6.event_type_purchase == 1].brand.value_counts(dropna=False)"
   ]
  },
  {
   "cell_type": "code",
   "execution_count": 277,
   "metadata": {},
   "outputs": [
    {
     "data": {
      "text/plain": [
       "brand\n",
       "runail       21920.0\n",
       "irisk        15632.0\n",
       "masura       11319.0\n",
       "bpw.style     9506.0\n",
       "grattol       6438.0\n",
       "              ...   \n",
       "zab              0.0\n",
       "pueen            0.0\n",
       "blise            0.0\n",
       "uralsoap         0.0\n",
       "vl-gel           0.0\n",
       "Name: event_type_purchase, Length: 240, dtype: float64"
      ]
     },
     "execution_count": 277,
     "metadata": {},
     "output_type": "execute_result"
    }
   ],
   "source": [
    "dataoct6.groupby('brand')['event_type_purchase'].sum().sort_values(ascending=False)"
   ]
  },
  {
   "cell_type": "code",
   "execution_count": null,
   "metadata": {},
   "outputs": [],
   "source": [
    "#top 5 brands ruail, irisk, masura. bpw.style, grattol\n",
    "#missing brand is the highest count "
   ]
  },
  {
   "cell_type": "code",
   "execution_count": 287,
   "metadata": {},
   "outputs": [],
   "source": [
    "#find total business made from products > 55.56 in oct, that is, 2.5% of products\n",
    "percent25 = dataoct6[(dataoct6.event_type_purchase == 1) & (dataoct6.price >= 55.56)].price.sum()"
   ]
  },
  {
   "cell_type": "code",
   "execution_count": 288,
   "metadata": {},
   "outputs": [],
   "source": [
    "percent975 = dataoct6[(dataoct6.event_type_purchase == 1) & (dataoct6.price < 55.56)].price.sum()"
   ]
  },
  {
   "cell_type": "code",
   "execution_count": 289,
   "metadata": {},
   "outputs": [
    {
     "data": {
      "text/plain": [
       "0.10251858154448446"
      ]
     },
     "execution_count": 289,
     "metadata": {},
     "output_type": "execute_result"
    }
   ],
   "source": [
    "#2.5% of products make 10% of the business\n",
    "percent25/percent975"
   ]
  },
  {
   "cell_type": "code",
   "execution_count": 290,
   "metadata": {},
   "outputs": [
    {
     "data": {
      "text/plain": [
       "0.09591504737431225"
      ]
     },
     "execution_count": 290,
     "metadata": {},
     "output_type": "execute_result"
    }
   ],
   "source": [
    "#checking for Nov\n",
    "percentiletwo = datanov5[(datanov5.event_type_purchase == 1) & (datanov5.price >= 54.0)].price.sum()\n",
    "percent975 = datanov5[(datanov5.event_type_purchase == 1) & (datanov5.price < 54.0)].price.sum()\n",
    "percentiletwo/percent975"
   ]
  },
  {
   "cell_type": "code",
   "execution_count": 294,
   "metadata": {},
   "outputs": [
    {
     "data": {
      "text/plain": [
       "Index(['Tuesday', 'Tuesday', 'Tuesday', 'Tuesday', 'Tuesday', 'Tuesday',\n",
       "       'Tuesday', 'Tuesday', 'Tuesday', 'Tuesday',\n",
       "       ...\n",
       "       'Thursday', 'Thursday', 'Thursday', 'Thursday', 'Thursday', 'Thursday',\n",
       "       'Thursday', 'Thursday', 'Thursday', 'Thursday'],\n",
       "      dtype='object', name='event_time', length=3889128)"
      ]
     },
     "execution_count": 294,
     "metadata": {},
     "output_type": "execute_result"
    }
   ],
   "source": [
    "day_names = dataoct5.index.day_name()\n",
    "day_names"
   ]
  },
  {
   "cell_type": "code",
   "execution_count": 297,
   "metadata": {},
   "outputs": [
    {
     "data": {
      "text/plain": [
       "Int64Index([ 0,  0,  0,  0,  0,  0,  0,  0,  0,  0,\n",
       "            ...\n",
       "            23, 23, 23, 23, 23, 23, 23, 23, 23, 23],\n",
       "           dtype='int64', name='event_time', length=3889128)"
      ]
     },
     "execution_count": 297,
     "metadata": {},
     "output_type": "execute_result"
    }
   ],
   "source": [
    "hr = dataoct5.index.hour\n",
    "hr"
   ]
  },
  {
   "cell_type": "code",
   "execution_count": 315,
   "metadata": {},
   "outputs": [],
   "source": [
    "dailyPurchaseOct = dataoct5.groupby(day_names)['event_type_purchase'].sum().sort_values(ascending=False)"
   ]
  },
  {
   "cell_type": "code",
   "execution_count": 309,
   "metadata": {},
   "outputs": [],
   "source": [
    "day_names_nov = datanov5.index.day_name()"
   ]
  },
  {
   "cell_type": "code",
   "execution_count": 307,
   "metadata": {},
   "outputs": [],
   "source": [
    "hr_nov = datanov5.index.hour"
   ]
  },
  {
   "cell_type": "code",
   "execution_count": 393,
   "metadata": {},
   "outputs": [
    {
     "data": {
      "text/plain": [
       "event_time\n",
       "Friday       71989.0\n",
       "Thursday     57193.0\n",
       "Saturday     48616.0\n",
       "Sunday       42390.0\n",
       "Tuesday      34334.0\n",
       "Wednesday    34205.0\n",
       "Monday       33526.0\n",
       "Name: event_type_purchase, dtype: float64"
      ]
     },
     "execution_count": 393,
     "metadata": {},
     "output_type": "execute_result"
    }
   ],
   "source": [
    "dailypurchasenov1 = datanov5.groupby(day_names_nov)['event_type_purchase'].sum().sort_values(ascending=False)\n",
    "dailypurchasenov1"
   ]
  },
  {
   "cell_type": "code",
   "execution_count": 302,
   "metadata": {},
   "outputs": [
    {
     "data": {
      "text/plain": [
       "day        hour\n",
       "Wednesday  11      3253.0\n",
       "Tuesday    12      3103.0\n",
       "           11      3074.0\n",
       "Wednesday  12      2899.0\n",
       "Thursday   12      2842.0\n",
       "                    ...  \n",
       "Sunday     2        226.0\n",
       "           1        210.0\n",
       "Monday     0        202.0\n",
       "Wednesday  0        199.0\n",
       "Saturday   0        162.0\n",
       "Name: event_type_purchase, Length: 168, dtype: float64"
      ]
     },
     "execution_count": 302,
     "metadata": {},
     "output_type": "execute_result"
    }
   ],
   "source": [
    "dataoct5.groupby([day_names,hr])['event_type_purchase'].sum().rename_axis(['day', 'hour']).sort_values(ascending=False)"
   ]
  },
  {
   "cell_type": "code",
   "execution_count": 325,
   "metadata": {},
   "outputs": [
    {
     "data": {
      "text/html": [
       "<div>\n",
       "<style scoped>\n",
       "    .dataframe tbody tr th:only-of-type {\n",
       "        vertical-align: middle;\n",
       "    }\n",
       "\n",
       "    .dataframe tbody tr th {\n",
       "        vertical-align: top;\n",
       "    }\n",
       "\n",
       "    .dataframe thead th {\n",
       "        text-align: right;\n",
       "    }\n",
       "</style>\n",
       "<table border=\"1\" class=\"dataframe\">\n",
       "  <thead>\n",
       "    <tr style=\"text-align: right;\">\n",
       "      <th>hour</th>\n",
       "      <th>0</th>\n",
       "      <th>1</th>\n",
       "      <th>2</th>\n",
       "      <th>3</th>\n",
       "      <th>4</th>\n",
       "      <th>5</th>\n",
       "      <th>6</th>\n",
       "      <th>7</th>\n",
       "      <th>8</th>\n",
       "      <th>9</th>\n",
       "      <th>...</th>\n",
       "      <th>14</th>\n",
       "      <th>15</th>\n",
       "      <th>16</th>\n",
       "      <th>17</th>\n",
       "      <th>18</th>\n",
       "      <th>19</th>\n",
       "      <th>20</th>\n",
       "      <th>21</th>\n",
       "      <th>22</th>\n",
       "      <th>23</th>\n",
       "    </tr>\n",
       "    <tr>\n",
       "      <th>day</th>\n",
       "      <th></th>\n",
       "      <th></th>\n",
       "      <th></th>\n",
       "      <th></th>\n",
       "      <th></th>\n",
       "      <th></th>\n",
       "      <th></th>\n",
       "      <th></th>\n",
       "      <th></th>\n",
       "      <th></th>\n",
       "      <th></th>\n",
       "      <th></th>\n",
       "      <th></th>\n",
       "      <th></th>\n",
       "      <th></th>\n",
       "      <th></th>\n",
       "      <th></th>\n",
       "      <th></th>\n",
       "      <th></th>\n",
       "      <th></th>\n",
       "      <th></th>\n",
       "    </tr>\n",
       "  </thead>\n",
       "  <tbody>\n",
       "    <tr>\n",
       "      <td>Friday</td>\n",
       "      <td>347.0</td>\n",
       "      <td>904.0</td>\n",
       "      <td>598.0</td>\n",
       "      <td>910.0</td>\n",
       "      <td>1020.0</td>\n",
       "      <td>2073.0</td>\n",
       "      <td>3188.0</td>\n",
       "      <td>3445.0</td>\n",
       "      <td>4032.0</td>\n",
       "      <td>4761.0</td>\n",
       "      <td>...</td>\n",
       "      <td>3787.0</td>\n",
       "      <td>3738.0</td>\n",
       "      <td>4114.0</td>\n",
       "      <td>3508.0</td>\n",
       "      <td>3848.0</td>\n",
       "      <td>4267.0</td>\n",
       "      <td>4588.0</td>\n",
       "      <td>2298.0</td>\n",
       "      <td>1448.0</td>\n",
       "      <td>675.0</td>\n",
       "    </tr>\n",
       "    <tr>\n",
       "      <td>Monday</td>\n",
       "      <td>414.0</td>\n",
       "      <td>611.0</td>\n",
       "      <td>462.0</td>\n",
       "      <td>387.0</td>\n",
       "      <td>422.0</td>\n",
       "      <td>716.0</td>\n",
       "      <td>1217.0</td>\n",
       "      <td>1702.0</td>\n",
       "      <td>1413.0</td>\n",
       "      <td>1995.0</td>\n",
       "      <td>...</td>\n",
       "      <td>1919.0</td>\n",
       "      <td>1756.0</td>\n",
       "      <td>1971.0</td>\n",
       "      <td>1890.0</td>\n",
       "      <td>1582.0</td>\n",
       "      <td>1955.0</td>\n",
       "      <td>1815.0</td>\n",
       "      <td>1419.0</td>\n",
       "      <td>711.0</td>\n",
       "      <td>460.0</td>\n",
       "    </tr>\n",
       "    <tr>\n",
       "      <td>Saturday</td>\n",
       "      <td>427.0</td>\n",
       "      <td>353.0</td>\n",
       "      <td>503.0</td>\n",
       "      <td>650.0</td>\n",
       "      <td>862.0</td>\n",
       "      <td>1018.0</td>\n",
       "      <td>1827.0</td>\n",
       "      <td>1966.0</td>\n",
       "      <td>2652.0</td>\n",
       "      <td>2415.0</td>\n",
       "      <td>...</td>\n",
       "      <td>2851.0</td>\n",
       "      <td>2722.0</td>\n",
       "      <td>3084.0</td>\n",
       "      <td>3039.0</td>\n",
       "      <td>3103.0</td>\n",
       "      <td>3489.0</td>\n",
       "      <td>3058.0</td>\n",
       "      <td>1913.0</td>\n",
       "      <td>1329.0</td>\n",
       "      <td>624.0</td>\n",
       "    </tr>\n",
       "    <tr>\n",
       "      <td>Sunday</td>\n",
       "      <td>319.0</td>\n",
       "      <td>512.0</td>\n",
       "      <td>263.0</td>\n",
       "      <td>364.0</td>\n",
       "      <td>720.0</td>\n",
       "      <td>847.0</td>\n",
       "      <td>1285.0</td>\n",
       "      <td>1369.0</td>\n",
       "      <td>2148.0</td>\n",
       "      <td>2129.0</td>\n",
       "      <td>...</td>\n",
       "      <td>2342.0</td>\n",
       "      <td>2255.0</td>\n",
       "      <td>2489.0</td>\n",
       "      <td>2856.0</td>\n",
       "      <td>3379.0</td>\n",
       "      <td>3249.0</td>\n",
       "      <td>3140.0</td>\n",
       "      <td>1549.0</td>\n",
       "      <td>583.0</td>\n",
       "      <td>417.0</td>\n",
       "    </tr>\n",
       "    <tr>\n",
       "      <td>Thursday</td>\n",
       "      <td>506.0</td>\n",
       "      <td>385.0</td>\n",
       "      <td>313.0</td>\n",
       "      <td>499.0</td>\n",
       "      <td>793.0</td>\n",
       "      <td>1519.0</td>\n",
       "      <td>2156.0</td>\n",
       "      <td>2661.0</td>\n",
       "      <td>2804.0</td>\n",
       "      <td>3864.0</td>\n",
       "      <td>...</td>\n",
       "      <td>3250.0</td>\n",
       "      <td>2689.0</td>\n",
       "      <td>2997.0</td>\n",
       "      <td>3125.0</td>\n",
       "      <td>4077.0</td>\n",
       "      <td>3798.0</td>\n",
       "      <td>3135.0</td>\n",
       "      <td>1742.0</td>\n",
       "      <td>1139.0</td>\n",
       "      <td>818.0</td>\n",
       "    </tr>\n",
       "    <tr>\n",
       "      <td>Tuesday</td>\n",
       "      <td>380.0</td>\n",
       "      <td>355.0</td>\n",
       "      <td>444.0</td>\n",
       "      <td>487.0</td>\n",
       "      <td>601.0</td>\n",
       "      <td>881.0</td>\n",
       "      <td>1353.0</td>\n",
       "      <td>1896.0</td>\n",
       "      <td>1761.0</td>\n",
       "      <td>1928.0</td>\n",
       "      <td>...</td>\n",
       "      <td>2133.0</td>\n",
       "      <td>1582.0</td>\n",
       "      <td>1744.0</td>\n",
       "      <td>1554.0</td>\n",
       "      <td>2136.0</td>\n",
       "      <td>1558.0</td>\n",
       "      <td>2077.0</td>\n",
       "      <td>1444.0</td>\n",
       "      <td>808.0</td>\n",
       "      <td>402.0</td>\n",
       "    </tr>\n",
       "    <tr>\n",
       "      <td>Wednesday</td>\n",
       "      <td>324.0</td>\n",
       "      <td>151.0</td>\n",
       "      <td>320.0</td>\n",
       "      <td>363.0</td>\n",
       "      <td>620.0</td>\n",
       "      <td>1114.0</td>\n",
       "      <td>1619.0</td>\n",
       "      <td>1652.0</td>\n",
       "      <td>2148.0</td>\n",
       "      <td>2006.0</td>\n",
       "      <td>...</td>\n",
       "      <td>1664.0</td>\n",
       "      <td>1715.0</td>\n",
       "      <td>1982.0</td>\n",
       "      <td>1316.0</td>\n",
       "      <td>1613.0</td>\n",
       "      <td>1698.0</td>\n",
       "      <td>1881.0</td>\n",
       "      <td>1788.0</td>\n",
       "      <td>1102.0</td>\n",
       "      <td>548.0</td>\n",
       "    </tr>\n",
       "  </tbody>\n",
       "</table>\n",
       "<p>7 rows × 24 columns</p>\n",
       "</div>"
      ],
      "text/plain": [
       "hour          0      1      2      3       4       5       6       7       8   \\\n",
       "day                                                                             \n",
       "Friday     347.0  904.0  598.0  910.0  1020.0  2073.0  3188.0  3445.0  4032.0   \n",
       "Monday     414.0  611.0  462.0  387.0   422.0   716.0  1217.0  1702.0  1413.0   \n",
       "Saturday   427.0  353.0  503.0  650.0   862.0  1018.0  1827.0  1966.0  2652.0   \n",
       "Sunday     319.0  512.0  263.0  364.0   720.0   847.0  1285.0  1369.0  2148.0   \n",
       "Thursday   506.0  385.0  313.0  499.0   793.0  1519.0  2156.0  2661.0  2804.0   \n",
       "Tuesday    380.0  355.0  444.0  487.0   601.0   881.0  1353.0  1896.0  1761.0   \n",
       "Wednesday  324.0  151.0  320.0  363.0   620.0  1114.0  1619.0  1652.0  2148.0   \n",
       "\n",
       "hour           9   ...      14      15      16      17      18      19  \\\n",
       "day                ...                                                   \n",
       "Friday     4761.0  ...  3787.0  3738.0  4114.0  3508.0  3848.0  4267.0   \n",
       "Monday     1995.0  ...  1919.0  1756.0  1971.0  1890.0  1582.0  1955.0   \n",
       "Saturday   2415.0  ...  2851.0  2722.0  3084.0  3039.0  3103.0  3489.0   \n",
       "Sunday     2129.0  ...  2342.0  2255.0  2489.0  2856.0  3379.0  3249.0   \n",
       "Thursday   3864.0  ...  3250.0  2689.0  2997.0  3125.0  4077.0  3798.0   \n",
       "Tuesday    1928.0  ...  2133.0  1582.0  1744.0  1554.0  2136.0  1558.0   \n",
       "Wednesday  2006.0  ...  1664.0  1715.0  1982.0  1316.0  1613.0  1698.0   \n",
       "\n",
       "hour           20      21      22     23  \n",
       "day                                       \n",
       "Friday     4588.0  2298.0  1448.0  675.0  \n",
       "Monday     1815.0  1419.0   711.0  460.0  \n",
       "Saturday   3058.0  1913.0  1329.0  624.0  \n",
       "Sunday     3140.0  1549.0   583.0  417.0  \n",
       "Thursday   3135.0  1742.0  1139.0  818.0  \n",
       "Tuesday    2077.0  1444.0   808.0  402.0  \n",
       "Wednesday  1881.0  1788.0  1102.0  548.0  \n",
       "\n",
       "[7 rows x 24 columns]"
      ]
     },
     "execution_count": 325,
     "metadata": {},
     "output_type": "execute_result"
    }
   ],
   "source": [
    "novSale = datanov5.groupby([day_names_nov,hr_nov])['event_type_purchase'].sum().rename_axis(['day', 'hour']).sort_values(ascending=False)\n",
    "novSale.unstack()"
   ]
  },
  {
   "cell_type": "code",
   "execution_count": 317,
   "metadata": {},
   "outputs": [
    {
     "data": {
      "text/plain": [
       "pandas.core.series.Series"
      ]
     },
     "execution_count": 317,
     "metadata": {},
     "output_type": "execute_result"
    }
   ],
   "source": [
    "type(dailyPurchaseOct)"
   ]
  },
  {
   "cell_type": "code",
   "execution_count": 378,
   "metadata": {},
   "outputs": [
    {
     "data": {
      "text/html": [
       "<div>\n",
       "<style scoped>\n",
       "    .dataframe tbody tr th:only-of-type {\n",
       "        vertical-align: middle;\n",
       "    }\n",
       "\n",
       "    .dataframe tbody tr th {\n",
       "        vertical-align: top;\n",
       "    }\n",
       "\n",
       "    .dataframe thead th {\n",
       "        text-align: right;\n",
       "    }\n",
       "</style>\n",
       "<table border=\"1\" class=\"dataframe\">\n",
       "  <thead>\n",
       "    <tr style=\"text-align: right;\">\n",
       "      <th></th>\n",
       "      <th>nov</th>\n",
       "    </tr>\n",
       "    <tr>\n",
       "      <th>event_time</th>\n",
       "      <th></th>\n",
       "    </tr>\n",
       "  </thead>\n",
       "  <tbody>\n",
       "    <tr>\n",
       "      <td>Friday</td>\n",
       "      <td>71989.0</td>\n",
       "    </tr>\n",
       "    <tr>\n",
       "      <td>Thursday</td>\n",
       "      <td>57193.0</td>\n",
       "    </tr>\n",
       "    <tr>\n",
       "      <td>Saturday</td>\n",
       "      <td>48616.0</td>\n",
       "    </tr>\n",
       "    <tr>\n",
       "      <td>Sunday</td>\n",
       "      <td>42390.0</td>\n",
       "    </tr>\n",
       "    <tr>\n",
       "      <td>Tuesday</td>\n",
       "      <td>34334.0</td>\n",
       "    </tr>\n",
       "    <tr>\n",
       "      <td>Wednesday</td>\n",
       "      <td>34205.0</td>\n",
       "    </tr>\n",
       "    <tr>\n",
       "      <td>Monday</td>\n",
       "      <td>33526.0</td>\n",
       "    </tr>\n",
       "  </tbody>\n",
       "</table>\n",
       "</div>"
      ],
      "text/plain": [
       "                nov\n",
       "event_time         \n",
       "Friday      71989.0\n",
       "Thursday    57193.0\n",
       "Saturday    48616.0\n",
       "Sunday      42390.0\n",
       "Tuesday     34334.0\n",
       "Wednesday   34205.0\n",
       "Monday      33526.0"
      ]
     },
     "execution_count": 378,
     "metadata": {},
     "output_type": "execute_result"
    }
   ],
   "source": [
    "monthlysaleoct = pd.DataFrame(dailyPurchaseOct)\n",
    "monthlysalenov = pd.DataFrame(dailypurchasenov1)\n",
    "monthlysalenov.columns=['nov']\n",
    "monthlysalenov"
   ]
  },
  {
   "cell_type": "code",
   "execution_count": 379,
   "metadata": {},
   "outputs": [
    {
     "data": {
      "text/html": [
       "<div>\n",
       "<style scoped>\n",
       "    .dataframe tbody tr th:only-of-type {\n",
       "        vertical-align: middle;\n",
       "    }\n",
       "\n",
       "    .dataframe tbody tr th {\n",
       "        vertical-align: top;\n",
       "    }\n",
       "\n",
       "    .dataframe thead th {\n",
       "        text-align: right;\n",
       "    }\n",
       "</style>\n",
       "<table border=\"1\" class=\"dataframe\">\n",
       "  <thead>\n",
       "    <tr style=\"text-align: right;\">\n",
       "      <th></th>\n",
       "      <th>oct</th>\n",
       "    </tr>\n",
       "    <tr>\n",
       "      <th>event_time</th>\n",
       "      <th></th>\n",
       "    </tr>\n",
       "  </thead>\n",
       "  <tbody>\n",
       "    <tr>\n",
       "      <td>Wednesday</td>\n",
       "      <td>43258.0</td>\n",
       "    </tr>\n",
       "    <tr>\n",
       "      <td>Thursday</td>\n",
       "      <td>42973.0</td>\n",
       "    </tr>\n",
       "    <tr>\n",
       "      <td>Tuesday</td>\n",
       "      <td>42433.0</td>\n",
       "    </tr>\n",
       "    <tr>\n",
       "      <td>Monday</td>\n",
       "      <td>34572.0</td>\n",
       "    </tr>\n",
       "    <tr>\n",
       "      <td>Friday</td>\n",
       "      <td>29390.0</td>\n",
       "    </tr>\n",
       "    <tr>\n",
       "      <td>Sunday</td>\n",
       "      <td>28960.0</td>\n",
       "    </tr>\n",
       "    <tr>\n",
       "      <td>Saturday</td>\n",
       "      <td>23695.0</td>\n",
       "    </tr>\n",
       "  </tbody>\n",
       "</table>\n",
       "</div>"
      ],
      "text/plain": [
       "                oct\n",
       "event_time         \n",
       "Wednesday   43258.0\n",
       "Thursday    42973.0\n",
       "Tuesday     42433.0\n",
       "Monday      34572.0\n",
       "Friday      29390.0\n",
       "Sunday      28960.0\n",
       "Saturday    23695.0"
      ]
     },
     "execution_count": 379,
     "metadata": {},
     "output_type": "execute_result"
    }
   ],
   "source": [
    "monthlysaleoct.columns=['oct']\n",
    "monthlysaleoct"
   ]
  },
  {
   "cell_type": "code",
   "execution_count": 385,
   "metadata": {},
   "outputs": [
    {
     "data": {
      "text/html": [
       "<div>\n",
       "<style scoped>\n",
       "    .dataframe tbody tr th:only-of-type {\n",
       "        vertical-align: middle;\n",
       "    }\n",
       "\n",
       "    .dataframe tbody tr th {\n",
       "        vertical-align: top;\n",
       "    }\n",
       "\n",
       "    .dataframe thead th {\n",
       "        text-align: right;\n",
       "    }\n",
       "</style>\n",
       "<table border=\"1\" class=\"dataframe\">\n",
       "  <thead>\n",
       "    <tr style=\"text-align: right;\">\n",
       "      <th></th>\n",
       "      <th>oct</th>\n",
       "      <th>nov</th>\n",
       "    </tr>\n",
       "    <tr>\n",
       "      <th>event_time</th>\n",
       "      <th></th>\n",
       "      <th></th>\n",
       "    </tr>\n",
       "  </thead>\n",
       "  <tbody>\n",
       "    <tr>\n",
       "      <td>Wednesday</td>\n",
       "      <td>43258.0</td>\n",
       "      <td>34205.0</td>\n",
       "    </tr>\n",
       "    <tr>\n",
       "      <td>Thursday</td>\n",
       "      <td>42973.0</td>\n",
       "      <td>57193.0</td>\n",
       "    </tr>\n",
       "    <tr>\n",
       "      <td>Tuesday</td>\n",
       "      <td>42433.0</td>\n",
       "      <td>34334.0</td>\n",
       "    </tr>\n",
       "    <tr>\n",
       "      <td>Monday</td>\n",
       "      <td>34572.0</td>\n",
       "      <td>33526.0</td>\n",
       "    </tr>\n",
       "    <tr>\n",
       "      <td>Friday</td>\n",
       "      <td>29390.0</td>\n",
       "      <td>71989.0</td>\n",
       "    </tr>\n",
       "    <tr>\n",
       "      <td>Sunday</td>\n",
       "      <td>28960.0</td>\n",
       "      <td>42390.0</td>\n",
       "    </tr>\n",
       "    <tr>\n",
       "      <td>Saturday</td>\n",
       "      <td>23695.0</td>\n",
       "      <td>48616.0</td>\n",
       "    </tr>\n",
       "  </tbody>\n",
       "</table>\n",
       "</div>"
      ],
      "text/plain": [
       "                oct      nov\n",
       "event_time                  \n",
       "Wednesday   43258.0  34205.0\n",
       "Thursday    42973.0  57193.0\n",
       "Tuesday     42433.0  34334.0\n",
       "Monday      34572.0  33526.0\n",
       "Friday      29390.0  71989.0\n",
       "Sunday      28960.0  42390.0\n",
       "Saturday    23695.0  48616.0"
      ]
     },
     "execution_count": 385,
     "metadata": {},
     "output_type": "execute_result"
    }
   ],
   "source": [
    "monthlysale1 = pd.merge(monthlysaleoct, monthlysalenov, how='left', on='event_time')\n",
    "monthlysale1"
   ]
  },
  {
   "cell_type": "code",
   "execution_count": 388,
   "metadata": {},
   "outputs": [
    {
     "data": {
      "text/html": [
       "<div>\n",
       "<style scoped>\n",
       "    .dataframe tbody tr th:only-of-type {\n",
       "        vertical-align: middle;\n",
       "    }\n",
       "\n",
       "    .dataframe tbody tr th {\n",
       "        vertical-align: top;\n",
       "    }\n",
       "\n",
       "    .dataframe thead th {\n",
       "        text-align: right;\n",
       "    }\n",
       "</style>\n",
       "<table border=\"1\" class=\"dataframe\">\n",
       "  <thead>\n",
       "    <tr style=\"text-align: right;\">\n",
       "      <th></th>\n",
       "      <th>index</th>\n",
       "      <th>event_time</th>\n",
       "      <th>oct</th>\n",
       "      <th>nov</th>\n",
       "    </tr>\n",
       "  </thead>\n",
       "  <tbody>\n",
       "    <tr>\n",
       "      <td>0</td>\n",
       "      <td>0</td>\n",
       "      <td>Wednesday</td>\n",
       "      <td>43258.0</td>\n",
       "      <td>34205.0</td>\n",
       "    </tr>\n",
       "    <tr>\n",
       "      <td>1</td>\n",
       "      <td>1</td>\n",
       "      <td>Thursday</td>\n",
       "      <td>42973.0</td>\n",
       "      <td>57193.0</td>\n",
       "    </tr>\n",
       "    <tr>\n",
       "      <td>2</td>\n",
       "      <td>2</td>\n",
       "      <td>Tuesday</td>\n",
       "      <td>42433.0</td>\n",
       "      <td>34334.0</td>\n",
       "    </tr>\n",
       "    <tr>\n",
       "      <td>3</td>\n",
       "      <td>3</td>\n",
       "      <td>Monday</td>\n",
       "      <td>34572.0</td>\n",
       "      <td>33526.0</td>\n",
       "    </tr>\n",
       "    <tr>\n",
       "      <td>4</td>\n",
       "      <td>4</td>\n",
       "      <td>Friday</td>\n",
       "      <td>29390.0</td>\n",
       "      <td>71989.0</td>\n",
       "    </tr>\n",
       "    <tr>\n",
       "      <td>5</td>\n",
       "      <td>5</td>\n",
       "      <td>Sunday</td>\n",
       "      <td>28960.0</td>\n",
       "      <td>42390.0</td>\n",
       "    </tr>\n",
       "    <tr>\n",
       "      <td>6</td>\n",
       "      <td>6</td>\n",
       "      <td>Saturday</td>\n",
       "      <td>23695.0</td>\n",
       "      <td>48616.0</td>\n",
       "    </tr>\n",
       "  </tbody>\n",
       "</table>\n",
       "</div>"
      ],
      "text/plain": [
       "   index event_time      oct      nov\n",
       "0      0  Wednesday  43258.0  34205.0\n",
       "1      1   Thursday  42973.0  57193.0\n",
       "2      2    Tuesday  42433.0  34334.0\n",
       "3      3     Monday  34572.0  33526.0\n",
       "4      4     Friday  29390.0  71989.0\n",
       "5      5     Sunday  28960.0  42390.0\n",
       "6      6   Saturday  23695.0  48616.0"
      ]
     },
     "execution_count": 388,
     "metadata": {},
     "output_type": "execute_result"
    }
   ],
   "source": [
    "monthlysale1 = monthlysale1.reset_index()\n",
    "monthlysale1"
   ]
  },
  {
   "cell_type": "code",
   "execution_count": 390,
   "metadata": {},
   "outputs": [
    {
     "data": {
      "text/html": [
       "<div>\n",
       "<style scoped>\n",
       "    .dataframe tbody tr th:only-of-type {\n",
       "        vertical-align: middle;\n",
       "    }\n",
       "\n",
       "    .dataframe tbody tr th {\n",
       "        vertical-align: top;\n",
       "    }\n",
       "\n",
       "    .dataframe thead th {\n",
       "        text-align: right;\n",
       "    }\n",
       "</style>\n",
       "<table border=\"1\" class=\"dataframe\">\n",
       "  <thead>\n",
       "    <tr style=\"text-align: right;\">\n",
       "      <th></th>\n",
       "      <th>event_time</th>\n",
       "      <th>month</th>\n",
       "      <th>sale</th>\n",
       "    </tr>\n",
       "  </thead>\n",
       "  <tbody>\n",
       "    <tr>\n",
       "      <td>0</td>\n",
       "      <td>Wednesday</td>\n",
       "      <td>oct</td>\n",
       "      <td>43258.0</td>\n",
       "    </tr>\n",
       "    <tr>\n",
       "      <td>1</td>\n",
       "      <td>Thursday</td>\n",
       "      <td>oct</td>\n",
       "      <td>42973.0</td>\n",
       "    </tr>\n",
       "    <tr>\n",
       "      <td>2</td>\n",
       "      <td>Tuesday</td>\n",
       "      <td>oct</td>\n",
       "      <td>42433.0</td>\n",
       "    </tr>\n",
       "    <tr>\n",
       "      <td>3</td>\n",
       "      <td>Monday</td>\n",
       "      <td>oct</td>\n",
       "      <td>34572.0</td>\n",
       "    </tr>\n",
       "    <tr>\n",
       "      <td>4</td>\n",
       "      <td>Friday</td>\n",
       "      <td>oct</td>\n",
       "      <td>29390.0</td>\n",
       "    </tr>\n",
       "    <tr>\n",
       "      <td>5</td>\n",
       "      <td>Sunday</td>\n",
       "      <td>oct</td>\n",
       "      <td>28960.0</td>\n",
       "    </tr>\n",
       "    <tr>\n",
       "      <td>6</td>\n",
       "      <td>Saturday</td>\n",
       "      <td>oct</td>\n",
       "      <td>23695.0</td>\n",
       "    </tr>\n",
       "    <tr>\n",
       "      <td>7</td>\n",
       "      <td>Wednesday</td>\n",
       "      <td>nov</td>\n",
       "      <td>34205.0</td>\n",
       "    </tr>\n",
       "    <tr>\n",
       "      <td>8</td>\n",
       "      <td>Thursday</td>\n",
       "      <td>nov</td>\n",
       "      <td>57193.0</td>\n",
       "    </tr>\n",
       "    <tr>\n",
       "      <td>9</td>\n",
       "      <td>Tuesday</td>\n",
       "      <td>nov</td>\n",
       "      <td>34334.0</td>\n",
       "    </tr>\n",
       "    <tr>\n",
       "      <td>10</td>\n",
       "      <td>Monday</td>\n",
       "      <td>nov</td>\n",
       "      <td>33526.0</td>\n",
       "    </tr>\n",
       "    <tr>\n",
       "      <td>11</td>\n",
       "      <td>Friday</td>\n",
       "      <td>nov</td>\n",
       "      <td>71989.0</td>\n",
       "    </tr>\n",
       "    <tr>\n",
       "      <td>12</td>\n",
       "      <td>Sunday</td>\n",
       "      <td>nov</td>\n",
       "      <td>42390.0</td>\n",
       "    </tr>\n",
       "    <tr>\n",
       "      <td>13</td>\n",
       "      <td>Saturday</td>\n",
       "      <td>nov</td>\n",
       "      <td>48616.0</td>\n",
       "    </tr>\n",
       "  </tbody>\n",
       "</table>\n",
       "</div>"
      ],
      "text/plain": [
       "   event_time month     sale\n",
       "0   Wednesday   oct  43258.0\n",
       "1    Thursday   oct  42973.0\n",
       "2     Tuesday   oct  42433.0\n",
       "3      Monday   oct  34572.0\n",
       "4      Friday   oct  29390.0\n",
       "5      Sunday   oct  28960.0\n",
       "6    Saturday   oct  23695.0\n",
       "7   Wednesday   nov  34205.0\n",
       "8    Thursday   nov  57193.0\n",
       "9     Tuesday   nov  34334.0\n",
       "10     Monday   nov  33526.0\n",
       "11     Friday   nov  71989.0\n",
       "12     Sunday   nov  42390.0\n",
       "13   Saturday   nov  48616.0"
      ]
     },
     "execution_count": 390,
     "metadata": {},
     "output_type": "execute_result"
    }
   ],
   "source": [
    "sales = pd.melt(monthlysale1, id_vars=['event_time'], value_vars=['oct','nov'], value_name='sale', var_name='month')\n",
    "sales"
   ]
  },
  {
   "cell_type": "code",
   "execution_count": 391,
   "metadata": {},
   "outputs": [
    {
     "data": {
      "text/plain": [
       "<seaborn.axisgrid.FacetGrid at 0x70354419a608>"
      ]
     },
     "execution_count": 391,
     "metadata": {},
     "output_type": "execute_result"
    },
    {
     "data": {
      "image/png": "[encoded data removed]",
      "text/plain": [
       "<Figure size 489.35x432 with 1 Axes>"
      ]
     },
     "metadata": {},
     "output_type": "display_data"
    }
   ],
   "source": [
    "sns.set(style=\"whitegrid\")\n",
    "\n",
    "# Draw a nested barplot to show comparison between daily purchase count for Oct and Nov\n",
    "g = sns.catplot(x=\"event_time\", y=\"sale\", hue=\"month\", data=sales,\n",
    "                height=6, kind=\"bar\", palette=\"muted\")\n",
    "g.despine(left=True)\n",
    "g.set_ylabels(\"Daily Purchase\")"
   ]
  },
  {
   "cell_type": "code",
   "execution_count": null,
   "metadata": {},
   "outputs": [],
   "source": [
    "#Nov sees more sale on Friday due to Thanksgiving"
   ]
  },
  {
   "cell_type": "code",
   "execution_count": 401,
   "metadata": {},
   "outputs": [
    {
     "data": {
      "text/plain": [
       "event_time\n",
       "2019-11-01    112138\n",
       "2019-11-02    107948\n",
       "2019-11-03    119425\n",
       "2019-11-04    130273\n",
       "2019-11-05    141810\n",
       "Freq: D, Name: event_type_purchase, dtype: int64"
      ]
     },
     "execution_count": 401,
     "metadata": {},
     "output_type": "execute_result"
    }
   ],
   "source": [
    "dailypurchasenov.head()"
   ]
  },
  {
   "cell_type": "code",
   "execution_count": 402,
   "metadata": {},
   "outputs": [
    {
     "data": {
      "text/plain": [
       "event_time\n",
       "2019-10-01    134927\n",
       "2019-10-02    190569\n",
       "2019-10-03    118650\n",
       "2019-10-04    109957\n",
       "2019-10-05    100748\n",
       "Freq: D, Name: event_type_purchase, dtype: int64"
      ]
     },
     "execution_count": 402,
     "metadata": {},
     "output_type": "execute_result"
    }
   ],
   "source": [
    "dailypurchaseoct.head()"
   ]
  },
  {
   "cell_type": "code",
   "execution_count": 420,
   "metadata": {},
   "outputs": [],
   "source": [
    "dailysaleoct = pd.DataFrame(dailypurchaseoct)\n",
    "dailysalenov = pd.DataFrame(dailypurchasenov)\n",
    "dailysalenov.columns=['nov']\n",
    "dailysaleoct.columns=['oct']"
   ]
  },
  {
   "cell_type": "code",
   "execution_count": 421,
   "metadata": {},
   "outputs": [
    {
     "name": "stdout",
     "output_type": "stream",
     "text": [
      "<class 'pandas.core.frame.DataFrame'>\n",
      "DatetimeIndex: 31 entries, 2019-10-01 to 2019-10-31\n",
      "Freq: D\n",
      "Data columns (total 1 columns):\n",
      "oct    31 non-null int64\n",
      "dtypes: int64(1)\n",
      "memory usage: 496.0 bytes\n"
     ]
    }
   ],
   "source": [
    "dailysaleoct.info()"
   ]
  },
  {
   "cell_type": "code",
   "execution_count": 409,
   "metadata": {},
   "outputs": [
    {
     "name": "stdout",
     "output_type": "stream",
     "text": [
      "<class 'pandas.core.frame.DataFrame'>\n",
      "DatetimeIndex: 30 entries, 2019-11-01 to 2019-11-30\n",
      "Freq: D\n",
      "Data columns (total 1 columns):\n",
      "nov    30 non-null int64\n",
      "dtypes: int64(1)\n",
      "memory usage: 480.0 bytes\n"
     ]
    }
   ],
   "source": [
    "dailysalenov.info()"
   ]
  },
  {
   "cell_type": "code",
   "execution_count": 422,
   "metadata": {},
   "outputs": [
    {
     "data": {
      "text/html": [
       "<div>\n",
       "<style scoped>\n",
       "    .dataframe tbody tr th:only-of-type {\n",
       "        vertical-align: middle;\n",
       "    }\n",
       "\n",
       "    .dataframe tbody tr th {\n",
       "        vertical-align: top;\n",
       "    }\n",
       "\n",
       "    .dataframe thead th {\n",
       "        text-align: right;\n",
       "    }\n",
       "</style>\n",
       "<table border=\"1\" class=\"dataframe\">\n",
       "  <thead>\n",
       "    <tr style=\"text-align: right;\">\n",
       "      <th></th>\n",
       "      <th>oct</th>\n",
       "      <th>day</th>\n",
       "    </tr>\n",
       "    <tr>\n",
       "      <th>event_time</th>\n",
       "      <th></th>\n",
       "      <th></th>\n",
       "    </tr>\n",
       "  </thead>\n",
       "  <tbody>\n",
       "    <tr>\n",
       "      <td>2019-10-27</td>\n",
       "      <td>120539</td>\n",
       "      <td>27</td>\n",
       "    </tr>\n",
       "    <tr>\n",
       "      <td>2019-10-28</td>\n",
       "      <td>125821</td>\n",
       "      <td>28</td>\n",
       "    </tr>\n",
       "    <tr>\n",
       "      <td>2019-10-29</td>\n",
       "      <td>128302</td>\n",
       "      <td>29</td>\n",
       "    </tr>\n",
       "    <tr>\n",
       "      <td>2019-10-30</td>\n",
       "      <td>119777</td>\n",
       "      <td>30</td>\n",
       "    </tr>\n",
       "    <tr>\n",
       "      <td>2019-10-31</td>\n",
       "      <td>117010</td>\n",
       "      <td>31</td>\n",
       "    </tr>\n",
       "  </tbody>\n",
       "</table>\n",
       "</div>"
      ],
      "text/plain": [
       "               oct  day\n",
       "event_time             \n",
       "2019-10-27  120539   27\n",
       "2019-10-28  125821   28\n",
       "2019-10-29  128302   29\n",
       "2019-10-30  119777   30\n",
       "2019-10-31  117010   31"
      ]
     },
     "execution_count": 422,
     "metadata": {},
     "output_type": "execute_result"
    }
   ],
   "source": [
    "dailysaleoct['day'] = dailysaleoct.index.day\n",
    "dailysaleoct.tail()"
   ]
  },
  {
   "cell_type": "code",
   "execution_count": 423,
   "metadata": {},
   "outputs": [
    {
     "data": {
      "text/html": [
       "<div>\n",
       "<style scoped>\n",
       "    .dataframe tbody tr th:only-of-type {\n",
       "        vertical-align: middle;\n",
       "    }\n",
       "\n",
       "    .dataframe tbody tr th {\n",
       "        vertical-align: top;\n",
       "    }\n",
       "\n",
       "    .dataframe thead th {\n",
       "        text-align: right;\n",
       "    }\n",
       "</style>\n",
       "<table border=\"1\" class=\"dataframe\">\n",
       "  <thead>\n",
       "    <tr style=\"text-align: right;\">\n",
       "      <th></th>\n",
       "      <th>nov</th>\n",
       "      <th>day</th>\n",
       "    </tr>\n",
       "    <tr>\n",
       "      <th>event_time</th>\n",
       "      <th></th>\n",
       "      <th></th>\n",
       "    </tr>\n",
       "  </thead>\n",
       "  <tbody>\n",
       "    <tr>\n",
       "      <td>2019-11-26</td>\n",
       "      <td>127882</td>\n",
       "      <td>26</td>\n",
       "    </tr>\n",
       "    <tr>\n",
       "      <td>2019-11-27</td>\n",
       "      <td>138370</td>\n",
       "      <td>27</td>\n",
       "    </tr>\n",
       "    <tr>\n",
       "      <td>2019-11-28</td>\n",
       "      <td>212993</td>\n",
       "      <td>28</td>\n",
       "    </tr>\n",
       "    <tr>\n",
       "      <td>2019-11-29</td>\n",
       "      <td>195832</td>\n",
       "      <td>29</td>\n",
       "    </tr>\n",
       "    <tr>\n",
       "      <td>2019-11-30</td>\n",
       "      <td>152567</td>\n",
       "      <td>30</td>\n",
       "    </tr>\n",
       "  </tbody>\n",
       "</table>\n",
       "</div>"
      ],
      "text/plain": [
       "               nov  day\n",
       "event_time             \n",
       "2019-11-26  127882   26\n",
       "2019-11-27  138370   27\n",
       "2019-11-28  212993   28\n",
       "2019-11-29  195832   29\n",
       "2019-11-30  152567   30"
      ]
     },
     "execution_count": 423,
     "metadata": {},
     "output_type": "execute_result"
    }
   ],
   "source": [
    "dailysalenov['day'] = dailysalenov.index.day\n",
    "dailysalenov.tail()"
   ]
  },
  {
   "cell_type": "code",
   "execution_count": 424,
   "metadata": {},
   "outputs": [
    {
     "data": {
      "text/html": [
       "<div>\n",
       "<style scoped>\n",
       "    .dataframe tbody tr th:only-of-type {\n",
       "        vertical-align: middle;\n",
       "    }\n",
       "\n",
       "    .dataframe tbody tr th {\n",
       "        vertical-align: top;\n",
       "    }\n",
       "\n",
       "    .dataframe thead th {\n",
       "        text-align: right;\n",
       "    }\n",
       "</style>\n",
       "<table border=\"1\" class=\"dataframe\">\n",
       "  <thead>\n",
       "    <tr style=\"text-align: right;\">\n",
       "      <th></th>\n",
       "      <th>oct</th>\n",
       "      <th>day</th>\n",
       "      <th>nov</th>\n",
       "    </tr>\n",
       "  </thead>\n",
       "  <tbody>\n",
       "    <tr>\n",
       "      <td>0</td>\n",
       "      <td>134927</td>\n",
       "      <td>1</td>\n",
       "      <td>112138.0</td>\n",
       "    </tr>\n",
       "    <tr>\n",
       "      <td>1</td>\n",
       "      <td>190569</td>\n",
       "      <td>2</td>\n",
       "      <td>107948.0</td>\n",
       "    </tr>\n",
       "    <tr>\n",
       "      <td>2</td>\n",
       "      <td>118650</td>\n",
       "      <td>3</td>\n",
       "      <td>119425.0</td>\n",
       "    </tr>\n",
       "    <tr>\n",
       "      <td>3</td>\n",
       "      <td>109957</td>\n",
       "      <td>4</td>\n",
       "      <td>130273.0</td>\n",
       "    </tr>\n",
       "    <tr>\n",
       "      <td>4</td>\n",
       "      <td>100748</td>\n",
       "      <td>5</td>\n",
       "      <td>141810.0</td>\n",
       "    </tr>\n",
       "    <tr>\n",
       "      <td>5</td>\n",
       "      <td>175575</td>\n",
       "      <td>6</td>\n",
       "      <td>134756.0</td>\n",
       "    </tr>\n",
       "    <tr>\n",
       "      <td>6</td>\n",
       "      <td>171089</td>\n",
       "      <td>7</td>\n",
       "      <td>179379.0</td>\n",
       "    </tr>\n",
       "    <tr>\n",
       "      <td>7</td>\n",
       "      <td>139601</td>\n",
       "      <td>8</td>\n",
       "      <td>162066.0</td>\n",
       "    </tr>\n",
       "    <tr>\n",
       "      <td>8</td>\n",
       "      <td>132266</td>\n",
       "      <td>9</td>\n",
       "      <td>108192.0</td>\n",
       "    </tr>\n",
       "    <tr>\n",
       "      <td>9</td>\n",
       "      <td>125497</td>\n",
       "      <td>10</td>\n",
       "      <td>114671.0</td>\n",
       "    </tr>\n",
       "    <tr>\n",
       "      <td>10</td>\n",
       "      <td>112937</td>\n",
       "      <td>11</td>\n",
       "      <td>131191.0</td>\n",
       "    </tr>\n",
       "    <tr>\n",
       "      <td>11</td>\n",
       "      <td>105371</td>\n",
       "      <td>12</td>\n",
       "      <td>124530.0</td>\n",
       "    </tr>\n",
       "    <tr>\n",
       "      <td>12</td>\n",
       "      <td>110705</td>\n",
       "      <td>13</td>\n",
       "      <td>132286.0</td>\n",
       "    </tr>\n",
       "    <tr>\n",
       "      <td>13</td>\n",
       "      <td>127570</td>\n",
       "      <td>14</td>\n",
       "      <td>126872.0</td>\n",
       "    </tr>\n",
       "    <tr>\n",
       "      <td>14</td>\n",
       "      <td>124178</td>\n",
       "      <td>15</td>\n",
       "      <td>116972.0</td>\n",
       "    </tr>\n",
       "    <tr>\n",
       "      <td>15</td>\n",
       "      <td>129512</td>\n",
       "      <td>16</td>\n",
       "      <td>107167.0</td>\n",
       "    </tr>\n",
       "    <tr>\n",
       "      <td>16</td>\n",
       "      <td>127365</td>\n",
       "      <td>17</td>\n",
       "      <td>119917.0</td>\n",
       "    </tr>\n",
       "    <tr>\n",
       "      <td>17</td>\n",
       "      <td>113103</td>\n",
       "      <td>18</td>\n",
       "      <td>143065.0</td>\n",
       "    </tr>\n",
       "    <tr>\n",
       "      <td>18</td>\n",
       "      <td>98332</td>\n",
       "      <td>19</td>\n",
       "      <td>134222.0</td>\n",
       "    </tr>\n",
       "    <tr>\n",
       "      <td>19</td>\n",
       "      <td>108215</td>\n",
       "      <td>20</td>\n",
       "      <td>132689.0</td>\n",
       "    </tr>\n",
       "    <tr>\n",
       "      <td>20</td>\n",
       "      <td>132750</td>\n",
       "      <td>21</td>\n",
       "      <td>207671.0</td>\n",
       "    </tr>\n",
       "    <tr>\n",
       "      <td>21</td>\n",
       "      <td>129477</td>\n",
       "      <td>22</td>\n",
       "      <td>255954.0</td>\n",
       "    </tr>\n",
       "    <tr>\n",
       "      <td>22</td>\n",
       "      <td>126475</td>\n",
       "      <td>23</td>\n",
       "      <td>187899.0</td>\n",
       "    </tr>\n",
       "    <tr>\n",
       "      <td>23</td>\n",
       "      <td>123151</td>\n",
       "      <td>24</td>\n",
       "      <td>195051.0</td>\n",
       "    </tr>\n",
       "    <tr>\n",
       "      <td>24</td>\n",
       "      <td>106434</td>\n",
       "      <td>25</td>\n",
       "      <td>134585.0</td>\n",
       "    </tr>\n",
       "    <tr>\n",
       "      <td>25</td>\n",
       "      <td>103225</td>\n",
       "      <td>26</td>\n",
       "      <td>127882.0</td>\n",
       "    </tr>\n",
       "    <tr>\n",
       "      <td>26</td>\n",
       "      <td>120539</td>\n",
       "      <td>27</td>\n",
       "      <td>138370.0</td>\n",
       "    </tr>\n",
       "    <tr>\n",
       "      <td>27</td>\n",
       "      <td>125821</td>\n",
       "      <td>28</td>\n",
       "      <td>212993.0</td>\n",
       "    </tr>\n",
       "    <tr>\n",
       "      <td>28</td>\n",
       "      <td>128302</td>\n",
       "      <td>29</td>\n",
       "      <td>195832.0</td>\n",
       "    </tr>\n",
       "    <tr>\n",
       "      <td>29</td>\n",
       "      <td>119777</td>\n",
       "      <td>30</td>\n",
       "      <td>152567.0</td>\n",
       "    </tr>\n",
       "    <tr>\n",
       "      <td>30</td>\n",
       "      <td>117010</td>\n",
       "      <td>31</td>\n",
       "      <td>NaN</td>\n",
       "    </tr>\n",
       "  </tbody>\n",
       "</table>\n",
       "</div>"
      ],
      "text/plain": [
       "       oct  day       nov\n",
       "0   134927    1  112138.0\n",
       "1   190569    2  107948.0\n",
       "2   118650    3  119425.0\n",
       "3   109957    4  130273.0\n",
       "4   100748    5  141810.0\n",
       "5   175575    6  134756.0\n",
       "6   171089    7  179379.0\n",
       "7   139601    8  162066.0\n",
       "8   132266    9  108192.0\n",
       "9   125497   10  114671.0\n",
       "10  112937   11  131191.0\n",
       "11  105371   12  124530.0\n",
       "12  110705   13  132286.0\n",
       "13  127570   14  126872.0\n",
       "14  124178   15  116972.0\n",
       "15  129512   16  107167.0\n",
       "16  127365   17  119917.0\n",
       "17  113103   18  143065.0\n",
       "18   98332   19  134222.0\n",
       "19  108215   20  132689.0\n",
       "20  132750   21  207671.0\n",
       "21  129477   22  255954.0\n",
       "22  126475   23  187899.0\n",
       "23  123151   24  195051.0\n",
       "24  106434   25  134585.0\n",
       "25  103225   26  127882.0\n",
       "26  120539   27  138370.0\n",
       "27  125821   28  212993.0\n",
       "28  128302   29  195832.0\n",
       "29  119777   30  152567.0\n",
       "30  117010   31       NaN"
      ]
     },
     "execution_count": 424,
     "metadata": {},
     "output_type": "execute_result"
    }
   ],
   "source": [
    "#merge the dailypurchaseoct and dailypurchasenov in one dataframe\n",
    "dailysale = pd.merge(dailysaleoct, dailysalenov, how='left', on='day')\n",
    "dailysale"
   ]
  },
  {
   "cell_type": "code",
   "execution_count": 425,
   "metadata": {},
   "outputs": [
    {
     "data": {
      "text/html": [
       "<div>\n",
       "<style scoped>\n",
       "    .dataframe tbody tr th:only-of-type {\n",
       "        vertical-align: middle;\n",
       "    }\n",
       "\n",
       "    .dataframe tbody tr th {\n",
       "        vertical-align: top;\n",
       "    }\n",
       "\n",
       "    .dataframe thead th {\n",
       "        text-align: right;\n",
       "    }\n",
       "</style>\n",
       "<table border=\"1\" class=\"dataframe\">\n",
       "  <thead>\n",
       "    <tr style=\"text-align: right;\">\n",
       "      <th></th>\n",
       "      <th>day</th>\n",
       "      <th>month</th>\n",
       "      <th>sale</th>\n",
       "    </tr>\n",
       "  </thead>\n",
       "  <tbody>\n",
       "    <tr>\n",
       "      <td>0</td>\n",
       "      <td>1</td>\n",
       "      <td>oct</td>\n",
       "      <td>134927.0</td>\n",
       "    </tr>\n",
       "    <tr>\n",
       "      <td>1</td>\n",
       "      <td>2</td>\n",
       "      <td>oct</td>\n",
       "      <td>190569.0</td>\n",
       "    </tr>\n",
       "    <tr>\n",
       "      <td>2</td>\n",
       "      <td>3</td>\n",
       "      <td>oct</td>\n",
       "      <td>118650.0</td>\n",
       "    </tr>\n",
       "    <tr>\n",
       "      <td>3</td>\n",
       "      <td>4</td>\n",
       "      <td>oct</td>\n",
       "      <td>109957.0</td>\n",
       "    </tr>\n",
       "    <tr>\n",
       "      <td>4</td>\n",
       "      <td>5</td>\n",
       "      <td>oct</td>\n",
       "      <td>100748.0</td>\n",
       "    </tr>\n",
       "    <tr>\n",
       "      <td>...</td>\n",
       "      <td>...</td>\n",
       "      <td>...</td>\n",
       "      <td>...</td>\n",
       "    </tr>\n",
       "    <tr>\n",
       "      <td>57</td>\n",
       "      <td>27</td>\n",
       "      <td>nov</td>\n",
       "      <td>138370.0</td>\n",
       "    </tr>\n",
       "    <tr>\n",
       "      <td>58</td>\n",
       "      <td>28</td>\n",
       "      <td>nov</td>\n",
       "      <td>212993.0</td>\n",
       "    </tr>\n",
       "    <tr>\n",
       "      <td>59</td>\n",
       "      <td>29</td>\n",
       "      <td>nov</td>\n",
       "      <td>195832.0</td>\n",
       "    </tr>\n",
       "    <tr>\n",
       "      <td>60</td>\n",
       "      <td>30</td>\n",
       "      <td>nov</td>\n",
       "      <td>152567.0</td>\n",
       "    </tr>\n",
       "    <tr>\n",
       "      <td>61</td>\n",
       "      <td>31</td>\n",
       "      <td>nov</td>\n",
       "      <td>NaN</td>\n",
       "    </tr>\n",
       "  </tbody>\n",
       "</table>\n",
       "<p>62 rows × 3 columns</p>\n",
       "</div>"
      ],
      "text/plain": [
       "    day month      sale\n",
       "0     1   oct  134927.0\n",
       "1     2   oct  190569.0\n",
       "2     3   oct  118650.0\n",
       "3     4   oct  109957.0\n",
       "4     5   oct  100748.0\n",
       "..  ...   ...       ...\n",
       "57   27   nov  138370.0\n",
       "58   28   nov  212993.0\n",
       "59   29   nov  195832.0\n",
       "60   30   nov  152567.0\n",
       "61   31   nov       NaN\n",
       "\n",
       "[62 rows x 3 columns]"
      ]
     },
     "execution_count": 425,
     "metadata": {},
     "output_type": "execute_result"
    }
   ],
   "source": [
    "dsales = pd.melt(dailysale, id_vars=['day'], value_vars=['oct','nov'], value_name='sale', var_name='month')\n",
    "dsales"
   ]
  },
  {
   "cell_type": "code",
   "execution_count": 426,
   "metadata": {},
   "outputs": [
    {
     "data": {
      "image/png": "[encoded data removed]",
      "text/plain": [
       "<Figure size 432x288 with 1 Axes>"
      ]
     },
     "metadata": {},
     "output_type": "display_data"
    }
   ],
   "source": [
    "#plot daily purchase trend for oct and nov together\n",
    "sns.set(style=\"whitegrid\")\n",
    "\n",
    "sns.lineplot(x = \"day\", y = \"sale\", data = dsales, hue = \"month\",\n",
    "            palette = \"hot\", dashes = False, \n",
    "            markers = [\"o\", \"<\"],  legend=\"brief\",)\n",
    " \n",
    "plt.title(\"Line Plot\", fontsize = 20) # for title\n",
    "plt.xlabel(\"Day\", fontsize = 15) # label for x-axis\n",
    "plt.ylabel(\"Sale\", fontsize = 15) # label for y-axis\n",
    "plt.show()\n"
   ]
  },
  {
   "cell_type": "code",
   "execution_count": null,
   "metadata": {},
   "outputs": [],
   "source": [
    "#To Do compare hourly sales in Oct for few days to see if there is any trend - week days and weekends"
   ]
  }
 ],
 "metadata": {
  "kernelspec": {
   "display_name": "Python 3",
   "language": "python",
   "name": "python3"
  },
  "language_info": {
   "codemirror_mode": {
    "name": "ipython",
    "version": 3
   },
   "file_extension": ".py",
   "mimetype": "text/x-python",
   "name": "python",
   "nbconvert_exporter": "python",
   "pygments_lexer": "ipython3",
   "version": "3.7.4"
  }
 },
 "nbformat": 4,
 "nbformat_minor": 2
}
